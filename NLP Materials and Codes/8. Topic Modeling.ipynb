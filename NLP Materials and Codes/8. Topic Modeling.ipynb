{
 "cells": [
  {
   "cell_type": "markdown",
   "metadata": {},
   "source": [
    "# Data\n",
    "\n",
    "The data set we’ll use is a list of over one million news headlines published over a period of 15 years and can be downloaded from Kaggle (https://www.kaggle.com/therohk/million-headlines/data)"
   ]
  },
  {
   "cell_type": "code",
   "execution_count": 1,
   "metadata": {
    "ExecuteTime": {
     "end_time": "2020-04-13T11:56:27.080176Z",
     "start_time": "2020-04-13T11:56:21.568409Z"
    }
   },
   "outputs": [],
   "source": [
    "import pandas as pd\n",
    "import zipfile\n",
    "\n",
    "zf = zipfile.ZipFile(r\"C:\\Users\\saurabhkumar9\\1. NLP Practicum Materials\\Data\\million-headlines.zip\") \n",
    "data = pd.read_csv(zf.open('abcnews-date-text.csv'))"
   ]
  },
  {
   "cell_type": "code",
   "execution_count": 2,
   "metadata": {
    "ExecuteTime": {
     "end_time": "2020-04-13T11:56:31.363900Z",
     "start_time": "2020-04-13T11:56:31.295085Z"
    }
   },
   "outputs": [
    {
     "name": "stdout",
     "output_type": "stream",
     "text": [
      "1186018\n",
      "                                       headline_text  index\n",
      "0  aba decides against community broadcasting lic...      0\n",
      "1     act fire witnesses must be aware of defamation      1\n",
      "2     a g calls for infrastructure protection summit      2\n",
      "3           air nz staff in aust strike for pay rise      3\n",
      "4      air nz strike to affect australian travellers      4\n"
     ]
    }
   ],
   "source": [
    "data_text = data[['headline_text']]\n",
    "data_text['index'] = data_text.index\n",
    "documents = data_text\n",
    "\n",
    "print(len(documents))\n",
    "print(documents[:5])"
   ]
  },
  {
   "cell_type": "markdown",
   "metadata": {},
   "source": [
    "# Data Pre-processing"
   ]
  },
  {
   "cell_type": "code",
   "execution_count": 3,
   "metadata": {
    "ExecuteTime": {
     "end_time": "2020-04-13T11:56:48.816289Z",
     "start_time": "2020-04-13T11:56:39.984396Z"
    }
   },
   "outputs": [],
   "source": [
    "import gensim\n",
    "from gensim.utils import simple_preprocess\n",
    "from gensim.parsing.preprocessing import STOPWORDS\n",
    "from nltk.stem import WordNetLemmatizer, SnowballStemmer\n",
    "from nltk.stem.porter import *\n",
    "import numpy as np\n",
    "np.random.seed(2018)"
   ]
  },
  {
   "cell_type": "code",
   "execution_count": 14,
   "metadata": {
    "ExecuteTime": {
     "end_time": "2020-04-10T07:28:33.527537Z",
     "start_time": "2020-04-10T07:28:33.006281Z"
    }
   },
   "outputs": [
    {
     "name": "stderr",
     "output_type": "stream",
     "text": [
      "[nltk_data] Downloading package wordnet to\n",
      "[nltk_data]     C:\\Users\\saurabhkumar9\\AppData\\Roaming\\nltk_data...\n",
      "[nltk_data]   Package wordnet is already up-to-date!\n"
     ]
    },
    {
     "data": {
      "text/plain": [
       "True"
      ]
     },
     "execution_count": 14,
     "metadata": {},
     "output_type": "execute_result"
    }
   ],
   "source": [
    "import nltk\n",
    "nltk.download('wordnet')"
   ]
  },
  {
   "cell_type": "markdown",
   "metadata": {},
   "source": [
    "**Lemmatize and Stemming**"
   ]
  },
  {
   "cell_type": "code",
   "execution_count": 21,
   "metadata": {
    "ExecuteTime": {
     "end_time": "2020-04-10T07:31:19.595159Z",
     "start_time": "2020-04-10T07:31:19.590171Z"
    }
   },
   "outputs": [
    {
     "name": "stdout",
     "output_type": "stream",
     "text": [
      "go\n"
     ]
    }
   ],
   "source": [
    "print(WordNetLemmatizer().lemmatize('went', pos='v'))"
   ]
  },
  {
   "cell_type": "code",
   "execution_count": 18,
   "metadata": {
    "ExecuteTime": {
     "end_time": "2020-04-10T07:30:31.034588Z",
     "start_time": "2020-04-10T07:30:31.021623Z"
    },
    "collapsed": true
   },
   "outputs": [
    {
     "data": {
      "text/html": [
       "<div>\n",
       "<style scoped>\n",
       "    .dataframe tbody tr th:only-of-type {\n",
       "        vertical-align: middle;\n",
       "    }\n",
       "\n",
       "    .dataframe tbody tr th {\n",
       "        vertical-align: top;\n",
       "    }\n",
       "\n",
       "    .dataframe thead th {\n",
       "        text-align: right;\n",
       "    }\n",
       "</style>\n",
       "<table border=\"1\" class=\"dataframe\">\n",
       "  <thead>\n",
       "    <tr style=\"text-align: right;\">\n",
       "      <th></th>\n",
       "      <th>original word</th>\n",
       "      <th>stemmed</th>\n",
       "    </tr>\n",
       "  </thead>\n",
       "  <tbody>\n",
       "    <tr>\n",
       "      <th>0</th>\n",
       "      <td>caresses</td>\n",
       "      <td>caress</td>\n",
       "    </tr>\n",
       "    <tr>\n",
       "      <th>1</th>\n",
       "      <td>flies</td>\n",
       "      <td>fli</td>\n",
       "    </tr>\n",
       "    <tr>\n",
       "      <th>2</th>\n",
       "      <td>dies</td>\n",
       "      <td>die</td>\n",
       "    </tr>\n",
       "    <tr>\n",
       "      <th>3</th>\n",
       "      <td>mules</td>\n",
       "      <td>mule</td>\n",
       "    </tr>\n",
       "    <tr>\n",
       "      <th>4</th>\n",
       "      <td>denied</td>\n",
       "      <td>deni</td>\n",
       "    </tr>\n",
       "    <tr>\n",
       "      <th>5</th>\n",
       "      <td>died</td>\n",
       "      <td>die</td>\n",
       "    </tr>\n",
       "    <tr>\n",
       "      <th>6</th>\n",
       "      <td>agreed</td>\n",
       "      <td>agre</td>\n",
       "    </tr>\n",
       "    <tr>\n",
       "      <th>7</th>\n",
       "      <td>owned</td>\n",
       "      <td>own</td>\n",
       "    </tr>\n",
       "    <tr>\n",
       "      <th>8</th>\n",
       "      <td>humbled</td>\n",
       "      <td>humbl</td>\n",
       "    </tr>\n",
       "    <tr>\n",
       "      <th>9</th>\n",
       "      <td>sized</td>\n",
       "      <td>size</td>\n",
       "    </tr>\n",
       "    <tr>\n",
       "      <th>10</th>\n",
       "      <td>meeting</td>\n",
       "      <td>meet</td>\n",
       "    </tr>\n",
       "    <tr>\n",
       "      <th>11</th>\n",
       "      <td>stating</td>\n",
       "      <td>state</td>\n",
       "    </tr>\n",
       "    <tr>\n",
       "      <th>12</th>\n",
       "      <td>siezing</td>\n",
       "      <td>siez</td>\n",
       "    </tr>\n",
       "    <tr>\n",
       "      <th>13</th>\n",
       "      <td>itemization</td>\n",
       "      <td>item</td>\n",
       "    </tr>\n",
       "    <tr>\n",
       "      <th>14</th>\n",
       "      <td>sensational</td>\n",
       "      <td>sensat</td>\n",
       "    </tr>\n",
       "    <tr>\n",
       "      <th>15</th>\n",
       "      <td>traditional</td>\n",
       "      <td>tradit</td>\n",
       "    </tr>\n",
       "    <tr>\n",
       "      <th>16</th>\n",
       "      <td>reference</td>\n",
       "      <td>refer</td>\n",
       "    </tr>\n",
       "    <tr>\n",
       "      <th>17</th>\n",
       "      <td>colonizer</td>\n",
       "      <td>colon</td>\n",
       "    </tr>\n",
       "    <tr>\n",
       "      <th>18</th>\n",
       "      <td>plotted</td>\n",
       "      <td>plot</td>\n",
       "    </tr>\n",
       "  </tbody>\n",
       "</table>\n",
       "</div>"
      ],
      "text/plain": [
       "   original word stemmed\n",
       "0       caresses  caress\n",
       "1          flies     fli\n",
       "2           dies     die\n",
       "3          mules    mule\n",
       "4         denied    deni\n",
       "5           died     die\n",
       "6         agreed    agre\n",
       "7          owned     own\n",
       "8        humbled   humbl\n",
       "9          sized    size\n",
       "10       meeting    meet\n",
       "11       stating   state\n",
       "12       siezing    siez\n",
       "13   itemization    item\n",
       "14   sensational  sensat\n",
       "15   traditional  tradit\n",
       "16     reference   refer\n",
       "17     colonizer   colon\n",
       "18       plotted    plot"
      ]
     },
     "execution_count": 18,
     "metadata": {},
     "output_type": "execute_result"
    }
   ],
   "source": [
    "stemmer = SnowballStemmer('english')\n",
    "original_words = ['caresses', 'flies', 'dies', 'mules', 'denied','died', 'agreed', 'owned', \n",
    "           'humbled', 'sized','meeting', 'stating', 'siezing', 'itemization','sensational', \n",
    "           'traditional', 'reference', 'colonizer','plotted']\n",
    "singles = [stemmer.stem(plural) for plural in original_words]\n",
    "pd.DataFrame(data = {'original word': original_words, 'stemmed': singles})"
   ]
  },
  {
   "cell_type": "code",
   "execution_count": 19,
   "metadata": {
    "ExecuteTime": {
     "end_time": "2020-04-10T07:31:01.395060Z",
     "start_time": "2020-04-10T07:31:01.390073Z"
    }
   },
   "outputs": [],
   "source": [
    "def lemmatize_stemming(text):\n",
    "    return stemmer.stem(WordNetLemmatizer().lemmatize(text, pos='v'))\n",
    "\n",
    "def preprocess(text):\n",
    "    result = []\n",
    "    for token in gensim.utils.simple_preprocess(text):\n",
    "        if token not in gensim.parsing.preprocessing.STOPWORDS and len(token) > 3:\n",
    "            result.append(lemmatize_stemming(token))\n",
    "    return result"
   ]
  },
  {
   "cell_type": "code",
   "execution_count": 20,
   "metadata": {
    "ExecuteTime": {
     "end_time": "2020-04-10T07:31:04.865664Z",
     "start_time": "2020-04-10T07:31:04.855691Z"
    }
   },
   "outputs": [
    {
     "name": "stdout",
     "output_type": "stream",
     "text": [
      "original document: \n",
      "['ratepayers', 'group', 'wants', 'compulsory', 'local', 'govt', 'voting']\n",
      "\n",
      "\n",
      " tokenized and lemmatized document: \n",
      "['ratepay', 'group', 'want', 'compulsori', 'local', 'govt', 'vote']\n"
     ]
    }
   ],
   "source": [
    "doc_sample = documents[documents['index'] == 4310].values[0][0]\n",
    "print('original document: ')\n",
    "\n",
    "words = []\n",
    "for word in doc_sample.split(' '):\n",
    "    words.append(word)\n",
    "print(words)\n",
    "print('\\n\\n tokenized and lemmatized document: ')\n",
    "print(preprocess(doc_sample))"
   ]
  },
  {
   "cell_type": "code",
   "execution_count": 22,
   "metadata": {
    "ExecuteTime": {
     "end_time": "2020-04-10T07:35:58.240219Z",
     "start_time": "2020-04-10T07:32:38.660263Z"
    }
   },
   "outputs": [],
   "source": [
    "processed_docs = documents['headline_text'].map(preprocess) # Applying on all the data"
   ]
  },
  {
   "cell_type": "code",
   "execution_count": 23,
   "metadata": {
    "ExecuteTime": {
     "end_time": "2020-04-10T07:41:31.736246Z",
     "start_time": "2020-04-10T07:41:31.727269Z"
    }
   },
   "outputs": [
    {
     "data": {
      "text/plain": [
       "0            [decid, communiti, broadcast, licenc]\n",
       "1                               [wit, awar, defam]\n",
       "2           [call, infrastructur, protect, summit]\n",
       "3                      [staff, aust, strike, rise]\n",
       "4             [strike, affect, australian, travel]\n",
       "5               [ambiti, olsson, win, tripl, jump]\n",
       "6           [antic, delight, record, break, barca]\n",
       "7    [aussi, qualifi, stosur, wast, memphi, match]\n",
       "8            [aust, address, secur, council, iraq]\n",
       "9                         [australia, lock, timet]\n",
       "Name: headline_text, dtype: object"
      ]
     },
     "execution_count": 23,
     "metadata": {},
     "output_type": "execute_result"
    }
   ],
   "source": [
    "processed_docs[:10]"
   ]
  },
  {
   "cell_type": "markdown",
   "metadata": {
    "heading_collapsed": true
   },
   "source": [
    "# Bag of words on the dataset"
   ]
  },
  {
   "cell_type": "code",
   "execution_count": 24,
   "metadata": {
    "ExecuteTime": {
     "end_time": "2020-04-10T07:41:54.493117Z",
     "start_time": "2020-04-10T07:41:36.684999Z"
    },
    "hidden": true
   },
   "outputs": [],
   "source": [
    "dictionary = gensim.corpora.Dictionary(processed_docs)"
   ]
  },
  {
   "cell_type": "markdown",
   "metadata": {
    "hidden": true
   },
   "source": [
    "Create a dictionary from ‘processed_docs’ containing the number of times a word appears in the training set."
   ]
  },
  {
   "cell_type": "code",
   "execution_count": 25,
   "metadata": {
    "ExecuteTime": {
     "end_time": "2020-04-10T07:41:54.534020Z",
     "start_time": "2020-04-10T07:41:54.495101Z"
    },
    "hidden": true
   },
   "outputs": [
    {
     "name": "stdout",
     "output_type": "stream",
     "text": [
      "0 broadcast\n",
      "1 communiti\n",
      "2 decid\n",
      "3 licenc\n",
      "4 awar\n",
      "5 defam\n",
      "6 wit\n",
      "7 call\n",
      "8 infrastructur\n",
      "9 protect\n",
      "10 summit\n"
     ]
    }
   ],
   "source": [
    "count = 0\n",
    "for k, v in dictionary.iteritems():\n",
    "    print(k, v)\n",
    "    count += 1\n",
    "    if count > 10:\n",
    "        break"
   ]
  },
  {
   "cell_type": "markdown",
   "metadata": {
    "hidden": true
   },
   "source": [
    "**Filter out tokens that appear in**\n",
    "* less than 15 documents (absolute number) or\n",
    "* more than 0.5 documents (fraction of total corpus size, not absolute number).\n",
    "* after the above two steps, keep only the first 100000 most frequent tokens."
   ]
  },
  {
   "cell_type": "code",
   "execution_count": 26,
   "metadata": {
    "ExecuteTime": {
     "end_time": "2020-04-10T07:43:03.573030Z",
     "start_time": "2020-04-10T07:43:03.464308Z"
    },
    "hidden": true
   },
   "outputs": [],
   "source": [
    "dictionary.filter_extremes(no_below=15, no_above=0.5, keep_n=100000)"
   ]
  },
  {
   "cell_type": "markdown",
   "metadata": {
    "hidden": true
   },
   "source": [
    "**Gensim doc2bow**\n",
    "\n",
    "For each document we create a dictionary reporting how many words and how many times those words appear. Save this to ‘bow_corpus’, then check our selected document earlier."
   ]
  },
  {
   "cell_type": "code",
   "execution_count": 27,
   "metadata": {
    "ExecuteTime": {
     "end_time": "2020-04-10T07:43:13.582216Z",
     "start_time": "2020-04-10T07:43:04.740308Z"
    },
    "hidden": true
   },
   "outputs": [
    {
     "data": {
      "text/plain": [
       "[(162, 1), (240, 1), (292, 1), (589, 1), (838, 1), (3567, 1), (3568, 1)]"
      ]
     },
     "execution_count": 27,
     "metadata": {},
     "output_type": "execute_result"
    }
   ],
   "source": [
    "bow_corpus = [dictionary.doc2bow(doc) for doc in processed_docs]\n",
    "bow_corpus[4310]"
   ]
  },
  {
   "cell_type": "markdown",
   "metadata": {
    "ExecuteTime": {
     "end_time": "2020-04-10T07:52:20.216162Z",
     "start_time": "2020-04-10T07:52:20.211174Z"
    },
    "hidden": true
   },
   "source": [
    "**Preview Bag Of Words for our sample preprocessed document**"
   ]
  },
  {
   "cell_type": "code",
   "execution_count": 28,
   "metadata": {
    "ExecuteTime": {
     "end_time": "2020-04-10T07:43:55.621702Z",
     "start_time": "2020-04-10T07:43:55.613722Z"
    },
    "hidden": true
   },
   "outputs": [
    {
     "name": "stdout",
     "output_type": "stream",
     "text": [
      "Word 162 (\"govt\") appears 1 time.\n",
      "Word 240 (\"group\") appears 1 time.\n",
      "Word 292 (\"vote\") appears 1 time.\n",
      "Word 589 (\"local\") appears 1 time.\n",
      "Word 838 (\"want\") appears 1 time.\n",
      "Word 3567 (\"compulsori\") appears 1 time.\n",
      "Word 3568 (\"ratepay\") appears 1 time.\n"
     ]
    }
   ],
   "source": [
    "bow_doc_4310 = bow_corpus[4310]\n",
    "\n",
    "for i in range(len(bow_doc_4310)):\n",
    "    print(\"Word {} (\\\"{}\\\") appears {} time.\".format(bow_doc_4310[i][0], \n",
    "                                                     dictionary[bow_doc_4310[i][0]], \n",
    "                                                     bow_doc_4310[i][1]))"
   ]
  },
  {
   "cell_type": "markdown",
   "metadata": {
    "heading_collapsed": true
   },
   "source": [
    "# TF-IDF\n",
    "\n",
    "Create tf-idf model object using models.TfidfModel on ‘bow_corpus’ and save it to ‘tfidf’, then apply transformation to the entire corpus and call it ‘corpus_tfidf’. Finally we preview TF-IDF scores for our first document."
   ]
  },
  {
   "cell_type": "code",
   "execution_count": 29,
   "metadata": {
    "ExecuteTime": {
     "end_time": "2020-04-10T07:44:50.603282Z",
     "start_time": "2020-04-10T07:44:48.949138Z"
    },
    "hidden": true
   },
   "outputs": [],
   "source": [
    "from gensim import corpora, models\n",
    "\n",
    "tfidf = models.TfidfModel(bow_corpus)"
   ]
  },
  {
   "cell_type": "code",
   "execution_count": 30,
   "metadata": {
    "ExecuteTime": {
     "end_time": "2020-04-10T07:44:50.611250Z",
     "start_time": "2020-04-10T07:44:50.606265Z"
    },
    "hidden": true
   },
   "outputs": [],
   "source": [
    "corpus_tfidf = tfidf[bow_corpus]"
   ]
  },
  {
   "cell_type": "code",
   "execution_count": 31,
   "metadata": {
    "ExecuteTime": {
     "end_time": "2020-04-10T07:44:50.666106Z",
     "start_time": "2020-04-10T07:44:50.655135Z"
    },
    "hidden": true
   },
   "outputs": [
    {
     "name": "stdout",
     "output_type": "stream",
     "text": [
      "[(0, 0.5850076620505259),\n",
      " (1, 0.38947256567331934),\n",
      " (2, 0.4997099083387053),\n",
      " (3, 0.5063271308533074)]\n"
     ]
    }
   ],
   "source": [
    "from pprint import pprint\n",
    "\n",
    "for doc in corpus_tfidf:\n",
    "    pprint(doc)\n",
    "    break"
   ]
  },
  {
   "cell_type": "markdown",
   "metadata": {
    "hidden": true
   },
   "source": [
    "## Running LDA using Bag of Words\n",
    "\n",
    "Train our lda model using gensim.models.LdaMulticore and save it to ‘lda_model’"
   ]
  },
  {
   "cell_type": "code",
   "execution_count": 32,
   "metadata": {
    "ExecuteTime": {
     "end_time": "2020-04-10T07:50:49.111903Z",
     "start_time": "2020-04-10T07:45:17.741133Z"
    },
    "hidden": true
   },
   "outputs": [],
   "source": [
    "lda_model = gensim.models.LdaMulticore(bow_corpus, num_topics=10, id2word=dictionary, passes=2, workers=2)"
   ]
  },
  {
   "cell_type": "markdown",
   "metadata": {
    "hidden": true
   },
   "source": [
    "For each topic, we will explore the words occuring in that topic and its relative weight."
   ]
  },
  {
   "cell_type": "code",
   "execution_count": 35,
   "metadata": {
    "ExecuteTime": {
     "end_time": "2020-04-10T07:53:23.157305Z",
     "start_time": "2020-04-10T07:53:23.148328Z"
    },
    "hidden": true
   },
   "outputs": [
    {
     "name": "stdout",
     "output_type": "stream",
     "text": [
      "Topic: 0 \n",
      "Words: 0.022*\"hous\" + 0.022*\"south\" + 0.020*\"north\" + 0.016*\"miss\" + 0.015*\"bushfir\" + 0.013*\"interview\" + 0.012*\"west\" + 0.011*\"hospit\" + 0.011*\"coast\" + 0.011*\"investig\"\n",
      "Topic: 1 \n",
      "Words: 0.031*\"kill\" + 0.023*\"shoot\" + 0.021*\"protest\" + 0.020*\"dead\" + 0.020*\"polic\" + 0.020*\"attack\" + 0.014*\"offic\" + 0.013*\"assault\" + 0.013*\"chines\" + 0.011*\"michael\"\n",
      "Topic: 2 \n",
      "Words: 0.057*\"australia\" + 0.046*\"australian\" + 0.026*\"world\" + 0.018*\"canberra\" + 0.017*\"test\" + 0.013*\"win\" + 0.011*\"final\" + 0.011*\"farm\" + 0.010*\"return\" + 0.010*\"beat\"\n",
      "Topic: 3 \n",
      "Words: 0.030*\"polic\" + 0.029*\"charg\" + 0.026*\"court\" + 0.024*\"death\" + 0.024*\"murder\" + 0.020*\"woman\" + 0.018*\"crash\" + 0.017*\"face\" + 0.017*\"alleg\" + 0.013*\"jail\"\n",
      "Topic: 4 \n",
      "Words: 0.019*\"chang\" + 0.019*\"say\" + 0.015*\"speak\" + 0.015*\"power\" + 0.013*\"worker\" + 0.012*\"concern\" + 0.012*\"climat\" + 0.011*\"polit\" + 0.011*\"flood\" + 0.010*\"fear\"\n",
      "Topic: 5 \n",
      "Words: 0.021*\"market\" + 0.019*\"news\" + 0.018*\"women\" + 0.017*\"live\" + 0.016*\"tasmania\" + 0.013*\"rise\" + 0.013*\"high\" + 0.012*\"price\" + 0.012*\"lose\" + 0.011*\"street\"\n",
      "Topic: 6 \n",
      "Words: 0.036*\"elect\" + 0.018*\"water\" + 0.018*\"state\" + 0.016*\"tasmanian\" + 0.012*\"labor\" + 0.012*\"liber\" + 0.011*\"morrison\" + 0.011*\"parti\" + 0.010*\"campaign\" + 0.010*\"give\"\n",
      "Topic: 7 \n",
      "Words: 0.020*\"donald\" + 0.014*\"nation\" + 0.014*\"farmer\" + 0.013*\"rural\" + 0.013*\"time\" + 0.013*\"council\" + 0.012*\"indigen\" + 0.012*\"school\" + 0.011*\"plan\" + 0.011*\"commiss\"\n",
      "Topic: 8 \n",
      "Words: 0.044*\"trump\" + 0.036*\"year\" + 0.034*\"sydney\" + 0.027*\"queensland\" + 0.022*\"home\" + 0.020*\"adelaid\" + 0.018*\"perth\" + 0.016*\"brisban\" + 0.015*\"leav\" + 0.015*\"peopl\"\n",
      "Topic: 9 \n",
      "Words: 0.031*\"govern\" + 0.020*\"warn\" + 0.019*\"feder\" + 0.015*\"countri\" + 0.015*\"fund\" + 0.015*\"claim\" + 0.014*\"life\" + 0.013*\"say\" + 0.012*\"health\" + 0.011*\"stori\"\n"
     ]
    }
   ],
   "source": [
    "for idx, topic in lda_model.print_topics(-1):\n",
    "    print('Topic: {} \\nWords: {}'.format(idx, topic))"
   ]
  },
  {
   "cell_type": "markdown",
   "metadata": {
    "hidden": true
   },
   "source": [
    "Can you distinguish different topics using the words in each topic and their corresponding weights?"
   ]
  },
  {
   "cell_type": "markdown",
   "metadata": {
    "hidden": true
   },
   "source": [
    "## Running LDA using TF-IDF"
   ]
  },
  {
   "cell_type": "code",
   "execution_count": 36,
   "metadata": {
    "ExecuteTime": {
     "end_time": "2020-04-10T07:59:44.928425Z",
     "start_time": "2020-04-10T07:53:59.493010Z"
    },
    "hidden": true
   },
   "outputs": [],
   "source": [
    "lda_model_tfidf = gensim.models.LdaMulticore(corpus_tfidf, num_topics=10, id2word=dictionary, passes=2, workers=4)"
   ]
  },
  {
   "cell_type": "code",
   "execution_count": null,
   "metadata": {
    "hidden": true
   },
   "outputs": [],
   "source": [
    "for idx, topic in lda_model_tfidf.print_topics(-1):\n",
    "    print('Topic: {} Word: {}'.format(idx, topic))"
   ]
  },
  {
   "cell_type": "markdown",
   "metadata": {
    "hidden": true
   },
   "source": [
    "Again, can you distinguish different topics using the words in each topic and their corresponding weights?"
   ]
  },
  {
   "cell_type": "markdown",
   "metadata": {
    "ExecuteTime": {
     "end_time": "2020-04-10T07:50:49.123872Z",
     "start_time": "2020-04-10T07:50:49.116890Z"
    },
    "heading_collapsed": true
   },
   "source": [
    "# Classification of the topics"
   ]
  },
  {
   "cell_type": "markdown",
   "metadata": {
    "heading_collapsed": true,
    "hidden": true
   },
   "source": [
    "## Performance evaluation by classifying sample document using LDA Bag of Words model\n",
    "\n",
    "We will check where our test document would be classified."
   ]
  },
  {
   "cell_type": "code",
   "execution_count": 37,
   "metadata": {
    "ExecuteTime": {
     "end_time": "2020-04-10T08:13:50.603546Z",
     "start_time": "2020-04-10T08:13:50.557669Z"
    },
    "hidden": true
   },
   "outputs": [
    {
     "data": {
      "text/plain": [
       "['ratepay', 'group', 'want', 'compulsori', 'local', 'govt', 'vote']"
      ]
     },
     "execution_count": 37,
     "metadata": {},
     "output_type": "execute_result"
    }
   ],
   "source": [
    "processed_docs[4310]"
   ]
  },
  {
   "cell_type": "code",
   "execution_count": 38,
   "metadata": {
    "ExecuteTime": {
     "end_time": "2020-04-10T08:13:51.545765Z",
     "start_time": "2020-04-10T08:13:51.524823Z"
    },
    "hidden": true
   },
   "outputs": [
    {
     "name": "stdout",
     "output_type": "stream",
     "text": [
      "\n",
      "Score: 0.45473378896713257\t \n",
      "Topic: 0.020*\"donald\" + 0.014*\"nation\" + 0.014*\"farmer\" + 0.013*\"rural\" + 0.013*\"time\" + 0.013*\"council\" + 0.012*\"indigen\" + 0.012*\"school\" + 0.011*\"plan\" + 0.011*\"commiss\"\n",
      "\n",
      "Score: 0.4452346861362457\t \n",
      "Topic: 0.031*\"govern\" + 0.020*\"warn\" + 0.019*\"feder\" + 0.015*\"countri\" + 0.015*\"fund\" + 0.015*\"claim\" + 0.014*\"life\" + 0.013*\"say\" + 0.012*\"health\" + 0.011*\"stori\"\n",
      "\n",
      "Score: 0.012506541796028614\t \n",
      "Topic: 0.036*\"elect\" + 0.018*\"water\" + 0.018*\"state\" + 0.016*\"tasmanian\" + 0.012*\"labor\" + 0.012*\"liber\" + 0.011*\"morrison\" + 0.011*\"parti\" + 0.010*\"campaign\" + 0.010*\"give\"\n",
      "\n",
      "Score: 0.012503868900239468\t \n",
      "Topic: 0.019*\"chang\" + 0.019*\"say\" + 0.015*\"speak\" + 0.015*\"power\" + 0.013*\"worker\" + 0.012*\"concern\" + 0.012*\"climat\" + 0.011*\"polit\" + 0.011*\"flood\" + 0.010*\"fear\"\n",
      "\n",
      "Score: 0.012503519654273987\t \n",
      "Topic: 0.022*\"hous\" + 0.022*\"south\" + 0.020*\"north\" + 0.016*\"miss\" + 0.015*\"bushfir\" + 0.013*\"interview\" + 0.012*\"west\" + 0.011*\"hospit\" + 0.011*\"coast\" + 0.011*\"investig\"\n",
      "\n",
      "Score: 0.012503519654273987\t \n",
      "Topic: 0.031*\"kill\" + 0.023*\"shoot\" + 0.021*\"protest\" + 0.020*\"dead\" + 0.020*\"polic\" + 0.020*\"attack\" + 0.014*\"offic\" + 0.013*\"assault\" + 0.013*\"chines\" + 0.011*\"michael\"\n",
      "\n",
      "Score: 0.012503519654273987\t \n",
      "Topic: 0.057*\"australia\" + 0.046*\"australian\" + 0.026*\"world\" + 0.018*\"canberra\" + 0.017*\"test\" + 0.013*\"win\" + 0.011*\"final\" + 0.011*\"farm\" + 0.010*\"return\" + 0.010*\"beat\"\n",
      "\n",
      "Score: 0.012503519654273987\t \n",
      "Topic: 0.030*\"polic\" + 0.029*\"charg\" + 0.026*\"court\" + 0.024*\"death\" + 0.024*\"murder\" + 0.020*\"woman\" + 0.018*\"crash\" + 0.017*\"face\" + 0.017*\"alleg\" + 0.013*\"jail\"\n",
      "\n",
      "Score: 0.012503519654273987\t \n",
      "Topic: 0.021*\"market\" + 0.019*\"news\" + 0.018*\"women\" + 0.017*\"live\" + 0.016*\"tasmania\" + 0.013*\"rise\" + 0.013*\"high\" + 0.012*\"price\" + 0.012*\"lose\" + 0.011*\"street\"\n",
      "\n",
      "Score: 0.012503519654273987\t \n",
      "Topic: 0.044*\"trump\" + 0.036*\"year\" + 0.034*\"sydney\" + 0.027*\"queensland\" + 0.022*\"home\" + 0.020*\"adelaid\" + 0.018*\"perth\" + 0.016*\"brisban\" + 0.015*\"leav\" + 0.015*\"peopl\"\n"
     ]
    }
   ],
   "source": [
    "for index, score in sorted(lda_model[bow_corpus[4310]], key=lambda tup: -1*tup[1]):\n",
    "    print(\"\\nScore: {}\\t \\nTopic: {}\".format(score, lda_model.print_topic(index, 10)))"
   ]
  },
  {
   "cell_type": "markdown",
   "metadata": {
    "hidden": true
   },
   "source": [
    "Our test document has the highest probability to be part of the topic that our model assigned, which is the accurate classification."
   ]
  },
  {
   "cell_type": "markdown",
   "metadata": {
    "heading_collapsed": true,
    "hidden": true
   },
   "source": [
    "## Performance evaluation by classifying sample document using LDA TF-IDF model"
   ]
  },
  {
   "cell_type": "code",
   "execution_count": 39,
   "metadata": {
    "ExecuteTime": {
     "end_time": "2020-04-10T08:13:56.189471Z",
     "start_time": "2020-04-10T08:13:56.175509Z"
    },
    "collapsed": true,
    "hidden": true
   },
   "outputs": [
    {
     "name": "stdout",
     "output_type": "stream",
     "text": [
      "\n",
      "Score: 0.44451671838760376\t \n",
      "Topic: 0.010*\"govern\" + 0.007*\"health\" + 0.006*\"farm\" + 0.006*\"queensland\" + 0.006*\"hill\" + 0.006*\"fund\" + 0.006*\"morrison\" + 0.005*\"council\" + 0.005*\"budget\" + 0.005*\"plan\"\n",
      "\n",
      "Score: 0.29844287037849426\t \n",
      "Topic: 0.025*\"trump\" + 0.016*\"countri\" + 0.012*\"hour\" + 0.011*\"stori\" + 0.008*\"turnbul\" + 0.007*\"commiss\" + 0.007*\"royal\" + 0.007*\"say\" + 0.007*\"korea\" + 0.006*\"elect\"\n",
      "\n",
      "Score: 0.1694842129945755\t \n",
      "Topic: 0.012*\"donald\" + 0.010*\"australia\" + 0.009*\"world\" + 0.007*\"market\" + 0.007*\"australian\" + 0.007*\"final\" + 0.007*\"leagu\" + 0.007*\"street\" + 0.007*\"weather\" + 0.006*\"live\"\n",
      "\n",
      "Score: 0.012508596293628216\t \n",
      "Topic: 0.013*\"bushfir\" + 0.008*\"plead\" + 0.008*\"violenc\" + 0.007*\"john\" + 0.007*\"domest\" + 0.007*\"child\" + 0.007*\"abus\" + 0.006*\"guilti\" + 0.006*\"asylum\" + 0.006*\"april\"\n",
      "\n",
      "Score: 0.012508460320532322\t \n",
      "Topic: 0.026*\"news\" + 0.021*\"rural\" + 0.010*\"climat\" + 0.009*\"friday\" + 0.008*\"nation\" + 0.008*\"david\" + 0.008*\"care\" + 0.008*\"chang\" + 0.008*\"grandstand\" + 0.007*\"juli\"\n",
      "\n",
      "Score: 0.01250841747969389\t \n",
      "Topic: 0.008*\"sexual\" + 0.008*\"victoria\" + 0.006*\"damag\" + 0.006*\"brief\" + 0.006*\"disabl\" + 0.006*\"america\" + 0.005*\"univers\" + 0.005*\"firefight\" + 0.005*\"wild\" + 0.005*\"liber\"\n",
      "\n",
      "Score: 0.012508408166468143\t \n",
      "Topic: 0.017*\"drum\" + 0.011*\"christma\" + 0.011*\"tuesday\" + 0.010*\"scott\" + 0.010*\"michael\" + 0.009*\"sport\" + 0.007*\"hobart\" + 0.006*\"ash\" + 0.006*\"territori\" + 0.006*\"shorten\"\n",
      "\n",
      "Score: 0.012507922016084194\t \n",
      "Topic: 0.010*\"monday\" + 0.009*\"thursday\" + 0.007*\"fiji\" + 0.007*\"celebr\" + 0.007*\"histori\" + 0.006*\"year\" + 0.006*\"australia\" + 0.005*\"rape\" + 0.005*\"money\" + 0.005*\"remot\"\n",
      "\n",
      "Score: 0.012507246807217598\t \n",
      "Topic: 0.017*\"charg\" + 0.016*\"murder\" + 0.012*\"court\" + 0.012*\"polic\" + 0.012*\"alleg\" + 0.010*\"woman\" + 0.010*\"jail\" + 0.010*\"sentenc\" + 0.009*\"assault\" + 0.008*\"interview\"\n",
      "\n",
      "Score: 0.012507176026701927\t \n",
      "Topic: 0.015*\"crash\" + 0.013*\"kill\" + 0.012*\"polic\" + 0.011*\"dead\" + 0.009*\"shoot\" + 0.009*\"search\" + 0.008*\"miss\" + 0.008*\"wednesday\" + 0.008*\"die\" + 0.007*\"death\"\n"
     ]
    }
   ],
   "source": [
    "for index, score in sorted(lda_model_tfidf[bow_corpus[4310]], key=lambda tup: -1*tup[1]):\n",
    "    print(\"\\nScore: {}\\t \\nTopic: {}\".format(score, lda_model_tfidf.print_topic(index, 10)))"
   ]
  },
  {
   "cell_type": "markdown",
   "metadata": {
    "hidden": true
   },
   "source": [
    "Our test document has the highest probability to be part of the topic that our model assigned, which is the accurate classification."
   ]
  },
  {
   "cell_type": "markdown",
   "metadata": {
    "heading_collapsed": true
   },
   "source": [
    "# Testing model on unseen document"
   ]
  },
  {
   "cell_type": "code",
   "execution_count": 40,
   "metadata": {
    "ExecuteTime": {
     "end_time": "2020-04-10T08:14:00.050169Z",
     "start_time": "2020-04-10T08:14:00.030223Z"
    },
    "collapsed": true,
    "hidden": true
   },
   "outputs": [
    {
     "name": "stdout",
     "output_type": "stream",
     "text": [
      "Score: 0.48968884348869324\t Topic: 0.021*\"market\" + 0.019*\"news\" + 0.018*\"women\" + 0.017*\"live\" + 0.016*\"tasmania\"\n",
      "Score: 0.21062807738780975\t Topic: 0.036*\"elect\" + 0.018*\"water\" + 0.018*\"state\" + 0.016*\"tasmanian\" + 0.012*\"labor\"\n",
      "Score: 0.1829463094472885\t Topic: 0.030*\"polic\" + 0.029*\"charg\" + 0.026*\"court\" + 0.024*\"death\" + 0.024*\"murder\"\n",
      "Score: 0.016677437350153923\t Topic: 0.019*\"chang\" + 0.019*\"say\" + 0.015*\"speak\" + 0.015*\"power\" + 0.013*\"worker\"\n",
      "Score: 0.016677269712090492\t Topic: 0.031*\"govern\" + 0.020*\"warn\" + 0.019*\"feder\" + 0.015*\"countri\" + 0.015*\"fund\"\n",
      "Score: 0.0166764073073864\t Topic: 0.022*\"hous\" + 0.022*\"south\" + 0.020*\"north\" + 0.016*\"miss\" + 0.015*\"bushfir\"\n",
      "Score: 0.0166764073073864\t Topic: 0.031*\"kill\" + 0.023*\"shoot\" + 0.021*\"protest\" + 0.020*\"dead\" + 0.020*\"polic\"\n",
      "Score: 0.0166764073073864\t Topic: 0.057*\"australia\" + 0.046*\"australian\" + 0.026*\"world\" + 0.018*\"canberra\" + 0.017*\"test\"\n",
      "Score: 0.0166764073073864\t Topic: 0.020*\"donald\" + 0.014*\"nation\" + 0.014*\"farmer\" + 0.013*\"rural\" + 0.013*\"time\"\n",
      "Score: 0.0166764073073864\t Topic: 0.044*\"trump\" + 0.036*\"year\" + 0.034*\"sydney\" + 0.027*\"queensland\" + 0.022*\"home\"\n"
     ]
    }
   ],
   "source": [
    "unseen_document = 'How a Pentagon deal became an identity crisis for Google'\n",
    "bow_vector = dictionary.doc2bow(preprocess(unseen_document))\n",
    "\n",
    "for index, score in sorted(lda_model[bow_vector], key=lambda tup: -1*tup[1]):\n",
    "    print(\"Score: {}\\t Topic: {}\".format(score, lda_model.print_topic(index, 5)))"
   ]
  },
  {
   "cell_type": "code",
   "execution_count": null,
   "metadata": {
    "hidden": true
   },
   "outputs": [],
   "source": []
  }
 ],
 "metadata": {
  "hide_input": false,
  "kernelspec": {
   "display_name": "spyder",
   "language": "python",
   "name": "spyder"
  },
  "language_info": {
   "codemirror_mode": {
    "name": "ipython",
    "version": 3
   },
   "file_extension": ".py",
   "mimetype": "text/x-python",
   "name": "python",
   "nbconvert_exporter": "python",
   "pygments_lexer": "ipython3",
   "version": "3.7.3"
  },
  "toc": {
   "base_numbering": 1,
   "nav_menu": {},
   "number_sections": true,
   "sideBar": true,
   "skip_h1_title": false,
   "title_cell": "Table of Contents",
   "title_sidebar": "Contents",
   "toc_cell": false,
   "toc_position": {},
   "toc_section_display": true,
   "toc_window_display": false
  }
 },
 "nbformat": 4,
 "nbformat_minor": 2
}
