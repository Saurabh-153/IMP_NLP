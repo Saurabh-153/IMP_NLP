{
 "cells": [
  {
   "cell_type": "markdown",
   "metadata": {},
   "source": [
    "Topic Modeling is a technique to extract the hidden topics from large volumes of text. Latent Dirichlet Allocation(LDA) is a popular algorithm for topic modeling with excellent implementations in the Python’s Gensim package. The challenge, however, is how to extract good quality of topics that are clear, segregated and meaningful. This depends heavily on the quality of text preprocessing and the strategy of finding the optimal number of topics. This tutorial attempts to tackle both of these problems."
   ]
  },
  {
   "cell_type": "markdown",
   "metadata": {
    "heading_collapsed": true
   },
   "source": [
    "# Introduction"
   ]
  },
  {
   "cell_type": "markdown",
   "metadata": {
    "hidden": true
   },
   "source": [
    "One of the primary applications of natural language processing is to automatically extract what topics people are discussing from large volumes of text. Some examples of large text could be feeds from social media, customer reviews of hotels, movies, etc, user feedbacks, news stories, e-mails of customer complaints etc.\n",
    "\n",
    "Knowing what people are talking about and understanding their problems and opinions is highly valuable to businesses, administrators, political campaigns. And it’s really hard to manually read through such large volumes and compile the topics.\n",
    "\n",
    "Thus is required an automated algorithm that can read through the text documents and automatically output the topics discussed.\n",
    "\n",
    "In this tutorial, we will take a real example of the ’20 Newsgroups’ dataset and use LDA to extract the naturally discussed topics.\n",
    "\n",
    "I will be using the Latent Dirichlet Allocation (LDA) from Gensim package along with the Mallet’s implementation (via Gensim). Mallet has an efficient implementation of the LDA. It is known to run faster and gives better topics segregation.\n",
    "\n",
    "We will also extract the volume and percentage contribution of each topic to get an idea of how important a topic is."
   ]
  },
  {
   "cell_type": "markdown",
   "metadata": {
    "heading_collapsed": true
   },
   "source": [
    "# Prerequisites – Download nltk stopwords and spacy model"
   ]
  },
  {
   "cell_type": "markdown",
   "metadata": {
    "hidden": true
   },
   "source": [
    "We will need the stopwords from NLTK and spacy’s en model for text pre-processing. Later, we will be using the spacy model for lemmatization.\n",
    "\n",
    "Lemmatization is nothing but converting a word to its root word. For example: the lemma of the word ‘machines’ is ‘machine’. Likewise, ‘walking’ –> ‘walk’, ‘mice’ –> ‘mouse’ and so on."
   ]
  },
  {
   "cell_type": "code",
   "execution_count": null,
   "metadata": {
    "hidden": true
   },
   "outputs": [],
   "source": [
    "# Run in python console\n",
    "import nltk; nltk.download('stopwords')\n",
    "\n",
    "# Run in terminal or command prompt\n",
    "python3 -m spacy download en_core_web_sm"
   ]
  },
  {
   "cell_type": "markdown",
   "metadata": {
    "heading_collapsed": true
   },
   "source": [
    "# Import Package\n",
    "\n",
    "The core packages used in this tutorial are re, gensim, spacy and pyLDAvis. Besides this we will also using matplotlib, numpy and pandas for data handling and visualization. Let’s import them."
   ]
  },
  {
   "cell_type": "code",
   "execution_count": 1,
   "metadata": {
    "ExecuteTime": {
     "end_time": "2020-04-17T09:14:08.025421Z",
     "start_time": "2020-04-17T09:13:52.272736Z"
    },
    "hidden": true
   },
   "outputs": [],
   "source": [
    "import re\n",
    "import numpy as np\n",
    "import pandas as pd\n",
    "from pprint import pprint\n",
    "\n",
    "# Gensim\n",
    "import gensim\n",
    "import gensim.corpora as corpora\n",
    "from gensim.utils import simple_preprocess\n",
    "from gensim.models import CoherenceModel\n",
    "\n",
    "# spacy for lemmatization\n",
    "import spacy\n",
    "\n",
    "# Plotting tools\n",
    "import pyLDAvis\n",
    "import pyLDAvis.gensim  # don't skip this\n",
    "import matplotlib.pyplot as plt\n",
    "%matplotlib inline\n",
    "\n",
    "# Enable logging for gensim - optional\n",
    "import logging\n",
    "logging.basicConfig(format='%(asctime)s : %(levelname)s : %(message)s', level=logging.ERROR)\n",
    "\n",
    "import warnings\n",
    "warnings.filterwarnings(\"ignore\",category=DeprecationWarning)"
   ]
  },
  {
   "cell_type": "markdown",
   "metadata": {
    "ExecuteTime": {
     "end_time": "2020-04-17T11:01:31.940332Z",
     "start_time": "2020-04-17T11:01:31.918413Z"
    },
    "heading_collapsed": true
   },
   "source": [
    "# What does LDA do?"
   ]
  },
  {
   "cell_type": "markdown",
   "metadata": {
    "hidden": true
   },
   "source": [
    "LDA’s approach to topic modeling is it considers each document as a collection of topics in a certain proportion. And each topic as a collection of keywords, again, in a certain proportion.\n",
    "\n",
    "Once you provide the algorithm with the number of topics, all it does it to rearrange the topics distribution within the documents and keywords distribution within the topics to obtain a good composition of topic-keywords distribution.\n",
    "\n",
    "When I say topic, what is it actually and how it is represented?\n",
    "\n",
    "A topic is nothing but a collection of dominant keywords that are typical representatives. Just by looking at the keywords, you can identify what the topic is all about.\n",
    "\n",
    "The following are key factors to obtaining good segregation topics:\n",
    "\n",
    "* The quality of text processing.\n",
    "* The variety of topics the text talks about.\n",
    "* The choice of topic modeling algorithm.\n",
    "* The number of topics fed to the algorithm.\n",
    "* The algorithms tuning parameters."
   ]
  },
  {
   "cell_type": "markdown",
   "metadata": {
    "heading_collapsed": true
   },
   "source": [
    "# Prepare Stopwords\n",
    "\n",
    "We have already downloaded the stopwords. Let’s import them and make it available in stop_words."
   ]
  },
  {
   "cell_type": "code",
   "execution_count": 2,
   "metadata": {
    "ExecuteTime": {
     "end_time": "2020-04-17T09:14:42.041731Z",
     "start_time": "2020-04-17T09:14:41.061349Z"
    },
    "hidden": true
   },
   "outputs": [],
   "source": [
    "# NLTK Stop words\n",
    "from nltk.corpus import stopwords\n",
    "stop_words = stopwords.words('english')\n",
    "stop_words.extend(['from', 'subject', 're', 'edu', 'use'])"
   ]
  },
  {
   "cell_type": "markdown",
   "metadata": {
    "ExecuteTime": {
     "end_time": "2020-04-17T11:21:01.526941Z",
     "start_time": "2020-04-17T11:21:01.514973Z"
    },
    "heading_collapsed": true
   },
   "source": [
    "# Import Newsgroups Data \n",
    "We will be using the 20-Newsgroups dataset for this exercise. This version of the dataset contains about 11k newsgroups posts from 20 different topics. This is available as [newsgroups.json](https://raw.githubusercontent.com/selva86/datasets/master/newsgroups.json)\n",
    "This is imported using pandas.read_json and the resulting dataset has 3 columns as shown."
   ]
  },
  {
   "cell_type": "code",
   "execution_count": 3,
   "metadata": {
    "ExecuteTime": {
     "end_time": "2020-04-17T09:15:07.293078Z",
     "start_time": "2020-04-17T09:14:55.040071Z"
    },
    "hidden": true
   },
   "outputs": [
    {
     "name": "stdout",
     "output_type": "stream",
     "text": [
      "['rec.autos' 'comp.sys.mac.hardware' 'rec.motorcycles' 'misc.forsale'\n",
      " 'comp.os.ms-windows.misc' 'alt.atheism' 'comp.graphics'\n",
      " 'rec.sport.baseball' 'rec.sport.hockey' 'sci.electronics' 'sci.space'\n",
      " 'talk.politics.misc' 'sci.med' 'talk.politics.mideast'\n",
      " 'soc.religion.christian' 'comp.windows.x' 'comp.sys.ibm.pc.hardware'\n",
      " 'talk.politics.guns' 'talk.religion.misc' 'sci.crypt']\n"
     ]
    },
    {
     "data": {
      "text/html": [
       "<div>\n",
       "<style scoped>\n",
       "    .dataframe tbody tr th:only-of-type {\n",
       "        vertical-align: middle;\n",
       "    }\n",
       "\n",
       "    .dataframe tbody tr th {\n",
       "        vertical-align: top;\n",
       "    }\n",
       "\n",
       "    .dataframe thead th {\n",
       "        text-align: right;\n",
       "    }\n",
       "</style>\n",
       "<table border=\"1\" class=\"dataframe\">\n",
       "  <thead>\n",
       "    <tr style=\"text-align: right;\">\n",
       "      <th></th>\n",
       "      <th>content</th>\n",
       "      <th>target</th>\n",
       "      <th>target_names</th>\n",
       "    </tr>\n",
       "  </thead>\n",
       "  <tbody>\n",
       "    <tr>\n",
       "      <th>0</th>\n",
       "      <td>From: lerxst@wam.umd.edu (where's my thing)\\nS...</td>\n",
       "      <td>7</td>\n",
       "      <td>rec.autos</td>\n",
       "    </tr>\n",
       "    <tr>\n",
       "      <th>1</th>\n",
       "      <td>From: guykuo@carson.u.washington.edu (Guy Kuo)...</td>\n",
       "      <td>4</td>\n",
       "      <td>comp.sys.mac.hardware</td>\n",
       "    </tr>\n",
       "    <tr>\n",
       "      <th>10</th>\n",
       "      <td>From: irwin@cmptrc.lonestar.org (Irwin Arnstei...</td>\n",
       "      <td>8</td>\n",
       "      <td>rec.motorcycles</td>\n",
       "    </tr>\n",
       "    <tr>\n",
       "      <th>100</th>\n",
       "      <td>From: tchen@magnus.acs.ohio-state.edu (Tsung-K...</td>\n",
       "      <td>6</td>\n",
       "      <td>misc.forsale</td>\n",
       "    </tr>\n",
       "    <tr>\n",
       "      <th>1000</th>\n",
       "      <td>From: dabl2@nlm.nih.gov (Don A.B. Lindbergh)\\n...</td>\n",
       "      <td>2</td>\n",
       "      <td>comp.os.ms-windows.misc</td>\n",
       "    </tr>\n",
       "  </tbody>\n",
       "</table>\n",
       "</div>"
      ],
      "text/plain": [
       "                                                content  target  \\\n",
       "0     From: lerxst@wam.umd.edu (where's my thing)\\nS...       7   \n",
       "1     From: guykuo@carson.u.washington.edu (Guy Kuo)...       4   \n",
       "10    From: irwin@cmptrc.lonestar.org (Irwin Arnstei...       8   \n",
       "100   From: tchen@magnus.acs.ohio-state.edu (Tsung-K...       6   \n",
       "1000  From: dabl2@nlm.nih.gov (Don A.B. Lindbergh)\\n...       2   \n",
       "\n",
       "                 target_names  \n",
       "0                   rec.autos  \n",
       "1       comp.sys.mac.hardware  \n",
       "10            rec.motorcycles  \n",
       "100              misc.forsale  \n",
       "1000  comp.os.ms-windows.misc  "
      ]
     },
     "execution_count": 3,
     "metadata": {},
     "output_type": "execute_result"
    }
   ],
   "source": [
    "# Import Dataset\n",
    "df = pd.read_json('https://raw.githubusercontent.com/selva86/datasets/master/newsgroups.json')\n",
    "print(df.target_names.unique())\n",
    "df.head()"
   ]
  },
  {
   "cell_type": "markdown",
   "metadata": {
    "heading_collapsed": true
   },
   "source": [
    "# Remove emails and newline characters\n",
    "\n",
    "As you can see there are many emails, newline and extra spaces that is quite distracting. Let’s get rid of them using [regular expressions](https://www.machinelearningplus.com/python/python-regex-tutorial-examples/)."
   ]
  },
  {
   "cell_type": "code",
   "execution_count": 4,
   "metadata": {
    "ExecuteTime": {
     "end_time": "2020-04-17T09:15:54.196212Z",
     "start_time": "2020-04-17T09:15:51.048425Z"
    },
    "hidden": true
   },
   "outputs": [
    {
     "name": "stdout",
     "output_type": "stream",
     "text": [
      "['From: (wheres my thing) Subject: WHAT car is this!? Nntp-Posting-Host: '\n",
      " 'rac3.wam.umd.edu Organization: University of Maryland, College Park Lines: '\n",
      " '15 I was wondering if anyone out there could enlighten me on this car I saw '\n",
      " 'the other day. It was a 2-door sports car, looked to be from the late 60s/ '\n",
      " 'early 70s. It was called a Bricklin. The doors were really small. In '\n",
      " 'addition, the front bumper was separate from the rest of the body. This is '\n",
      " 'all I know. If anyone can tellme a model name, engine specs, years of '\n",
      " 'production, where this car is made, history, or whatever info you have on '\n",
      " 'this funky looking car, please e-mail. Thanks, - IL ---- brought to you by '\n",
      " 'your neighborhood Lerxst ---- ']\n"
     ]
    }
   ],
   "source": [
    "# Convert to list\n",
    "data = df.content.values.tolist()\n",
    "\n",
    "# Remove Emails\n",
    "data = [re.sub('\\S*@\\S*\\s?', '', sent) for sent in data]\n",
    "\n",
    "# Remove new line characters\n",
    "data = [re.sub('\\s+', ' ', sent) for sent in data]\n",
    "\n",
    "# Remove distracting single quotes\n",
    "data = [re.sub(\"\\'\", \"\", sent) for sent in data]\n",
    "\n",
    "pprint(data[:1])"
   ]
  },
  {
   "cell_type": "markdown",
   "metadata": {
    "hidden": true
   },
   "source": [
    "After removing the emails and extra spaces, the text still looks messy. It is not ready for the LDA to consume. You need to break down each sentence into a list of words through tokenization, while clearing up all the messy text in the process.\n",
    "\n",
    "Gensim’s simple_preprocess is great for this."
   ]
  },
  {
   "cell_type": "markdown",
   "metadata": {
    "ExecuteTime": {
     "end_time": "2020-04-17T11:27:22.667756Z",
     "start_time": "2020-04-17T11:27:22.649804Z"
    },
    "heading_collapsed": true
   },
   "source": [
    "# Tokenize words and Clean-up text\n",
    "\n",
    "Let’s tokenize each sentence into a list of words, removing punctuations and unnecessary characters altogether.\n",
    "Gensim’s simple_preprocess() is great for this. Additionally I have set deacc=True to remove the punctuations."
   ]
  },
  {
   "cell_type": "code",
   "execution_count": 5,
   "metadata": {
    "ExecuteTime": {
     "end_time": "2020-04-17T09:16:47.640717Z",
     "start_time": "2020-04-17T09:16:35.120427Z"
    },
    "hidden": true
   },
   "outputs": [
    {
     "name": "stdout",
     "output_type": "stream",
     "text": [
      "[['from', 'wheres', 'my', 'thing', 'subject', 'what', 'car', 'is', 'this', 'nntp', 'posting', 'host', 'rac', 'wam', 'umd', 'edu', 'organization', 'university', 'of', 'maryland', 'college', 'park', 'lines', 'was', 'wondering', 'if', 'anyone', 'out', 'there', 'could', 'enlighten', 'me', 'on', 'this', 'car', 'saw', 'the', 'other', 'day', 'it', 'was', 'door', 'sports', 'car', 'looked', 'to', 'be', 'from', 'the', 'late', 'early', 'it', 'was', 'called', 'bricklin', 'the', 'doors', 'were', 'really', 'small', 'in', 'addition', 'the', 'front', 'bumper', 'was', 'separate', 'from', 'the', 'rest', 'of', 'the', 'body', 'this', 'is', 'all', 'know', 'if', 'anyone', 'can', 'tellme', 'model', 'name', 'engine', 'specs', 'years', 'of', 'production', 'where', 'this', 'car', 'is', 'made', 'history', 'or', 'whatever', 'info', 'you', 'have', 'on', 'this', 'funky', 'looking', 'car', 'please', 'mail', 'thanks', 'il', 'brought', 'to', 'you', 'by', 'your', 'neighborhood', 'lerxst']]\n"
     ]
    }
   ],
   "source": [
    "def sent_to_words(sentences):\n",
    "    for sentence in sentences:\n",
    "        yield(gensim.utils.simple_preprocess(str(sentence), deacc=True))  # deacc=True removes punctuations\n",
    "\n",
    "data_words = list(sent_to_words(data))\n",
    "\n",
    "print(data_words[:1])"
   ]
  },
  {
   "cell_type": "markdown",
   "metadata": {
    "heading_collapsed": true
   },
   "source": [
    "# Creating Bigram and Trigram Models\n",
    "Bigrams are two words frequently occurring together in the document. Trigrams are 3 words frequently occurring.\n",
    "\n",
    "Some examples in our example are: ‘front_bumper’, ‘oil_leak’, ‘maryland_college_park’ etc.\n",
    "\n",
    "Gensim’s Phrases model can build and implement the bigrams, trigrams, quadgrams and more. The two important arguments to Phrases are **min_count** & **threshold**. The higher the values of these param, the harder it is for words to be combined to bigrams."
   ]
  },
  {
   "cell_type": "code",
   "execution_count": 6,
   "metadata": {
    "ExecuteTime": {
     "end_time": "2020-04-17T09:18:30.724535Z",
     "start_time": "2020-04-17T09:17:30.544944Z"
    },
    "hidden": true
   },
   "outputs": [
    {
     "name": "stdout",
     "output_type": "stream",
     "text": [
      "['from', 'wheres', 'my', 'thing', 'subject', 'what', 'car', 'is', 'this', 'nntp_posting_host', 'rac_wam_umd_edu', 'organization', 'university', 'of', 'maryland_college_park', 'lines', 'was', 'wondering', 'if', 'anyone', 'out', 'there', 'could', 'enlighten', 'me', 'on', 'this', 'car', 'saw', 'the', 'other', 'day', 'it', 'was', 'door', 'sports', 'car', 'looked', 'to', 'be', 'from', 'the', 'late', 'early', 'it', 'was', 'called', 'bricklin', 'the', 'doors', 'were', 'really', 'small', 'in', 'addition', 'the', 'front_bumper', 'was', 'separate', 'from', 'the', 'rest', 'of', 'the', 'body', 'this', 'is', 'all', 'know', 'if', 'anyone', 'can', 'tellme', 'model', 'name', 'engine', 'specs', 'years', 'of', 'production', 'where', 'this', 'car', 'is', 'made', 'history', 'or', 'whatever', 'info', 'you', 'have', 'on', 'this', 'funky', 'looking', 'car', 'please', 'mail', 'thanks', 'il', 'brought', 'to', 'you', 'by', 'your', 'neighborhood', 'lerxst']\n"
     ]
    }
   ],
   "source": [
    "# Build the bigram and trigram models\n",
    "bigram = gensim.models.Phrases(data_words, min_count=5, threshold=100) # higher threshold fewer phrases.\n",
    "trigram = gensim.models.Phrases(bigram[data_words], threshold=100)  \n",
    "\n",
    "# Faster way to get a sentence clubbed as a trigram/bigram\n",
    "bigram_mod = gensim.models.phrases.Phraser(bigram)\n",
    "trigram_mod = gensim.models.phrases.Phraser(trigram)\n",
    "\n",
    "# See trigram example\n",
    "print(trigram_mod[bigram_mod[data_words[0]]])"
   ]
  },
  {
   "cell_type": "markdown",
   "metadata": {
    "ExecuteTime": {
     "end_time": "2020-04-17T12:43:45.441971Z",
     "start_time": "2020-04-17T12:43:45.405067Z"
    },
    "heading_collapsed": true
   },
   "source": [
    "# Remove Stopwords, Make Bigrams and Lemmatize\n",
    "The bigrams model is ready. Let’s define the functions to remove the stopwords, make bigrams and lemmatization and call them sequentially."
   ]
  },
  {
   "cell_type": "code",
   "execution_count": 13,
   "metadata": {
    "ExecuteTime": {
     "end_time": "2020-04-17T09:35:09.097125Z",
     "start_time": "2020-04-17T09:32:35.162336Z"
    },
    "hidden": true
   },
   "outputs": [
    {
     "name": "stdout",
     "output_type": "stream",
     "text": [
      "[['where', 's', 'thing', 'car', 'nntp_post', 'host', 'umd', 'organization', 'university', 'maryland_college', 'park', 'line', 'wonder', 'anyone', 'could', 'enlighten', 'car', 'see', 'day', 'door', 'sport', 'car', 'look', 'late', 'early', 'call', 'bricklin', 'door', 'really', 'small', 'addition', 'front_bumper', 'separate', 'rest', 'body', 'know', 'anyone', 'tellme', 'model', 'name', 'engine', 'specs', 'year', 'production', 'car', 'make', 'history', 'info', 'funky', 'look', 'car', 'mail', 'thank', 'bring', 'neighborhood', 'lerxst']]\n"
     ]
    }
   ],
   "source": [
    "# Define functions for stopwords, bigrams, trigrams and lemmatization\n",
    "def remove_stopwords(texts):\n",
    "    return [[word for word in simple_preprocess(str(doc)) if word not in stop_words] for doc in texts]\n",
    "\n",
    "def make_bigrams(texts):\n",
    "    return [bigram_mod[doc] for doc in texts]\n",
    "\n",
    "def make_trigrams(texts):\n",
    "    return [trigram_mod[bigram_mod[doc]] for doc in texts]\n",
    "\n",
    "def lemmatization(texts, allowed_postags=['NOUN', 'ADJ', 'VERB', 'ADV']):\n",
    "    \"\"\"https://spacy.io/api/annotation\"\"\"\n",
    "    texts_out = []\n",
    "    for sent in texts:\n",
    "        doc = nlp(\" \".join(sent)) \n",
    "        texts_out.append([token.lemma_ for token in doc if token.pos_ in allowed_postags])\n",
    "    return texts_out\n",
    "\n",
    "#Let’s call the functions in order.\n",
    "\n",
    "# Remove Stop Words\n",
    "data_words_nostops = remove_stopwords(data_words)\n",
    "\n",
    "# Form Bigrams\n",
    "data_words_bigrams = make_bigrams(data_words_nostops)\n",
    "\n",
    "# Initialize spacy 'en' model, keeping only tagger component (for efficiency)\n",
    "# python3 -m spacy download en\n",
    "nlp = spacy.load('en_core_web_sm', disable=['parser', 'ner'])\n",
    "\n",
    "# Do lemmatization keeping only noun, adj, vb, adv\n",
    "data_lemmatized = lemmatization(data_words_bigrams, allowed_postags=['NOUN', 'ADJ', 'VERB', 'ADV'])\n",
    "\n",
    "print(data_lemmatized[:1])"
   ]
  },
  {
   "cell_type": "markdown",
   "metadata": {
    "ExecuteTime": {
     "end_time": "2020-04-17T12:58:28.153272Z",
     "start_time": "2020-04-17T12:58:28.148285Z"
    },
    "heading_collapsed": true
   },
   "source": [
    "# Create the Dictionary and Corpus needed for Topic Modeling\n",
    "The two main inputs to the LDA topic model are the dictionary(id2word) and the corpus. Let’s create them."
   ]
  },
  {
   "cell_type": "code",
   "execution_count": 14,
   "metadata": {
    "ExecuteTime": {
     "end_time": "2020-04-17T09:35:13.440088Z",
     "start_time": "2020-04-17T09:35:09.102104Z"
    },
    "hidden": true
   },
   "outputs": [
    {
     "name": "stdout",
     "output_type": "stream",
     "text": [
      "[[(0, 1), (1, 2), (2, 1), (3, 1), (4, 1), (5, 1), (6, 5), (7, 1), (8, 1), (9, 2), (10, 1), (11, 1), (12, 1), (13, 1), (14, 1), (15, 1), (16, 1), (17, 1), (18, 1), (19, 1), (20, 1), (21, 1), (22, 2), (23, 1), (24, 1), (25, 1), (26, 1), (27, 1), (28, 1), (29, 1), (30, 1), (31, 1), (32, 1), (33, 1), (34, 1), (35, 1), (36, 1), (37, 1), (38, 1), (39, 1), (40, 1), (41, 1), (42, 1), (43, 1), (44, 1), (45, 1), (46, 1), (47, 1), (48, 1)]]\n"
     ]
    }
   ],
   "source": [
    "# Create Dictionary\n",
    "id2word = corpora.Dictionary(data_lemmatized)\n",
    "\n",
    "# Create Corpus\n",
    "texts = data_lemmatized\n",
    "\n",
    "# Term Document Frequency\n",
    "corpus = [id2word.doc2bow(text) for text in texts]\n",
    "\n",
    "# View\n",
    "print(corpus[:1])"
   ]
  },
  {
   "cell_type": "markdown",
   "metadata": {
    "hidden": true
   },
   "source": [
    "Gensim creates a unique id for each word in the document. The produced corpus shown above is a mapping of (word_id, word_frequency).\n",
    "For example, (0, 1) above implies, word id 0 occurs once in the first document. Likewise, word id 1 occurs twice and so on.\n",
    "\n",
    "This is used as the input by the LDA model.\n",
    "If you want to see what word a given id corresponds to, pass the id as a key to the dictionary."
   ]
  },
  {
   "cell_type": "code",
   "execution_count": 29,
   "metadata": {
    "ExecuteTime": {
     "end_time": "2020-04-17T13:01:42.715336Z",
     "start_time": "2020-04-17T13:01:42.697384Z"
    },
    "hidden": true
   },
   "outputs": [
    {
     "data": {
      "text/plain": [
       "'addition'"
      ]
     },
     "execution_count": 29,
     "metadata": {},
     "output_type": "execute_result"
    }
   ],
   "source": [
    "id2word[0]"
   ]
  },
  {
   "cell_type": "markdown",
   "metadata": {
    "hidden": true
   },
   "source": [
    "Or, you can see a human-readable form of the corpus itself."
   ]
  },
  {
   "cell_type": "code",
   "execution_count": 15,
   "metadata": {
    "ExecuteTime": {
     "end_time": "2020-04-17T09:35:13.486479Z",
     "start_time": "2020-04-17T09:35:13.444079Z"
    },
    "hidden": true
   },
   "outputs": [
    {
     "data": {
      "text/plain": [
       "[[('addition', 1),\n",
       "  ('anyone', 2),\n",
       "  ('body', 1),\n",
       "  ('bricklin', 1),\n",
       "  ('bring', 1),\n",
       "  ('call', 1),\n",
       "  ('car', 5),\n",
       "  ('could', 1),\n",
       "  ('day', 1),\n",
       "  ('door', 2),\n",
       "  ('early', 1),\n",
       "  ('engine', 1),\n",
       "  ('enlighten', 1),\n",
       "  ('front_bumper', 1),\n",
       "  ('funky', 1),\n",
       "  ('history', 1),\n",
       "  ('host', 1),\n",
       "  ('info', 1),\n",
       "  ('know', 1),\n",
       "  ('late', 1),\n",
       "  ('lerxst', 1),\n",
       "  ('line', 1),\n",
       "  ('look', 2),\n",
       "  ('mail', 1),\n",
       "  ('make', 1),\n",
       "  ('maryland_college', 1),\n",
       "  ('model', 1),\n",
       "  ('name', 1),\n",
       "  ('neighborhood', 1),\n",
       "  ('nntp_post', 1),\n",
       "  ('organization', 1),\n",
       "  ('park', 1),\n",
       "  ('production', 1),\n",
       "  ('really', 1),\n",
       "  ('rest', 1),\n",
       "  ('s', 1),\n",
       "  ('see', 1),\n",
       "  ('separate', 1),\n",
       "  ('small', 1),\n",
       "  ('specs', 1),\n",
       "  ('sport', 1),\n",
       "  ('tellme', 1),\n",
       "  ('thank', 1),\n",
       "  ('thing', 1),\n",
       "  ('umd', 1),\n",
       "  ('university', 1),\n",
       "  ('where', 1),\n",
       "  ('wonder', 1),\n",
       "  ('year', 1)]]"
      ]
     },
     "execution_count": 15,
     "metadata": {},
     "output_type": "execute_result"
    }
   ],
   "source": [
    "# Human readable format of corpus (term-frequency)\n",
    "[[(id2word[id], freq) for id, freq in cp] for cp in corpus[:1]]"
   ]
  },
  {
   "cell_type": "markdown",
   "metadata": {
    "heading_collapsed": true
   },
   "source": [
    "# Building the Topic Model\n",
    "We have everything required to train the LDA model. In addition to the corpus and dictionary, you need to provide the number of topics as well.\n",
    "\n",
    "Apart from that, alpha and eta are hyperparameters that affect sparsity of the topics. According to the Gensim docs, both defaults to 1.0/num_topics prior.\n",
    "\n",
    "chunksize is the number of documents to be used in each training chunk. update_every determines how often the model parameters should be updated and passes is the total number of training passes."
   ]
  },
  {
   "cell_type": "code",
   "execution_count": 16,
   "metadata": {
    "ExecuteTime": {
     "end_time": "2020-04-17T09:42:04.886450Z",
     "start_time": "2020-04-17T09:35:13.491466Z"
    },
    "hidden": true
   },
   "outputs": [],
   "source": [
    "# Build LDA model\n",
    "lda_model = gensim.models.ldamodel.LdaModel(corpus=corpus,\n",
    "                                           id2word=id2word,\n",
    "                                           num_topics=20, \n",
    "                                           random_state=100,\n",
    "                                           update_every=1,\n",
    "                                           chunksize=100,\n",
    "                                           passes=10,\n",
    "                                           alpha='auto',\n",
    "                                           per_word_topics=True)"
   ]
  },
  {
   "cell_type": "markdown",
   "metadata": {
    "heading_collapsed": true
   },
   "source": [
    "# View the topics in LDA model\n",
    "\n",
    "The above LDA model is built with 20 different topics where each topic is a combination of keywords and each keyword contributes a certain weightage to the topic.\n",
    "\n",
    "You can see the keywords for each topic and the weightage(importance) of each keyword using lda_model.print_topics() as shown next."
   ]
  },
  {
   "cell_type": "code",
   "execution_count": 17,
   "metadata": {
    "ExecuteTime": {
     "end_time": "2020-04-17T09:42:04.931329Z",
     "start_time": "2020-04-17T09:42:04.889441Z"
    },
    "hidden": true
   },
   "outputs": [
    {
     "name": "stdout",
     "output_type": "stream",
     "text": [
      "[(0,\n",
      "  '0.236*\"window\" + 0.055*\"screen\" + 0.044*\"font\" + 0.042*\"version\" + '\n",
      "  '0.023*\"application\" + 0.018*\"installation\" + 0.017*\"resource\" + '\n",
      "  '0.017*\"microsoft\" + 0.016*\"lee\" + 0.015*\"dos\"'),\n",
      " (1,\n",
      "  '0.037*\"system\" + 0.030*\"use\" + 0.026*\"mail\" + 0.025*\"information\" + '\n",
      "  '0.023*\"program\" + 0.021*\"available\" + 0.020*\"computer\" + 0.019*\"info\" + '\n",
      "  '0.018*\"thank\" + 0.018*\"run\"'),\n",
      " (2,\n",
      "  '0.012*\"year\" + 0.011*\"people\" + 0.009*\"day\" + 0.009*\"time\" + 0.008*\"first\" '\n",
      "  '+ 0.007*\"say\" + 0.007*\"take\" + 0.006*\"new\" + 0.006*\"may\" + 0.006*\"also\"'),\n",
      " (3,\n",
      "  '0.081*\"drive\" + 0.079*\"card\" + 0.037*\"driver\" + 0.035*\"bit\" + 0.034*\"color\" '\n",
      "  '+ 0.032*\"graphic\" + 0.032*\"speed\" + 0.030*\"board\" + 0.027*\"mode\" + '\n",
      "  '0.026*\"memory\"'),\n",
      " (4,\n",
      "  '0.066*\"illinoi\" + 0.044*\"urbana\" + 0.013*\"reed\" + 0.009*\"havent_seen\" + '\n",
      "  '0.008*\"sean\" + 0.003*\"fascinating\" + 0.000*\"laptop\" + 0.000*\"darin\" + '\n",
      "  '0.000*\"fox\" + 0.000*\"cubs_suck\"'),\n",
      " (5,\n",
      "  '0.066*\"germany\" + 0.048*\"islam\" + 0.033*\"comparison\" + 0.028*\"predict\" + '\n",
      "  '0.024*\"capability\" + 0.021*\"prediction\" + 0.014*\"phenomenon\" + '\n",
      "  '0.011*\"trace\" + 0.009*\"pov\" + 0.009*\"benedikt_rosenau\"'),\n",
      " (6,\n",
      "  '0.035*\"not\" + 0.026*\"line\" + 0.024*\"organization\" + 0.023*\"do\" + '\n",
      "  '0.021*\"write\" + 0.018*\"would\" + 0.018*\"be\" + 0.016*\"article\" + 0.015*\"know\" '\n",
      "  '+ 0.015*\"get\"'),\n",
      " (7,\n",
      "  '0.099*\"space\" + 0.069*\"key\" + 0.025*\"encryption\" + 0.025*\"technology\" + '\n",
      "  '0.018*\"clipper\" + 0.017*\"satellite\" + 0.017*\"algorithm\" + 0.015*\"orbit\" + '\n",
      "  '0.014*\"security\" + 0.013*\"datum\"'),\n",
      " (8,\n",
      "  '0.073*\"government\" + 0.055*\"gun\" + 0.048*\"president\" + 0.047*\"chip\" + '\n",
      "  '0.035*\"law\" + 0.033*\"state\" + 0.031*\"right\" + 0.023*\"criminal\" + '\n",
      "  '0.018*\"protect\" + 0.017*\"crime\"'),\n",
      " (9,\n",
      "  '0.070*\"hockey\" + 0.037*\"division\" + 0.036*\"league\" + 0.029*\"russian\" + '\n",
      "  '0.029*\"baseball\" + 0.028*\"together\" + 0.026*\"field\" + 0.025*\"boston\" + '\n",
      "  '0.024*\"sport\" + 0.021*\"hall\"'),\n",
      " (10,\n",
      "  '0.109*\"bike\" + 0.061*\"ride\" + 0.037*\"prophecy\" + 0.027*\"seat\" + '\n",
      "  '0.027*\"duke\" + 0.023*\"tire\" + 0.017*\"shadow\" + 0.016*\"caltech\" + '\n",
      "  '0.016*\"honda\" + 0.016*\"california_institute\"'),\n",
      " (11,\n",
      "  '0.082*\"religion\" + 0.056*\"king\" + 0.039*\"air\" + 0.031*\"slow\" + '\n",
      "  '0.030*\"motif\" + 0.027*\"pain\" + 0.021*\"mailing_list\" + 0.021*\"complain\" + '\n",
      "  '0.021*\"feed\" + 0.017*\"default\"'),\n",
      " (12,\n",
      "  '0.046*\"text\" + 0.038*\"mike\" + 0.033*\"clipper_chip\" + 0.029*\"pin\" + '\n",
      "  '0.024*\"shop\" + 0.024*\"motorcycle\" + 0.023*\"reader\" + 0.022*\"ignore\" + '\n",
      "  '0.022*\"data\" + 0.021*\"van\"'),\n",
      " (13,\n",
      "  '0.132*\"israel\" + 0.096*\"israeli\" + 0.065*\"arab\" + 0.028*\"recognize\" + '\n",
      "  '0.026*\"policy_research\" + 0.022*\"fully\" + 0.019*\"eternal\" + 0.018*\"torture\" '\n",
      "  '+ 0.015*\"grace\" + 0.015*\"aside\"'),\n",
      " (14,\n",
      "  '0.824*\"ax\" + 0.058*\"max\" + 0.008*\"package\" + 0.005*\"ibm\" + 0.005*\"print\" + '\n",
      "  '0.005*\"limit\" + 0.004*\"load\" + 0.003*\"privacy\" + 0.002*\"monthly\" + '\n",
      "  '0.002*\"initiative\"'),\n",
      " (15,\n",
      "  '0.141*\"car\" + 0.037*\"engine\" + 0.036*\"owner\" + 0.032*\"tom\" + 0.028*\"dealer\" '\n",
      "  '+ 0.022*\"summer\" + 0.021*\"dollar\" + 0.021*\"mile\" + 0.020*\"steven\" + '\n",
      "  '0.017*\"inform\"'),\n",
      " (16,\n",
      "  '0.025*\"god\" + 0.022*\"say\" + 0.020*\"christian\" + 0.018*\"people\" + '\n",
      "  '0.016*\"believe\" + 0.014*\"life\" + 0.011*\"word\" + 0.011*\"claim\" + '\n",
      "  '0.010*\"book\" + 0.010*\"law\"'),\n",
      " (17,\n",
      "  '0.065*\"msg\" + 0.057*\"health\" + 0.026*\"syndrome\" + 0.018*\"superstition\" + '\n",
      "  '0.014*\"infection\" + 0.009*\"pose\" + 0.009*\"proportion\" + 0.007*\"nuts\" + '\n",
      "  '0.007*\"stomach\" + 0.007*\"chinese\"'),\n",
      " (18,\n",
      "  '0.100*\"file\" + 0.066*\"standard\" + 0.047*\"code\" + 0.045*\"phone\" + '\n",
      "  '0.036*\"copy\" + 0.031*\"email\" + 0.030*\"display\" + 0.030*\"circuit\" + '\n",
      "  '0.025*\"section\" + 0.022*\"function\"'),\n",
      " (19,\n",
      "  '0.067*\"game\" + 0.063*\"team\" + 0.042*\"play\" + 0.039*\"win\" + 0.037*\"year\" + '\n",
      "  '0.036*\"player\" + 0.025*\"season\" + 0.020*\"canada\" + 0.017*\"goal\" + '\n",
      "  '0.016*\"fan\"')]\n"
     ]
    }
   ],
   "source": [
    "# Print the Keyword in the 10 topics\n",
    "pprint(lda_model.print_topics())\n",
    "doc_lda = lda_model[corpus]"
   ]
  },
  {
   "cell_type": "markdown",
   "metadata": {
    "hidden": true
   },
   "source": [
    "How to interpret this?\n",
    "\n",
    "Topic 0 is a represented as _0.016“car” + 0.014“power” + 0.010“light” + 0.009“drive” + 0.007“mount” + 0.007“controller” + 0.007“cool” + 0.007“engine” + 0.007“back” + ‘0.006“turn”.\n",
    "\n",
    "It means the top 10 keywords that contribute to this topic are: ‘car’, ‘power’, ‘light’.. and so on and the weight of ‘car’ on topic 0 is 0.016.\n",
    "\n",
    "The weights reflect how important a keyword is to that topic.\n",
    "\n",
    "Looking at these keywords, can you guess what this topic could be? You may summarise it either are ‘cars’ or ‘automobiles’.\n",
    "Likewise, can you go through the remaining topic keywords and judge what the topic is?"
   ]
  },
  {
   "cell_type": "markdown",
   "metadata": {
    "ExecuteTime": {
     "end_time": "2020-04-17T13:17:54.733113Z",
     "start_time": "2020-04-17T13:17:54.711171Z"
    },
    "hidden": true
   },
   "source": [
    "[image](https://www.machinelearningplus.com/nlp/topic-modeling-gensim-python/)"
   ]
  },
  {
   "cell_type": "markdown",
   "metadata": {
    "heading_collapsed": true
   },
   "source": [
    "# Compute Model Perplexity and Coherence Score\n",
    "Model perplexity and [topic coherence](https://rare-technologies.com/what-is-topic-coherence/) provide a convenient measure to judge how good a given topic model is. In my experience, topic coherence score, in particular, has been more helpful."
   ]
  },
  {
   "cell_type": "code",
   "execution_count": 18,
   "metadata": {
    "ExecuteTime": {
     "end_time": "2020-04-17T09:43:12.812348Z",
     "start_time": "2020-04-17T09:42:04.936316Z"
    },
    "hidden": true
   },
   "outputs": [
    {
     "name": "stdout",
     "output_type": "stream",
     "text": [
      "\n",
      "Perplexity:  -14.709939023559611\n",
      "\n",
      "Coherence Score:  0.47209780985849575\n"
     ]
    }
   ],
   "source": [
    "# Compute Perplexity\n",
    "print('\\nPerplexity: ', lda_model.log_perplexity(corpus))  # a measure of how good the model is. lower the better.\n",
    "\n",
    "# Compute Coherence Score\n",
    "coherence_model_lda = CoherenceModel(model=lda_model, texts=data_lemmatized, dictionary=id2word, coherence='c_v')\n",
    "coherence_lda = coherence_model_lda.get_coherence()\n",
    "print('\\nCoherence Score: ', coherence_lda)"
   ]
  },
  {
   "cell_type": "markdown",
   "metadata": {
    "heading_collapsed": true
   },
   "source": [
    "# Visualize the topics-keywords\n",
    "Now that the LDA model is built, the next step is to examine the produced topics and the associated keywords. There is no better tool than pyLDAvis package’s interactive chart and is designed to work well with jupyter notebooks."
   ]
  },
  {
   "cell_type": "code",
   "execution_count": 19,
   "metadata": {
    "ExecuteTime": {
     "end_time": "2020-04-17T10:16:01.181266Z",
     "start_time": "2020-04-17T09:43:12.815342Z"
    },
    "hidden": true
   },
   "outputs": [
    {
     "name": "stderr",
     "output_type": "stream",
     "text": [
      "C:\\Users\\saurabhkumar9\\AppData\\Local\\Continuum\\anaconda2\\envs\\spyder\\lib\\site-packages\\pyLDAvis\\_prepare.py:257: FutureWarning: Sorting because non-concatenation axis is not aligned. A future version\n",
      "of pandas will change to not sort by default.\n",
      "\n",
      "To accept the future behavior, pass 'sort=False'.\n",
      "\n",
      "To retain the current behavior and silence the warning, pass 'sort=True'.\n",
      "\n",
      "  return pd.concat([default_term_info] + list(topic_dfs))\n"
     ]
    },
    {
     "data": {
      "text/html": [
       "\n",
       "<link rel=\"stylesheet\" type=\"text/css\" href=\"https://cdn.rawgit.com/bmabey/pyLDAvis/files/ldavis.v1.0.0.css\">\n",
       "\n",
       "\n",
       "<div id=\"ldavis_el10097225632984173045571073504\"></div>\n",
       "<script type=\"text/javascript\">\n",
       "\n",
       "var ldavis_el10097225632984173045571073504_data = {\"mdsDat\": {\"x\": [-0.39489140586486743, -0.36837345731053234, -0.3240159661031203, -0.20247058549955343, -0.0972781481520785, -0.08268354284848545, 4.2875469975718904e-05, -0.035489224425813946, -0.007530828799530149, 0.05321677732159954, 0.09473968442208652, 0.11896338884750592, 0.12063603916640589, 0.1290284493829351, 0.13075512714997992, 0.15764362851341784, 0.16304927372174186, 0.1783273045527998, 0.18029956703696656, 0.186031043418569], \"y\": [-0.08163353166903735, -0.09137345983056358, -0.11820486936677325, 0.06389874388710909, 0.4491844561815321, 0.026646285705393964, 0.05942960373742823, -0.03018092411694124, 0.0017959486254870783, 0.008156798711727517, 0.004510555943001571, -0.012868355092970171, -0.01852650008197616, -0.021016679494633973, -0.02217697063541321, -0.03787353879990406, -0.03872660004316756, -0.04548390508950321, -0.04688560998543564, -0.048671448585358705], \"topics\": [1, 2, 3, 4, 5, 6, 7, 8, 9, 10, 11, 12, 13, 14, 15, 16, 17, 18, 19, 20], \"cluster\": [1, 1, 1, 1, 1, 1, 1, 1, 1, 1, 1, 1, 1, 1, 1, 1, 1, 1, 1, 1], \"Freq\": [43.44809341430664, 21.767868041992188, 7.682765483856201, 7.047361373901367, 4.832155227661133, 2.470277786254883, 2.0899808406829834, 1.9534507989883423, 1.8187823295593262, 1.693408727645874, 0.9902092814445496, 0.9701645970344543, 0.7939015626907349, 0.7613072395324707, 0.6380795240402222, 0.3737580180168152, 0.30449196696281433, 0.1860203742980957, 0.11893092840909958, 0.058997537940740585]}, \"tinfo\": {\"Category\": [\"Default\", \"Default\", \"Default\", \"Default\", \"Default\", \"Default\", \"Default\", \"Default\", \"Default\", \"Default\", \"Default\", \"Default\", \"Default\", \"Default\", \"Default\", \"Default\", \"Default\", \"Default\", \"Default\", \"Default\", \"Default\", \"Default\", \"Default\", \"Default\", \"Default\", \"Default\", \"Default\", \"Default\", \"Default\", \"Default\", \"Topic1\", \"Topic1\", \"Topic1\", \"Topic1\", \"Topic1\", \"Topic1\", \"Topic1\", \"Topic1\", \"Topic1\", \"Topic1\", \"Topic1\", \"Topic1\", \"Topic1\", \"Topic1\", \"Topic1\", \"Topic1\", \"Topic1\", \"Topic1\", \"Topic1\", \"Topic1\", \"Topic1\", \"Topic1\", \"Topic1\", \"Topic1\", \"Topic1\", \"Topic1\", \"Topic1\", \"Topic1\", \"Topic1\", \"Topic1\", \"Topic1\", \"Topic1\", \"Topic1\", \"Topic1\", \"Topic1\", \"Topic1\", \"Topic1\", \"Topic1\", \"Topic1\", \"Topic1\", \"Topic1\", \"Topic1\", \"Topic1\", \"Topic1\", \"Topic1\", \"Topic1\", \"Topic1\", \"Topic1\", \"Topic1\", \"Topic1\", \"Topic1\", \"Topic1\", \"Topic1\", \"Topic1\", \"Topic1\", \"Topic2\", \"Topic2\", \"Topic2\", \"Topic2\", \"Topic2\", \"Topic2\", \"Topic2\", \"Topic2\", \"Topic2\", \"Topic2\", \"Topic2\", \"Topic2\", \"Topic2\", \"Topic2\", \"Topic2\", \"Topic2\", \"Topic2\", \"Topic2\", \"Topic2\", \"Topic2\", \"Topic2\", \"Topic2\", \"Topic2\", \"Topic2\", \"Topic2\", \"Topic2\", \"Topic2\", \"Topic2\", \"Topic2\", \"Topic2\", \"Topic2\", \"Topic2\", \"Topic2\", \"Topic2\", \"Topic2\", \"Topic2\", \"Topic2\", \"Topic2\", \"Topic2\", \"Topic2\", \"Topic2\", \"Topic2\", \"Topic2\", \"Topic2\", \"Topic2\", \"Topic2\", \"Topic2\", \"Topic2\", \"Topic2\", \"Topic2\", \"Topic2\", \"Topic2\", \"Topic2\", \"Topic2\", \"Topic2\", \"Topic2\", \"Topic2\", \"Topic2\", \"Topic2\", \"Topic2\", \"Topic2\", \"Topic2\", \"Topic2\", \"Topic2\", \"Topic2\", \"Topic2\", \"Topic2\", \"Topic3\", \"Topic3\", \"Topic3\", \"Topic3\", \"Topic3\", \"Topic3\", \"Topic3\", \"Topic3\", \"Topic3\", \"Topic3\", \"Topic3\", \"Topic3\", \"Topic3\", \"Topic3\", \"Topic3\", \"Topic3\", \"Topic3\", \"Topic3\", \"Topic3\", \"Topic3\", \"Topic3\", \"Topic3\", \"Topic3\", \"Topic3\", \"Topic3\", \"Topic3\", \"Topic3\", \"Topic3\", \"Topic3\", \"Topic3\", \"Topic3\", \"Topic3\", \"Topic3\", \"Topic3\", \"Topic3\", \"Topic3\", \"Topic3\", \"Topic3\", \"Topic3\", \"Topic3\", \"Topic3\", \"Topic3\", \"Topic3\", \"Topic3\", \"Topic3\", \"Topic3\", \"Topic3\", \"Topic3\", \"Topic3\", \"Topic3\", \"Topic3\", \"Topic3\", \"Topic3\", \"Topic3\", \"Topic3\", \"Topic4\", \"Topic4\", \"Topic4\", \"Topic4\", \"Topic4\", \"Topic4\", \"Topic4\", \"Topic4\", \"Topic4\", \"Topic4\", \"Topic4\", \"Topic4\", \"Topic4\", \"Topic4\", \"Topic4\", \"Topic4\", \"Topic4\", \"Topic4\", \"Topic4\", \"Topic4\", \"Topic4\", \"Topic4\", \"Topic4\", \"Topic4\", \"Topic4\", \"Topic4\", \"Topic4\", \"Topic4\", \"Topic4\", \"Topic4\", \"Topic4\", \"Topic4\", \"Topic4\", \"Topic4\", \"Topic4\", \"Topic4\", \"Topic4\", \"Topic4\", \"Topic4\", \"Topic4\", \"Topic4\", \"Topic4\", \"Topic4\", \"Topic4\", \"Topic4\", \"Topic4\", \"Topic4\", \"Topic4\", \"Topic4\", \"Topic4\", \"Topic4\", \"Topic4\", \"Topic5\", \"Topic5\", \"Topic5\", \"Topic5\", \"Topic5\", \"Topic5\", \"Topic5\", \"Topic5\", \"Topic5\", \"Topic5\", \"Topic5\", \"Topic5\", \"Topic5\", \"Topic5\", \"Topic5\", \"Topic5\", \"Topic5\", \"Topic5\", \"Topic5\", \"Topic5\", \"Topic5\", \"Topic5\", \"Topic5\", \"Topic5\", \"Topic5\", \"Topic5\", \"Topic5\", \"Topic5\", \"Topic5\", \"Topic5\", \"Topic6\", \"Topic6\", \"Topic6\", \"Topic6\", \"Topic6\", \"Topic6\", \"Topic6\", \"Topic6\", \"Topic6\", \"Topic6\", \"Topic6\", \"Topic6\", \"Topic6\", \"Topic6\", \"Topic6\", \"Topic6\", \"Topic6\", \"Topic6\", \"Topic6\", \"Topic6\", \"Topic6\", \"Topic6\", \"Topic6\", \"Topic6\", \"Topic6\", \"Topic6\", \"Topic6\", \"Topic6\", \"Topic6\", \"Topic6\", \"Topic6\", \"Topic6\", \"Topic6\", \"Topic6\", \"Topic6\", \"Topic6\", \"Topic6\", \"Topic6\", \"Topic6\", \"Topic6\", \"Topic7\", \"Topic7\", \"Topic7\", \"Topic7\", \"Topic7\", \"Topic7\", \"Topic7\", \"Topic7\", \"Topic7\", \"Topic7\", \"Topic7\", \"Topic7\", \"Topic7\", \"Topic7\", \"Topic7\", \"Topic7\", \"Topic7\", \"Topic7\", \"Topic7\", \"Topic7\", \"Topic7\", \"Topic7\", \"Topic7\", \"Topic7\", \"Topic7\", \"Topic7\", \"Topic7\", \"Topic7\", \"Topic7\", \"Topic7\", \"Topic7\", \"Topic7\", \"Topic7\", \"Topic7\", \"Topic7\", \"Topic7\", \"Topic7\", \"Topic7\", \"Topic7\", \"Topic8\", \"Topic8\", \"Topic8\", \"Topic8\", \"Topic8\", \"Topic8\", \"Topic8\", \"Topic8\", \"Topic8\", \"Topic8\", \"Topic8\", \"Topic8\", \"Topic8\", \"Topic8\", \"Topic8\", \"Topic8\", \"Topic8\", \"Topic8\", \"Topic8\", \"Topic8\", \"Topic8\", \"Topic8\", \"Topic8\", \"Topic8\", \"Topic8\", \"Topic8\", \"Topic8\", \"Topic8\", \"Topic8\", \"Topic8\", \"Topic8\", \"Topic8\", \"Topic8\", \"Topic8\", \"Topic8\", \"Topic8\", \"Topic8\", \"Topic8\", \"Topic8\", \"Topic8\", \"Topic8\", \"Topic8\", \"Topic8\", \"Topic8\", \"Topic8\", \"Topic9\", \"Topic9\", \"Topic9\", \"Topic9\", \"Topic9\", \"Topic9\", \"Topic9\", \"Topic9\", \"Topic9\", \"Topic9\", \"Topic9\", \"Topic9\", \"Topic9\", \"Topic9\", \"Topic9\", \"Topic9\", \"Topic9\", \"Topic9\", \"Topic9\", \"Topic9\", \"Topic9\", \"Topic9\", \"Topic9\", \"Topic9\", \"Topic9\", \"Topic9\", \"Topic9\", \"Topic9\", \"Topic9\", \"Topic9\", \"Topic9\", \"Topic9\", \"Topic9\", \"Topic9\", \"Topic9\", \"Topic9\", \"Topic9\", \"Topic9\", \"Topic9\", \"Topic9\", \"Topic9\", \"Topic9\", \"Topic9\", \"Topic9\", \"Topic9\", \"Topic9\", \"Topic10\", \"Topic10\", \"Topic10\", \"Topic10\", \"Topic10\", \"Topic10\", \"Topic10\", \"Topic10\", \"Topic10\", \"Topic10\", \"Topic10\", \"Topic10\", \"Topic10\", \"Topic10\", \"Topic10\", \"Topic10\", \"Topic10\", \"Topic10\", \"Topic10\", \"Topic10\", \"Topic10\", \"Topic10\", \"Topic10\", \"Topic10\", \"Topic10\", \"Topic10\", \"Topic10\", \"Topic10\", \"Topic10\", \"Topic10\", \"Topic10\", \"Topic10\", \"Topic10\", \"Topic10\", \"Topic10\", \"Topic10\", \"Topic10\", \"Topic10\", \"Topic10\", \"Topic10\", \"Topic11\", \"Topic11\", \"Topic11\", \"Topic11\", \"Topic11\", \"Topic11\", \"Topic11\", \"Topic11\", \"Topic11\", \"Topic11\", \"Topic11\", \"Topic11\", \"Topic11\", \"Topic11\", \"Topic11\", \"Topic11\", \"Topic11\", \"Topic11\", \"Topic11\", \"Topic11\", \"Topic11\", \"Topic11\", \"Topic11\", \"Topic11\", \"Topic11\", \"Topic11\", \"Topic11\", \"Topic11\", \"Topic11\", \"Topic11\", \"Topic11\", \"Topic11\", \"Topic12\", \"Topic12\", \"Topic12\", \"Topic12\", \"Topic12\", \"Topic12\", \"Topic12\", \"Topic12\", \"Topic12\", \"Topic12\", \"Topic12\", \"Topic12\", \"Topic12\", \"Topic12\", \"Topic12\", \"Topic12\", \"Topic12\", \"Topic12\", \"Topic12\", \"Topic12\", \"Topic12\", \"Topic12\", \"Topic12\", \"Topic12\", \"Topic12\", \"Topic12\", \"Topic12\", \"Topic12\", \"Topic12\", \"Topic12\", \"Topic12\", \"Topic12\", \"Topic13\", \"Topic13\", \"Topic13\", \"Topic13\", \"Topic13\", \"Topic13\", \"Topic13\", \"Topic13\", \"Topic13\", \"Topic13\", \"Topic13\", \"Topic13\", \"Topic13\", \"Topic13\", \"Topic13\", \"Topic13\", \"Topic13\", \"Topic13\", \"Topic13\", \"Topic13\", \"Topic13\", \"Topic13\", \"Topic13\", \"Topic13\", \"Topic13\", \"Topic13\", \"Topic13\", \"Topic13\", \"Topic13\", \"Topic13\", \"Topic13\", \"Topic13\", \"Topic14\", \"Topic14\", \"Topic14\", \"Topic14\", \"Topic14\", \"Topic14\", \"Topic14\", \"Topic14\", \"Topic14\", \"Topic14\", \"Topic14\", \"Topic14\", \"Topic14\", \"Topic14\", \"Topic14\", \"Topic14\", \"Topic14\", \"Topic14\", \"Topic14\", \"Topic14\", \"Topic14\", \"Topic14\", \"Topic14\", \"Topic14\", \"Topic14\", \"Topic14\", \"Topic14\", \"Topic14\", \"Topic14\", \"Topic14\", \"Topic14\", \"Topic15\", \"Topic15\", \"Topic15\", \"Topic15\", \"Topic15\", \"Topic15\", \"Topic15\", \"Topic15\", \"Topic15\", \"Topic15\", \"Topic15\", \"Topic15\", \"Topic15\", \"Topic15\", \"Topic15\", \"Topic15\", \"Topic15\", \"Topic15\", \"Topic15\", \"Topic15\", \"Topic15\", \"Topic15\", \"Topic15\", \"Topic15\", \"Topic15\", \"Topic15\", \"Topic15\", \"Topic15\", \"Topic15\", \"Topic15\", \"Topic15\", \"Topic15\", \"Topic15\", \"Topic16\", \"Topic16\", \"Topic16\", \"Topic16\", \"Topic16\", \"Topic16\", \"Topic16\", \"Topic16\", \"Topic16\", \"Topic16\", \"Topic16\", \"Topic16\", \"Topic16\", \"Topic16\", \"Topic16\", \"Topic16\", \"Topic16\", \"Topic16\", \"Topic16\", \"Topic16\", \"Topic16\", \"Topic16\", \"Topic16\", \"Topic16\", \"Topic16\", \"Topic16\", \"Topic16\", \"Topic16\", \"Topic16\", \"Topic16\", \"Topic16\", \"Topic16\", \"Topic17\", \"Topic17\", \"Topic17\", \"Topic17\", \"Topic17\", \"Topic17\", \"Topic17\", \"Topic17\", \"Topic17\", \"Topic17\", \"Topic17\", \"Topic17\", \"Topic17\", \"Topic17\", \"Topic17\", \"Topic17\", \"Topic17\", \"Topic17\", \"Topic17\", \"Topic17\", \"Topic17\", \"Topic17\", \"Topic17\", \"Topic17\", \"Topic17\", \"Topic17\", \"Topic17\", \"Topic17\", \"Topic17\", \"Topic17\", \"Topic18\", \"Topic18\", \"Topic18\", \"Topic18\", \"Topic18\", \"Topic18\", \"Topic18\", \"Topic18\", \"Topic18\", \"Topic18\", \"Topic18\", \"Topic18\", \"Topic18\", \"Topic18\", \"Topic18\", \"Topic18\", \"Topic18\", \"Topic18\", \"Topic18\", \"Topic18\", \"Topic18\", \"Topic18\", \"Topic18\", \"Topic18\", \"Topic18\", \"Topic18\", \"Topic18\", \"Topic18\", \"Topic18\", \"Topic18\", \"Topic18\", \"Topic18\", \"Topic18\", \"Topic19\", \"Topic19\", \"Topic19\", \"Topic19\", \"Topic19\", \"Topic19\", \"Topic19\", \"Topic19\", \"Topic19\", \"Topic19\", \"Topic19\", \"Topic19\", \"Topic19\", \"Topic19\", \"Topic19\", \"Topic19\", \"Topic19\", \"Topic19\", \"Topic19\", \"Topic19\", \"Topic19\", \"Topic19\", \"Topic19\", \"Topic19\", \"Topic19\", \"Topic19\", \"Topic19\", \"Topic19\", \"Topic19\", \"Topic19\", \"Topic19\", \"Topic20\", \"Topic20\", \"Topic20\", \"Topic20\", \"Topic20\", \"Topic20\", \"Topic20\", \"Topic20\", \"Topic20\", \"Topic20\", \"Topic20\", \"Topic20\", \"Topic20\", \"Topic20\", \"Topic20\", \"Topic20\", \"Topic20\", \"Topic20\", \"Topic20\", \"Topic20\", \"Topic20\", \"Topic20\", \"Topic20\", \"Topic20\", \"Topic20\", \"Topic20\", \"Topic20\", \"Topic20\", \"Topic20\", \"Topic20\", \"Topic20\", \"Topic20\", \"Topic20\", \"Topic20\", \"Topic20\", \"Topic20\"], \"Freq\": [63111.0, 25105.0, 5459.0, 4455.0, 16451.0, 4425.0, 7098.0, 18478.0, 2391.0, 5316.0, 14286.0, 15776.0, 2862.0, 2689.0, 7543.0, 10501.0, 4333.0, 2696.0, 3411.0, 2628.0, 2165.0, 12304.0, 2615.0, 2483.0, 11208.0, 2271.0, 6832.0, 10320.0, 2273.0, 1985.0, 14285.0517578125, 12303.400390625, 11207.0302734375, 10319.2919921875, 5787.80419921875, 5563.03662109375, 4469.861328125, 4088.25146484375, 3620.7353515625, 3604.58251953125, 3247.71923828125, 3087.2373046875, 2668.645751953125, 2410.0126953125, 2257.843505859375, 16444.009765625, 1929.65625, 1750.727294921875, 2204.59765625, 1552.659912109375, 1506.853759765625, 1399.7548828125, 1185.1650390625, 1031.5404052734375, 1017.1551513671875, 977.3817749023438, 954.7494506835938, 934.1446533203125, 929.7230834960938, 929.4310913085938, 15693.4501953125, 3862.668701171875, 17997.9375, 5938.482421875, 24348.697265625, 5026.6025390625, 4471.599609375, 10604.6533203125, 4141.15771484375, 6529.001953125, 2048.512451171875, 12465.5986328125, 2570.947265625, 8035.39599609375, 6686.35986328125, 7031.73291015625, 4549.3798828125, 3210.204833984375, 4333.65966796875, 4977.779296875, 5497.966796875, 6247.63623046875, 5148.68603515625, 5300.0400390625, 3983.229736328125, 1269.9981689453125, 1225.1451416015625, 1162.1090087890625, 1110.6361083984375, 1018.1655883789062, 1007.1152954101562, 991.7308959960938, 985.8964233398438, 954.845703125, 917.2132568359375, 911.32470703125, 887.2183227539062, 853.4461059570312, 834.890625, 824.1475830078125, 820.5255126953125, 812.5001220703125, 802.9383544921875, 798.5425415039062, 778.3827514648438, 742.37255859375, 718.0305786132812, 716.8720092773438, 689.2442626953125, 685.5059814453125, 674.3243408203125, 668.49658203125, 666.716796875, 652.8330078125, 649.8560180664062, 970.3998413085938, 944.6962890625, 1271.738525390625, 1239.8321533203125, 1243.345947265625, 1252.312744140625, 3176.7607421875, 1565.0555419921875, 1598.5999755859375, 3993.949462890625, 1502.2181396484375, 1887.1285400390625, 1039.4140625, 1064.26953125, 1223.3330078125, 1625.7105712890625, 1385.37255859375, 3836.75732421875, 2588.156005859375, 1305.24365234375, 1701.2724609375, 1471.69677734375, 3124.47705078125, 2417.8681640625, 2127.98876953125, 1206.316162109375, 1883.66650390625, 2559.5390625, 2054.579833984375, 1318.6981201171875, 1989.8245849609375, 1557.46435546875, 1321.4815673828125, 1678.1282958984375, 1351.5433349609375, 1291.1318359375, 1264.3636474609375, 3043.956787109375, 2457.01123046875, 1018.1214599609375, 963.5782470703125, 911.3548583984375, 791.4420166015625, 739.4789428710938, 702.7215576171875, 645.1546020507812, 550.5286254882812, 500.96905517578125, 468.84332275390625, 455.96551513671875, 437.1650390625, 429.26568603515625, 405.5104064941406, 396.6002502441406, 383.9790954589844, 379.900146484375, 373.5997314453125, 368.5860290527344, 365.0280456542969, 362.01800537109375, 361.83245849609375, 345.9317626953125, 345.5791931152344, 336.08575439453125, 328.81591796875, 318.3873291015625, 317.1836242675781, 865.8499755859375, 806.666259765625, 349.71722412109375, 1723.3187255859375, 1038.218994140625, 848.118408203125, 1918.289306640625, 1331.99462890625, 1279.303466796875, 1054.8515625, 849.7342529296875, 1242.9033203125, 1242.2730712890625, 1192.5977783203125, 878.5905151367188, 2641.250732421875, 2135.03076171875, 1160.285400390625, 946.1788940429688, 1211.530029296875, 958.4111328125, 782.845947265625, 965.8990478515625, 972.5547485351562, 755.8999633789062, 2939.555908203125, 2532.9912109375, 2147.00634765625, 1951.6409912109375, 1944.3033447265625, 1592.508544921875, 2210.8623046875, 1216.0316162109375, 1114.7705078125, 1084.887939453125, 998.7125854492188, 968.7069702148438, 940.1884155273438, 877.4393920898438, 826.2186279296875, 719.1906127929688, 582.7864990234375, 572.1768188476562, 480.5043640136719, 430.0696716308594, 428.24871826171875, 412.7778015136719, 412.1881408691406, 405.9017333984375, 397.3512878417969, 390.19342041015625, 366.0061950683594, 333.1858825683594, 312.8863220214844, 295.216064453125, 2347.09326171875, 906.4383544921875, 757.7807006835938, 1279.2493896484375, 1416.943359375, 2803.459228515625, 4078.938232421875, 1450.6978759765625, 2018.2706298828125, 1452.295166015625, 1110.44140625, 1181.4957275390625, 1533.729736328125, 1179.2452392578125, 3300.6708984375, 2052.50537109375, 2025.55419921875, 1297.051513671875, 1077.61083984375, 1702.74072265625, 1497.27490234375, 1203.1533203125, 63110.90625, 4454.56640625, 587.729736328125, 384.2052001953125, 377.55279541015625, 364.7685241699219, 280.281005859375, 247.96206665039062, 152.6267547607422, 123.6213607788086, 113.41332244873047, 112.29713439941406, 107.78111267089844, 103.86955261230469, 94.17870330810547, 91.6018295288086, 87.79945373535156, 87.27237701416016, 86.02025604248047, 84.35568237304688, 81.73774719238281, 80.85443878173828, 79.93444061279297, 68.652587890625, 66.81307220458984, 65.85857391357422, 59.851436614990234, 59.024784088134766, 56.42293930053711, 55.38020706176758, 2614.895751953125, 2482.7080078125, 1658.122802734375, 1420.07080078125, 963.6597290039062, 790.2091674804688, 657.8963623046875, 635.7684326171875, 633.060791015625, 550.5684814453125, 527.8948364257812, 440.36468505859375, 391.7535705566406, 382.9700622558594, 357.5633850097656, 333.68603515625, 301.3326416015625, 296.57086181640625, 279.250732421875, 265.9610900878906, 256.15728759765625, 245.9012451171875, 233.35275268554688, 223.6638946533203, 201.8624725341797, 276.2867126464844, 199.82920837402344, 191.59983825683594, 180.6686553955078, 177.12364196777344, 1539.339599609375, 1464.4769287109375, 403.0723571777344, 473.21392822265625, 370.61529541015625, 464.11688232421875, 328.17034912109375, 391.1197509765625, 324.1997985839844, 313.6609191894531, 2695.709228515625, 2627.167724609375, 1240.427734375, 1112.101806640625, 1075.3140869140625, 1069.4990234375, 888.7901000976562, 846.4073486328125, 749.47900390625, 647.906494140625, 586.1133422851562, 540.3694458007812, 522.7174682617188, 493.3349914550781, 370.6984558105469, 358.9458923339844, 352.2731018066406, 275.77191162109375, 253.45672607421875, 220.09059143066406, 193.632080078125, 193.3019561767578, 192.3402862548828, 184.97293090820312, 174.38406372070312, 166.77011108398438, 162.565673828125, 159.4877471923828, 151.78720092773438, 150.0147247314453, 461.4891357421875, 1010.0963134765625, 562.3784790039062, 574.9885864257812, 1147.9854736328125, 252.7279052734375, 489.6122741699219, 242.73057556152344, 242.16197204589844, 2270.437744140625, 1713.5694580078125, 1474.798095703125, 1453.5794677734375, 713.7982177734375, 538.3951416015625, 475.7451477050781, 402.7968444824219, 391.03472900390625, 364.4779357910156, 302.7410888671875, 296.0370178222656, 291.8270568847656, 266.3336181640625, 225.4076385498047, 204.0164031982422, 201.4967041015625, 181.1727752685547, 175.9676513671875, 174.6560821533203, 148.02272033691406, 143.35797119140625, 142.3052215576172, 141.95372009277344, 129.38589477539062, 124.41411590576172, 120.42534637451172, 119.58670806884766, 109.36929321289062, 107.56809997558594, 335.2796325683594, 266.49053955078125, 560.1198120117188, 485.6568908691406, 1074.5406494140625, 1018.516845703125, 256.9955139160156, 960.3792114257812, 518.5512084960938, 467.30999755859375, 422.17974853515625, 207.29522705078125, 217.85179138183594, 409.28582763671875, 234.0195770263672, 2861.40478515625, 1984.794677734375, 720.907470703125, 511.3790588378906, 485.81817626953125, 477.1113586425781, 436.78045654296875, 364.1775817871094, 353.0443115234375, 328.3483581542969, 305.0030212402344, 300.47418212890625, 257.3970947265625, 222.3684844970703, 186.47425842285156, 183.56219482421875, 177.27760314941406, 170.0999298095703, 169.9422149658203, 161.21800231933594, 150.56845092773438, 149.63235473632812, 144.01939392089844, 134.9875030517578, 131.95350646972656, 114.74161529541016, 109.98532104492188, 109.96157836914062, 108.79833984375, 105.45442199707031, 312.9136962890625, 287.0053405761719, 389.8031005859375, 719.7664184570312, 306.3330383300781, 373.4278259277344, 252.72848510742188, 237.0455322265625, 374.9540710449219, 358.7582092285156, 359.3891906738281, 229.38221740722656, 240.2527618408203, 202.3779754638672, 272.1701354980469, 218.49935913085938, 2688.38671875, 1780.23779296875, 1265.509033203125, 1209.6346435546875, 966.5802001953125, 808.4620971679688, 792.1867065429688, 673.0686645507812, 540.5087280273438, 375.7085266113281, 307.19427490234375, 304.057373046875, 303.51165771484375, 286.5298156738281, 285.7737121582031, 276.10162353515625, 240.6971435546875, 239.3671417236328, 222.17173767089844, 212.0970458984375, 205.3350830078125, 153.09019470214844, 152.32086181640625, 148.38124084472656, 133.5188751220703, 112.44374084472656, 103.42960357666016, 94.6917495727539, 92.70579528808594, 92.6492919921875, 577.3687133789062, 266.9638671875, 831.6542358398438, 403.9598083496094, 452.3451232910156, 373.7533264160156, 208.93275451660156, 237.95465087890625, 280.53619384765625, 260.885986328125, 1094.17822265625, 585.5084228515625, 561.6495361328125, 462.60211181640625, 461.7422790527344, 442.08447265625, 401.84625244140625, 390.9967041015625, 381.8152160644531, 330.6163024902344, 322.26068115234375, 298.29693603515625, 259.5179748535156, 254.5121307373047, 201.8773651123047, 198.4464111328125, 180.79885864257812, 180.7847137451172, 177.4449462890625, 168.61244201660156, 168.56063842773438, 163.72540283203125, 160.05162048339844, 153.65792846679688, 147.32467651367188, 123.84208679199219, 123.29998779296875, 119.51315307617188, 111.73251342773438, 103.51183319091797, 174.10020446777344, 119.1454086303711, 2164.69970703125, 565.96337890625, 547.4879760742188, 494.1395263671875, 435.2815856933594, 333.89300537109375, 324.8853759765625, 310.04486083984375, 261.56964111328125, 260.26129150390625, 256.9867858886719, 238.51953125, 238.3223419189453, 229.01657104492188, 203.35662841796875, 171.35565185546875, 170.16531372070312, 162.0921630859375, 143.32696533203125, 142.6634063720703, 131.71824645996094, 118.69730377197266, 118.44673156738281, 101.98223114013672, 100.50202941894531, 95.37385559082031, 94.6334228515625, 91.50636291503906, 87.18053436279297, 83.46163940429688, 316.8091735839844, 100.38319396972656, 579.0604858398438, 484.03936767578125, 414.1012268066406, 360.57025146484375, 298.44989013671875, 296.92431640625, 287.79461669921875, 276.4739685058594, 272.31903076171875, 269.0199890136719, 262.33349609375, 248.7661590576172, 227.2084197998047, 213.7692108154297, 195.5741729736328, 178.7731170654297, 177.08363342285156, 175.31454467773438, 171.7529296875, 170.00758361816406, 169.87643432617188, 163.82090759277344, 152.2302703857422, 138.69200134277344, 136.46055603027344, 133.2501678466797, 125.7453842163086, 121.4189224243164, 116.11598205566406, 102.37657165527344, 194.13108825683594, 134.1553497314453, 991.892822265625, 680.65283203125, 468.62554931640625, 368.7771911621094, 365.5417785644531, 321.27117919921875, 254.50515747070312, 252.6993408203125, 249.78704833984375, 207.88275146484375, 192.07150268554688, 185.54718017578125, 185.0366668701172, 177.53668212890625, 159.80450439453125, 156.26910400390625, 156.19503784179688, 151.52590942382812, 151.41165161132812, 146.7738037109375, 146.29644775390625, 136.70884704589844, 135.1079559326172, 134.26321411132812, 132.57554626464844, 126.00499725341797, 119.6306381225586, 91.73709869384766, 87.2203369140625, 80.88885498046875, 122.8865737915039, 2390.66064453125, 556.7330322265625, 448.6049499511719, 179.2642364501953, 171.62564086914062, 160.05563354492188, 147.5878143310547, 119.4509048461914, 110.72232818603516, 108.6058349609375, 105.89076232910156, 80.59505462646484, 79.54645538330078, 64.36805725097656, 61.82295227050781, 43.6525993347168, 40.22106170654297, 40.08142852783203, 40.08142852783203, 37.89387512207031, 17.237518310546875, 176.53213500976562, 49.37485885620117, 420.64007568359375, 233.3151397705078, 134.14617919921875, 68.98277282714844, 0.055709946900606155, 0.05571066215634346, 0.05571168661117554, 30.584169387817383, 32.812740325927734, 6.291569232940674, 780.1425170898438, 569.4951782226562, 384.9938049316406, 168.12020874023438, 151.3153839111328, 129.6884765625, 115.18848419189453, 104.69759368896484, 91.16836547851562, 91.1268081665039, 78.61200714111328, 68.66586303710938, 52.68376541137695, 49.35728454589844, 24.81790542602539, 22.969614028930664, 5.242906093597412, 0.042214419692754745, 0.04221475496888161, 0.04221203178167343, 0.042211227118968964, 0.0422104187309742, 0.042209193110466, 0.0422079935669899, 0.042206212878227234, 0.042205777019262314, 0.04220452904701233, 0.04220417141914368, 0.0422029122710228, 0.04220325127243996, 38.87712097167969, 0.04220346361398697, 526.6846923828125, 295.4339599609375, 178.6958465576172, 132.29568481445312, 131.4673614501953, 112.47872161865234, 84.29875946044922, 79.37333679199219, 76.97750091552734, 75.9372787475586, 63.560298919677734, 63.43912124633789, 56.20267105102539, 53.715049743652344, 50.88911056518555, 37.68737030029297, 34.883724212646484, 17.515045166015625, 17.170480728149414, 16.09546661376953, 13.451079368591309, 12.534253120422363, 7.697981834411621, 7.437820911407471, 7.384273529052734, 4.829026222229004, 4.460382461547852, 3.8765978813171387, 75.24989318847656, 1.1903867721557617, 194.10267639160156, 140.37762451171875, 98.33429718017578, 83.5309829711914, 72.19180297851562, 61.75304412841797, 40.096641540527344, 32.641239166259766, 27.66429328918457, 25.229169845581055, 23.681283950805664, 23.063167572021484, 22.760046005249023, 13.379303932189941, 0.48909905552864075, 0.029421469196677208, 0.029421817511320114, 0.02941880375146866, 0.02941867522895336, 0.029418345540761948, 0.029418431222438812, 0.029418248683214188, 0.029418649151921272, 0.02941829152405262, 0.02941797487437725, 0.029418371617794037, 0.029418401420116425, 0.02941850945353508, 0.029418820515275, 0.02941741608083248, 0.029417624697089195, 0.02941839210689068, 0.02941819280385971, 122.57304382324219, 48.642799377441406, 33.63917541503906, 26.56949806213379, 17.683069229125977, 16.063161849975586, 14.105822563171387, 13.813041687011719, 12.840027809143066, 11.769298553466797, 6.579097747802734, 5.8307414054870605, 4.451844692230225, 4.3564348220825195, 2.977665662765503, 2.168081283569336, 106.64546966552734, 13.665467262268066, 5.864748477935791, 0.019928527995944023, 0.019927164539694786, 0.019925663247704506, 0.019924886524677277, 0.01992480829358101, 0.019924813881516457, 0.019924748688936234, 0.019924743101000786, 0.019924741238355637, 0.019924549385905266, 0.019924718886613846, 0.019924748688936234, 61.763126373291016, 40.944190979003906, 12.211312294006348, 8.5075101852417, 7.7143449783325195, 3.1030406951904297, 0.011281377635896206, 0.011278538964688778, 0.011278538964688778, 0.011277483776211739, 0.011277119629085064, 0.011277119629085064, 0.011277119629085064, 0.011277119629085064, 0.011277119629085064, 0.011277119629085064, 0.011277121491730213, 0.011277119629085064, 0.011277141980826855, 0.011277143843472004, 0.011276444420218468, 0.011276232078671455, 0.011276072822511196, 0.011275979690253735, 0.011275967583060265, 0.011275938712060452, 0.011275938712060452, 0.011275969445705414, 0.011275913566350937, 0.011275934055447578, 0.011275933124125004, 0.011275913566350937, 0.011276163160800934, 0.011275986209511757, 0.011275995522737503, 0.011275953613221645], \"Term\": [\"ax\", \"not\", \"year\", \"max\", \"organization\", \"right\", \"use\", \"line\", \"window\", \"system\", \"write\", \"do\", \"space\", \"file\", \"people\", \"say\", \"problem\", \"drive\", \"state\", \"card\", \"car\", \"be\", \"game\", \"team\", \"article\", \"government\", \"good\", \"get\", \"bit\", \"key\", \"write\", \"be\", \"article\", \"get\", \"s\", \"want\", \"have\", \"anyone\", \"nntp_post\", \"post\", \"really\", \"nntp_posting\", \"sure\", \"lot\", \"probably\", \"organization\", \"hard\", \"ill\", \"hear\", \"else\", \"maybe\", \"able\", \"internet\", \"sound\", \"better\", \"server\", \"pretty\", \"nice\", \"machine\", \"anyway\", \"do\", \"reply\", \"line\", \"host\", \"not\", \"look\", \"try\", \"know\", \"much\", \"good\", \"someone\", \"would\", \"let\", \"go\", \"university\", \"think\", \"could\", \"something\", \"thing\", \"well\", \"see\", \"make\", \"time\", \"say\", \"work\", \"report\", \"kid\", \"cover\", \"there\", \"head\", \"job\", \"house\", \"rate\", \"family\", \"road\", \"drug\", \"war\", \"publish\", \"notice\", \"continue\", \"city\", \"rise\", \"involve\", \"hour\", \"stand\", \"food\", \"option\", \"matthew\", \"remain\", \"meet\", \"normal\", \"charge\", \"blue\", \"vote\", \"sign\", \"receive\", \"age\", \"area\", \"begin\", \"today\", \"face\", \"day\", \"center\", \"leave\", \"year\", \"kill\", \"power\", \"later\", \"close\", \"national\", \"provide\", \"issue\", \"people\", \"first\", \"become\", \"case\", \"live\", \"time\", \"take\", \"new\", \"cause\", \"many\", \"say\", \"may\", \"show\", \"also\", \"number\", \"place\", \"make\", \"must\", \"group\", \"call\", \"god\", \"christian\", \"evidence\", \"bible\", \"truth\", \"belief\", \"faith\", \"church\", \"event\", \"lord\", \"father\", \"moral\", \"context\", \"atheist\", \"christ\", \"religious\", \"teach\", \"existence\", \"evil\", \"gay\", \"nature\", \"christianity\", \"imply\", \"scripture\", \"marriage\", \"sex\", \"homosexual\", \"prepare\", \"conclusion\", \"worship\", \"argument\", \"death\", \"false\", \"life\", \"die\", \"human\", \"believe\", \"word\", \"claim\", \"exist\", \"accept\", \"book\", \"law\", \"man\", \"love\", \"say\", \"people\", \"fact\", \"true\", \"mean\", \"reason\", \"world\", \"think\", \"would\", \"not\", \"mail\", \"program\", \"info\", \"software\", \"sale\", \"image\", \"computer\", \"contact\", \"user\", \"fax\", \"disk\", \"sun\", \"peter\", \"mac\", \"pc\", \"library\", \"electronic\", \"feature\", \"mhz\", \"output\", \"input\", \"interface\", \"manager\", \"excellent\", \"serial\", \"wide\", \"resolution\", \"compute\", \"shipping\", \"cd\", \"available\", \"model\", \"hardware\", \"advance\", \"address\", \"information\", \"system\", \"price\", \"include\", \"list\", \"box\", \"reference\", \"send\", \"datum\", \"use\", \"thank\", \"run\", \"support\", \"source\", \"also\", \"new\", \"need\", \"ax\", \"max\", \"package\", \"ibm\", \"print\", \"limit\", \"load\", \"privacy\", \"monthly\", \"initiative\", \"bureau\", \"kent_sandvik\", \"virus\", \"gerald\", \"selection\", \"exe\", \"laser\", \"stable\", \"respectively\", \"gerald_olchowy\", \"dalla\", \"bmw\", \"believer\", \"cooperation\", \"invasion\", \"wilson\", \"toronto_chemistry\", \"cookamunga_tourist\", \"clinton_administration\", \"dayton\", \"game\", \"team\", \"play\", \"player\", \"season\", \"canada\", \"goal\", \"fan\", \"score\", \"pittsburgh\", \"hawk\", \"canadian\", \"case_western\", \"reserve_university\", \"playoff\", \"brother\", \"draft\", \"steal\", \"penalty\", \"pitch\", \"staff\", \"success\", \"gordon_bank\", \"frank\", \"tie\", \"professional\", \"ahead\", \"snow\", \"career\", \"surrender\", \"win\", \"year\", \"final\", \"hit\", \"period\", \"last\", \"lose\", \"first\", \"second\", \"run\", \"drive\", \"card\", \"driver\", \"color\", \"graphic\", \"speed\", \"mode\", \"memory\", \"monitor\", \"ram\", \"oil\", \"bus\", \"specifically\", \"scsi\", \"motor\", \"meg\", \"printer\", \"clock\", \"compatible\", \"warning\", \"entry\", \"super\", \"fm\", \"configuration\", \"island\", \"programmer\", \"video_card\", \"recommendation\", \"gateway\", \"stock\", \"setup\", \"board\", \"performance\", \"mb\", \"bit\", \"internal\", \"problem\", \"com\", \"version\", \"government\", \"gun\", \"president\", \"chip\", \"criminal\", \"crime\", \"weapon\", \"chief\", \"citizen\", \"congress\", \"federal\", \"constitution\", \"palestinian\", \"newspaper\", \"ban\", \"regulation\", \"militia\", \"united_state\", \"prohibit\", \"amendment\", \"second_amendment\", \"minister\", \"liberty\", \"salary\", \"court_order\", \"legislation\", \"senior\", \"environmental\", \"authorize\", \"oblige\", \"freedom\", \"court\", \"protect\", \"police\", \"law\", \"state\", \"legal\", \"right\", \"american\", \"country\", \"public\", \"proposal\", \"meeting\", \"people\", \"bill\", \"space\", \"key\", \"encryption\", \"clipper\", \"satellite\", \"algorithm\", \"orbit\", \"archive\", \"spacecraft\", \"nsa\", \"computing\", \"finger\", \"mar\", \"comet\", \"edward\", \"export\", \"sequence\", \"animation\", \"documentation\", \"bruce\", \"solar\", \"pgp\", \"jupiter\", \"atmosphere\", \"lane\", \"cryptography\", \"mathematic\", \"mustang\", \"planetary\", \"communicate\", \"secure\", \"secret\", \"security\", \"technology\", \"voice\", \"earth\", \"industry\", \"commercial\", \"datum\", \"message\", \"provide\", \"develop\", \"product\", \"block\", \"system\", \"design\", \"file\", \"standard\", \"code\", \"phone\", \"copy\", \"display\", \"circuit\", \"section\", \"directory\", \"uk\", \"pub\", \"crash\", \"jeff\", \"multiple\", \"proceed\", \"cpu\", \"adapter\", \"menu\", \"hewlett_packard\", \"pennsylvania\", \"pointer\", \"floppy\", \"flash\", \"purdue_university\", \"xlib\", \"floppy_disk\", \"functionality\", \"greatly_appreciat\", \"cc\", \"usage\", \"function\", \"analysis\", \"email\", \"author\", \"department\", \"network\", \"upgrade\", \"site\", \"page\", \"current\", \"hockey\", \"division\", \"league\", \"russian\", \"baseball\", \"together\", \"field\", \"boston\", \"sport\", \"hall\", \"moon\", \"band\", \"coverage\", \"cup\", \"status\", \"dare\", \"capital\", \"montreal\", \"counter\", \"logo\", \"davi\", \"gather\", \"hab\", \"sunday\", \"dodger\", \"alaska\", \"canuck\", \"todd\", \"tiger\", \"winnipeg_jet\", \"exact\", \"east\", \"car\", \"engine\", \"owner\", \"tom\", \"dealer\", \"summer\", \"dollar\", \"steven\", \"inform\", \"terminal\", \"cool\", \"xterm\", \"carnegie_mellon\", \"md\", \"meter\", \"jet\", \"capture\", \"instrument\", \"loop\", \"hopefully\", \"gross\", \"motion\", \"replacement\", \"weeks_ago\", \"semi\", \"scratch\", \"fee\", \"cmu\", \"reset\", \"reading\", \"mile\", \"automatic\", \"text\", \"mike\", \"clipper_chip\", \"pin\", \"shop\", \"motorcycle\", \"reader\", \"ignore\", \"data\", \"van\", \"brown\", \"panel\", \"speaker\", \"announcement\", \"white_house\", \"tel\", \"difficulty\", \"procedure\", \"diet\", \"window_manager\", \"component\", \"register\", \"registration\", \"rarely\", \"category\", \"serial_number\", \"socket\", \"accuracy\", \"arise\", \"david_sternlight\", \"rd\", \"department\", \"religion\", \"king\", \"air\", \"slow\", \"motif\", \"pain\", \"mailing_list\", \"complain\", \"feed\", \"default\", \"seal\", \"dan\", \"docs\", \"waco\", \"familiar\", \"cult\", \"patch\", \"espn\", \"ridiculous\", \"postscript\", \"pop\", \"marc\", \"rush\", \"tonight\", \"revelation\", \"needless\", \"ltd\", \"london\", \"abc\", \"steer\", \"chicago\", \"window\", \"screen\", \"font\", \"installation\", \"microsoft\", \"lee\", \"dos\", \"henry_spencer\", \"gate\", \"toolkit\", \"borland\", \"toronto_zoology\", \"assembly\", \"sam\", \"compiler\", \"wordperfect\", \"macro\", \"mans_work\", \"kipling_utzoo\", \"host_magnusug\", \"negotiable\", \"resource\", \"henry\", \"version\", \"application\", \"win\", \"create\", \"users_guide\", \"utility\", \"instal\", \"product\", \"run\", \"setup\", \"israel\", \"israeli\", \"arab\", \"recognize\", \"policy_research\", \"fully\", \"eternal\", \"torture\", \"grace\", \"aside\", \"ought\", \"protest\", \"cycle\", \"bitnet\", \"resurrection\", \"govern\", \"opt\", \"lebanon\", \"border\", \"civilian\", \"attack\", \"peace\", \"jew\", \"jewish\", \"village\", \"terrorist\", \"syria\", \"lebanese\", \"guerilla\", \"negotiation\", \"center\", \"soldier\", \"bike\", \"ride\", \"prophecy\", \"seat\", \"duke\", \"tire\", \"shadow\", \"caltech\", \"honda\", \"california_institute\", \"technology_pasadena\", \"rider\", \"fulfil\", \"intelligent\", \"feb\", \"slide\", \"durham\", \"convertible\", \"loan\", \"dammit\", \"lunatic\", \"mike_sturdevant\", \"pluto\", \"andrew_infante\", \"drum\", \"north_acpub\", \"hatch\", \"tuff\", \"corner\", \"bissell\", \"germany\", \"islam\", \"comparison\", \"predict\", \"capability\", \"prediction\", \"phenomenon\", \"trace\", \"pov\", \"benedikt_rosenau\", \"football\", \"benedikt\", \"fred_rice\", \"university_braunschweig\", \"raytracer\", \"rushdie\", \"muslim\", \"quran\", \"france\", \"austria\", \"italy\", \"czech_republic\", \"norris\", \"norway\", \"pope\", \"switzerland\", \"finland\", \"russia\", \"verse\", \"satanic\", \"islamic\", \"mouse\", \"jew\", \"msg\", \"syndrome\", \"superstition\", \"infection\", \"pose\", \"proportion\", \"nuts\", \"stomach\", \"restaurant\", \"chinese_restaurant\", \"allergic\", \"deter\", \"bacterial\", \"doug_bank\", \"chinese_food\", \"sauce\", \"health\", \"chinese\", \"reaction\", \"homeopathy\", \"glutamate\", \"homeopathic\", \"milshteyn\", \"msg_sensitivity\", \"ingredient\", \"flavor\", \"evan\", \"infant\", \"olney\", \"procida\", \"britain\", \"illinoi\", \"urbana\", \"reed\", \"havent_seen\", \"sean\", \"fascinating\", \"laptop\", \"darin\", \"fox\", \"cubs_suck\", \"sxl\", \"compudyne\", \"seinfeld\", \"graduate_school\", \"grey_scale\", \"math_coprocessor\", \"johnny\", \"monochrome\", \"best_offer\", \"vga\", \"macx\", \"stan_kerr\", \"repaint\", \"rollout\", \"closed_door\", \"autodoubler\", \"stac\", \"communications_service\", \"shrill\", \"peculiar\", \"misc_forsale\", \"korash\", \"client\", \"patrick\", \"apple\", \"tape\"], \"Total\": [63111.0, 25105.0, 5459.0, 4455.0, 16451.0, 4425.0, 7098.0, 18478.0, 2391.0, 5316.0, 14286.0, 15776.0, 2862.0, 2689.0, 7543.0, 10501.0, 4333.0, 2696.0, 3411.0, 2628.0, 2165.0, 12304.0, 2615.0, 2483.0, 11208.0, 2271.0, 6832.0, 10320.0, 2273.0, 1985.0, 14286.1201171875, 12304.46875, 11208.0986328125, 10320.3603515625, 5788.87255859375, 5564.10498046875, 4470.9296875, 4089.320068359375, 3621.803955078125, 3605.651123046875, 3248.787841796875, 3088.305908203125, 2669.71435546875, 2411.081298828125, 2258.912109375, 16451.904296875, 1930.7269287109375, 1751.79638671875, 2206.023681640625, 1553.72900390625, 1507.9228515625, 1400.823974609375, 1186.234130859375, 1032.6094970703125, 1018.22412109375, 978.4507446289062, 955.8184204101562, 935.213623046875, 930.7920532226562, 930.5000610351562, 15776.951171875, 3870.3076171875, 18478.9375, 6034.4560546875, 25105.607421875, 5131.46337890625, 4563.505859375, 11032.2822265625, 4253.7900390625, 6832.28857421875, 2068.335693359375, 13989.6484375, 2631.70947265625, 9097.5556640625, 7527.0205078125, 7998.63720703125, 4997.9453125, 3424.987060546875, 4963.578125, 5925.82373046875, 6849.14404296875, 8544.6328125, 8274.1572265625, 10501.7607421875, 5482.50390625, 1271.0650634765625, 1226.2120361328125, 1163.1759033203125, 1111.7030029296875, 1019.2323608398438, 1008.1820678710938, 992.7976684570312, 986.9631958007812, 955.9124755859375, 918.280029296875, 912.3914794921875, 888.2850952148438, 854.5128784179688, 835.9573974609375, 825.21435546875, 821.59228515625, 813.56689453125, 804.005126953125, 799.6093139648438, 779.4495239257812, 743.4393310546875, 719.0973510742188, 717.9387817382812, 690.31103515625, 686.57275390625, 675.39111328125, 669.5633544921875, 667.7835693359375, 653.8997802734375, 650.9227905273438, 978.2039184570312, 959.2410888671875, 1322.9410400390625, 1295.050048828125, 1304.069091796875, 1325.2767333984375, 3775.49267578125, 1744.323486328125, 1838.7672119140625, 5459.43212890625, 1710.7523193359375, 2319.504638671875, 1113.7039794921875, 1153.48779296875, 1414.5518798828125, 2133.0302734375, 1716.980712890625, 7543.94189453125, 4485.11181640625, 1589.804931640625, 2419.931640625, 2028.4591064453125, 8274.1572265625, 5330.92822265625, 4771.64306640625, 1508.705078125, 4093.749267578125, 10501.7607421875, 6531.42578125, 2098.465576171875, 6830.337890625, 3376.18701171875, 2154.3857421875, 8544.6328125, 2781.03662109375, 2797.08154296875, 4300.71923828125, 3045.0341796875, 2458.088623046875, 1019.1994018554688, 964.6561889648438, 912.4328002929688, 792.5199584960938, 740.556884765625, 703.7994995117188, 646.2325439453125, 551.6065673828125, 502.0470275878906, 469.9212951660156, 457.0434875488281, 438.2430114746094, 430.3436584472656, 406.58837890625, 397.67822265625, 385.05706787109375, 380.9781188964844, 374.6777038574219, 369.6644287109375, 366.10601806640625, 363.0959777832031, 362.9104309082031, 347.0097351074219, 346.65716552734375, 337.1637268066406, 329.8938903808594, 319.4653015136719, 318.2615966796875, 883.4427490234375, 902.4205322265625, 354.64849853515625, 2577.81884765625, 1450.7896728515625, 1124.24560546875, 3319.097412109375, 2121.256103515625, 2064.499267578125, 1662.816162109375, 1229.9107666015625, 2198.06689453125, 2317.82421875, 2344.99462890625, 1505.3204345703125, 10501.7607421875, 7543.94189453125, 2576.58154296875, 1921.4034423828125, 3498.550537109375, 2212.19140625, 2480.630859375, 7998.63720703125, 13989.6484375, 25105.607421875, 2940.61083984375, 2534.046142578125, 2148.061279296875, 1952.696533203125, 1945.35888671875, 1593.5640869140625, 2212.74951171875, 1217.087158203125, 1115.8260498046875, 1085.9434814453125, 999.7678833007812, 969.7622680664062, 941.2437133789062, 878.4946899414062, 827.27392578125, 720.2459106445312, 583.841796875, 573.2321166992188, 481.55975341796875, 431.12506103515625, 429.3041076660156, 413.83319091796875, 413.2435302734375, 406.9571228027344, 398.40667724609375, 391.2488098144531, 367.06158447265625, 334.24127197265625, 313.94171142578125, 296.2714538574219, 2442.741455078125, 941.7430419921875, 781.5275268554688, 1366.52294921875, 1543.313720703125, 3270.525634765625, 5316.7998046875, 1767.158935546875, 2740.01708984375, 1855.75341796875, 1357.01904296875, 1494.857421875, 2177.25439453125, 1555.1826171875, 7098.96875, 3734.7265625, 3843.73974609375, 2536.705810546875, 1596.531005859375, 6830.337890625, 4771.64306640625, 4877.07080078125, 63111.98828125, 4455.6513671875, 588.8151245117188, 385.2906494140625, 378.63824462890625, 365.8539733886719, 281.366455078125, 249.04750061035156, 153.71218872070312, 124.70681762695312, 114.498779296875, 113.3825912475586, 108.86656951904297, 104.95500946044922, 95.26416015625, 92.68728637695312, 88.8849105834961, 88.35783386230469, 87.105712890625, 85.4411392211914, 82.82320404052734, 81.93989562988281, 81.0198974609375, 69.73804473876953, 67.89852905273438, 66.94403076171875, 60.9368782043457, 60.110225677490234, 57.50838088989258, 56.46564865112305, 2615.976318359375, 2483.78857421875, 1659.2158203125, 1421.151611328125, 964.7404174804688, 791.2899169921875, 658.97705078125, 636.84912109375, 634.1414794921875, 551.649169921875, 528.9755249023438, 441.4454650878906, 392.8343505859375, 384.05084228515625, 358.6441650390625, 334.7668151855469, 302.4134216308594, 297.6516418457031, 280.3315124511719, 267.0418701171875, 257.2380676269531, 246.98202514648438, 234.43353271484375, 224.7446746826172, 202.94325256347656, 277.7725524902344, 200.9099884033203, 192.6806182861328, 181.7494354248047, 178.2044219970703, 1674.510986328125, 5459.43212890625, 688.9862060546875, 967.291015625, 657.179931640625, 2127.89453125, 1448.4248046875, 4485.11181640625, 1850.5582275390625, 3843.73974609375, 2696.78125, 2628.23974609375, 1241.4998779296875, 1113.1739501953125, 1076.38623046875, 1070.5711669921875, 889.862060546875, 847.4793090820312, 750.5509643554688, 648.9784545898438, 587.185302734375, 541.44140625, 523.7894287109375, 494.40704345703125, 371.7705078125, 360.0179443359375, 353.34515380859375, 276.8439636230469, 254.52879333496094, 221.16265869140625, 194.7041473388672, 194.3740234375, 193.412353515625, 186.0449981689453, 175.4561309814453, 167.84217834472656, 163.6377410888672, 160.559814453125, 152.85926818847656, 151.0867919921875, 468.79705810546875, 1043.8150634765625, 592.1881103515625, 625.570068359375, 2273.486572265625, 390.7938537597656, 4333.48828125, 1193.4642333984375, 1246.118896484375, 2271.511474609375, 1714.643310546875, 1475.8719482421875, 1454.6533203125, 714.8719482421875, 539.4688720703125, 476.8189697265625, 403.87066650390625, 392.1085510253906, 365.5517578125, 303.8149108886719, 297.11083984375, 292.90087890625, 267.4074401855469, 226.4814453125, 205.0902099609375, 202.5705108642578, 182.24658203125, 177.0414581298828, 175.72988891601562, 149.09652709960938, 144.43177795410156, 143.3790283203125, 143.02752685546875, 130.45970153808594, 125.48793029785156, 121.49916076660156, 120.6605224609375, 110.44310760498047, 108.64191436767578, 343.4742126464844, 323.4496154785156, 855.7681274414062, 763.9155883789062, 2317.82421875, 3411.821044921875, 409.92132568359375, 4425.298828125, 1506.01904296875, 1287.066162109375, 1268.5211181640625, 320.9547424316406, 389.7111511230469, 7543.94189453125, 906.9322509765625, 2862.4736328125, 1985.86376953125, 721.9763793945312, 512.447998046875, 486.8871765136719, 478.18035888671875, 437.8494567871094, 365.24658203125, 354.1133117675781, 329.4173583984375, 306.072021484375, 301.5431823730469, 258.4660949707031, 223.43746948242188, 187.54324340820312, 184.6311798095703, 178.34658813476562, 171.16891479492188, 171.01119995117188, 162.2869873046875, 151.63743591308594, 150.7013397216797, 145.08837890625, 136.05648803710938, 133.02249145507812, 115.81061553955078, 111.0543212890625, 111.03057861328125, 109.86734008789062, 106.52342224121094, 354.41302490234375, 336.9068298339844, 565.8858642578125, 1538.8037109375, 559.7787475585938, 860.0271606445312, 495.7671813964844, 472.8616027832031, 1555.1826171875, 1647.0709228515625, 2133.0302734375, 653.03857421875, 834.96826171875, 473.2295837402344, 5316.7998046875, 1077.7646484375, 2689.448486328125, 1781.299560546875, 1266.57080078125, 1210.6964111328125, 967.6419067382812, 809.5238037109375, 793.2484130859375, 674.13037109375, 541.5704345703125, 376.7702941894531, 308.25604248046875, 305.119140625, 304.57342529296875, 287.5915832519531, 286.8354797363281, 277.16339111328125, 241.7589111328125, 240.4289093017578, 223.23350524902344, 213.1588134765625, 206.3968505859375, 154.15196228027344, 153.38262939453125, 149.44300842285156, 134.5806427001953, 113.50550842285156, 104.49137115478516, 95.7535171508789, 93.76756286621094, 93.7110595703125, 687.4869384765625, 310.31634521484375, 1714.2340087890625, 668.3229370117188, 879.8943481445312, 907.7728881835938, 428.0030517578125, 643.1387329101562, 1283.6495361328125, 1179.846435546875, 1095.262451171875, 586.5925903320312, 562.7337036132812, 463.686279296875, 462.8264465332031, 443.16864013671875, 402.930419921875, 392.08087158203125, 382.8993835449219, 331.7004699707031, 323.3448486328125, 299.381103515625, 260.6021423339844, 255.59629821777344, 202.96153259277344, 199.53057861328125, 181.88302612304688, 181.86888122558594, 178.52911376953125, 169.6966094970703, 169.64480590820312, 164.8095703125, 161.1357879638672, 154.74209594726562, 148.40884399414062, 124.92625427246094, 124.3841552734375, 120.59732055664062, 112.81668090820312, 104.59600067138672, 212.86087036132812, 337.6995544433594, 2165.7705078125, 567.0341186523438, 548.5587158203125, 495.2103271484375, 436.3523864746094, 334.96380615234375, 325.9561767578125, 311.11566162109375, 262.64044189453125, 261.33209228515625, 258.0575866699219, 239.59033203125, 239.3931427001953, 230.08737182617188, 204.42742919921875, 172.42645263671875, 171.23611450195312, 163.1629638671875, 144.39776611328125, 143.7342071533203, 132.78904724121094, 119.76809692382812, 119.51752471923828, 103.05302429199219, 101.57282257080078, 96.44464874267578, 95.70421600341797, 92.57715606689453, 88.25132751464844, 84.53243255615234, 543.8250122070312, 133.21629333496094, 580.1430053710938, 485.12188720703125, 415.1837463378906, 361.65277099609375, 299.53240966796875, 298.0068359375, 288.87713623046875, 277.5564880371094, 273.40155029296875, 270.1025085449219, 263.416015625, 249.8486785888672, 228.2909393310547, 214.8517303466797, 196.6566925048828, 179.8556365966797, 178.16615295410156, 176.39706420898438, 172.83544921875, 171.09010314941406, 170.95895385742188, 164.90342712402344, 153.3127899169922, 139.77452087402344, 137.54307556152344, 134.3326873779297, 126.82791137695312, 122.50144958496094, 117.1985092163086, 103.45909881591797, 256.2430419921875, 879.8943481445312, 992.9737548828125, 681.7337646484375, 469.70648193359375, 369.8581237792969, 366.6227111816406, 322.35211181640625, 255.58609008789062, 253.7802734375, 250.86798095703125, 208.96368408203125, 193.15243530273438, 186.62811279296875, 186.1175994873047, 178.61761474609375, 160.88543701171875, 157.35003662109375, 157.27597045898438, 152.60684204101562, 152.49258422851562, 147.854736328125, 147.37738037109375, 137.78977966308594, 136.1888885498047, 135.34414672851562, 133.65647888183594, 127.0859375, 120.71157836914062, 92.81803894042969, 88.30127716064453, 81.96979522705078, 649.4918823242188, 2391.74609375, 557.8184814453125, 449.6904602050781, 180.34974670410156, 172.71115112304688, 161.14114379882812, 148.67332458496094, 120.53640747070312, 111.80783081054688, 109.69133758544922, 106.97626495361328, 81.68055725097656, 80.6319580078125, 65.45355987548828, 62.908447265625, 44.738094329833984, 41.306556701660156, 41.16692352294922, 41.16692352294922, 38.9793701171875, 18.323017120361328, 274.68096923828125, 80.53341674804688, 1246.118896484375, 1102.394287109375, 1674.510986328125, 1020.023681640625, 1.1412150859832764, 1.1412426233291626, 1.1412895917892456, 834.96826171875, 3843.73974609375, 468.79705810546875, 781.2415161132812, 570.5941772460938, 386.0928039550781, 169.21922302246094, 152.41439819335938, 130.78749084472656, 116.28748321533203, 105.79659271240234, 92.26736450195312, 92.2258071899414, 79.71100616455078, 69.76486206054688, 53.78276824951172, 50.4562873840332, 25.91691017150879, 24.068618774414062, 6.3419084548950195, 1.1412376165390015, 1.1412471532821655, 1.1412396430969238, 1.1412732601165771, 1.1412550210952759, 1.1412842273712158, 1.1412696838378906, 1.1412311792373657, 1.1412353515625, 1.1412174701690674, 1.1412163972854614, 1.1412123441696167, 1.1412218809127808, 1744.323486328125, 1.141239047050476, 527.7894897460938, 296.5387878417969, 179.80068969726562, 133.40052795410156, 132.57220458984375, 113.58354949951172, 85.4035873413086, 80.47816467285156, 78.08232879638672, 77.04210662841797, 64.66513061523438, 64.54395294189453, 57.307498931884766, 54.81987762451172, 51.99393844604492, 38.792198181152344, 35.98855209350586, 18.619874954223633, 18.275310516357422, 17.20029640197754, 14.555907249450684, 13.639081001281738, 8.802809715270996, 8.542649269104004, 8.48910140991211, 5.933854579925537, 5.565210819244385, 4.981426239013672, 120.59762573242188, 2.295215129852295, 195.21446228027344, 141.48941040039062, 99.44607543945312, 84.64276123046875, 73.30358123779297, 62.864830017089844, 41.20842742919922, 33.75302505493164, 28.77607536315918, 26.340951919555664, 24.793066024780273, 24.174949645996094, 23.871828079223633, 14.49108600616455, 1.6008814573287964, 1.1412250995635986, 1.14125394821167, 1.1412161588668823, 1.1412192583084106, 1.1412086486816406, 1.141215205192566, 1.1412084102630615, 1.1412280797958374, 1.141215205192566, 1.1412086486816406, 1.1412242650985718, 1.1412301063537598, 1.1412343978881836, 1.1412509679794312, 1.1412068605422974, 1.1412163972854614, 1.141257643699646, 1.1412842273712158, 123.69432067871094, 49.764076232910156, 34.76045227050781, 27.69077491760254, 18.804346084594727, 17.184438705444336, 15.22709846496582, 14.934317588806152, 13.961302757263184, 12.89057445526123, 7.700373649597168, 6.952017307281494, 5.573120594024658, 5.477710723876953, 4.098941326141357, 3.2893571853637695, 217.61622619628906, 36.86653137207031, 252.49407958984375, 1.1412543058395386, 1.1412121057510376, 1.1412261724472046, 1.1412022113800049, 1.1412025690078735, 1.1412032842636108, 1.1412039995193481, 1.1412107944488525, 1.1412116289138794, 1.141204833984375, 1.1412168741226196, 1.1412220001220703, 62.89305114746094, 42.07411575317383, 13.341235160827637, 9.637433052062988, 8.844267845153809, 4.232963562011719, 1.1412612199783325, 1.1412259340286255, 1.1412278413772583, 1.14122474193573, 1.1412122249603271, 1.1412122249603271, 1.1412131786346436, 1.141213297843933, 1.1412136554718018, 1.1412136554718018, 1.1412142515182495, 1.1412235498428345, 1.1412289142608643, 1.1412568092346191, 1.1412099599838257, 1.1412055492401123, 1.1412053108215332, 1.1412009000778198, 1.1412018537521362, 1.141201138496399, 1.141201138496399, 1.1412051916122437, 1.1411999464035034, 1.1412020921707153, 1.1412030458450317, 1.1412004232406616, 1.1412639617919922, 1.1412211656570435, 1.1412562131881714, 1.1412490606307983], \"loglift\": [30.0, 29.0, 28.0, 27.0, 26.0, 25.0, 24.0, 23.0, 22.0, 21.0, 20.0, 19.0, 18.0, 17.0, 16.0, 15.0, 14.0, 13.0, 12.0, 11.0, 10.0, 9.0, 8.0, 7.0, 6.0, 5.0, 4.0, 3.0, 2.0, 1.0, 0.8335000276565552, 0.8335000276565552, 0.8335000276565552, 0.8335000276565552, 0.8334000110626221, 0.8334000110626221, 0.8334000110626221, 0.833299994468689, 0.833299994468689, 0.833299994468689, 0.833299994468689, 0.833299994468689, 0.8331999778747559, 0.8331999778747559, 0.8331000208854675, 0.8331000208854675, 0.8330000042915344, 0.8330000042915344, 0.8330000042915344, 0.8328999876976013, 0.8328999876976013, 0.8327999711036682, 0.8327000141143799, 0.8325999975204468, 0.8325999975204468, 0.8324999809265137, 0.8324999809265137, 0.8324999809265137, 0.8324999809265137, 0.8324999809265137, 0.8282999992370605, 0.83160001039505, 0.807200014591217, 0.8176000118255615, 0.8029999732971191, 0.8130000233650208, 0.8133000135421753, 0.7940999865531921, 0.8068000078201294, 0.7882000207901001, 0.8240000009536743, 0.7182999849319458, 0.8101999759674072, 0.7095000147819519, 0.7152000069618225, 0.704800009727478, 0.7396000027656555, 0.7688000202178955, 0.6978999972343445, 0.6593000292778015, 0.6139000058174133, 0.5205000042915344, 0.35920000076293945, 0.14980000257492065, 0.5141000151634216, 1.523900032043457, 1.523900032043457, 1.523800015449524, 1.523800015449524, 1.5236999988555908, 1.5236999988555908, 1.5236999988555908, 1.5236999988555908, 1.5235999822616577, 1.5235999822616577, 1.5235999822616577, 1.5234999656677246, 1.5234999656677246, 1.5234999656677246, 1.5233999490737915, 1.5233999490737915, 1.5233999490737915, 1.5233999490737915, 1.5233999490737915, 1.5233999490737915, 1.523300051689148, 1.523300051689148, 1.5232000350952148, 1.5232000350952148, 1.5232000350952148, 1.5232000350952148, 1.5231000185012817, 1.5231000185012817, 1.5231000185012817, 1.5231000185012817, 1.516700029373169, 1.5095000267028809, 1.4852999448776245, 1.4811999797821045, 1.4771000146865845, 1.4680999517440796, 1.3521000146865845, 1.4163000583648682, 1.3847999572753906, 1.2122000455856323, 1.394700050354004, 1.3184000253677368, 1.4557000398635864, 1.444200038909912, 1.3795000314712524, 1.253100037574768, 1.3100999593734741, 0.8485999703407288, 0.9749000072479248, 1.3274999856948853, 1.1723999977111816, 1.2038999795913696, 0.5508999824523926, 0.7340999841690063, 0.717199981212616, 1.3011000156402588, 0.7484999895095825, 0.11299999803304672, 0.36820000410079956, 1.0601999759674072, 0.2913999855518341, 0.7509999871253967, 1.0360000133514404, -0.10289999842643738, 0.8032000064849854, 0.7516999840736389, 0.3005000054836273, 2.5657999515533447, 2.5657999515533447, 2.5650999546051025, 2.5650999546051025, 2.565000057220459, 2.5648000240325928, 2.56469988822937, 2.56469988822937, 2.564500093460083, 2.564199924468994, 2.563999891281128, 2.5638999938964844, 2.563800096511841, 2.563699960708618, 2.563699960708618, 2.563499927520752, 2.563499927520752, 2.5634000301361084, 2.5634000301361084, 2.5632998943328857, 2.5632998943328857, 2.563199996948242, 2.563199996948242, 2.563199996948242, 2.5631000995635986, 2.5631000995635986, 2.562999963760376, 2.5629000663757324, 2.5627999305725098, 2.5627999305725098, 2.546099901199341, 2.4539999961853027, 2.5522000789642334, 2.1635000705718994, 2.231600046157837, 2.2843000888824463, 2.017899990081787, 2.1008999347686768, 2.087599992752075, 2.1110999584198, 2.1963999271392822, 1.9960999488830566, 1.9424999952316284, 1.8899999856948853, 2.0276999473571777, 1.1858999729156494, 1.3039000034332275, 1.768399953842163, 1.857800006866455, 1.5056999921798706, 1.729699969291687, 1.4128999710083008, 0.4521999955177307, -0.10000000149011612, -0.9366999864578247, 2.6521999835968018, 2.652100086212158, 2.6519999504089355, 2.6519999504089355, 2.6519999504089355, 2.651900053024292, 2.651700019836426, 2.651599884033203, 2.651599884033203, 2.6514999866485596, 2.6514999866485596, 2.651400089263916, 2.651400089263916, 2.6512999534606934, 2.65120005607605, 2.651099920272827, 2.650700092315674, 2.650700092315674, 2.6503000259399414, 2.650099992752075, 2.650099992752075, 2.6500000953674316, 2.6500000953674316, 2.649899959564209, 2.649899959564209, 2.6498000621795654, 2.649600028991699, 2.649399995803833, 2.6491000652313232, 2.648900032043457, 2.612600088119507, 2.614300012588501, 2.6217000484466553, 2.5864999294281006, 2.5671000480651855, 2.4983999729156494, 2.387500047683716, 2.455199956893921, 2.3468000888824463, 2.407399892807007, 2.4519999027252197, 2.41729998588562, 2.3022000789642334, 2.3757998943328857, 1.8867000341415405, 2.0539000034332275, 2.011899948120117, 1.9816999435424805, 2.259399890899658, 1.2633999586105347, 1.493499994277954, 1.2529000043869019, 3.029900074005127, 3.029599905014038, 3.0280001163482666, 3.027100086212158, 3.0269999504089355, 3.026900053024292, 3.0260000228881836, 3.0255000591278076, 3.0227999687194824, 3.0211000442504883, 3.020400047302246, 3.0202999114990234, 3.01990008354187, 3.0195000171661377, 3.018399953842163, 3.0181000232696533, 3.0176000595092773, 3.0174999237060547, 3.0172998905181885, 3.0171000957489014, 3.016700029373169, 3.0164999961853027, 3.016400098800659, 3.01419997215271, 3.0137999057769775, 3.0134999752044678, 3.011899948120117, 3.011699914932251, 3.0107998847961426, 3.010499954223633, 3.7004001140594482, 3.7004001140594482, 3.700200080871582, 3.7000999450683594, 3.699700117111206, 3.69950008392334, 3.699199914932251, 3.6991000175476074, 3.6991000175476074, 3.698899984359741, 3.6988000869750977, 3.6984000205993652, 3.6981000900268555, 3.697999954223633, 3.6977999210357666, 3.6975998878479004, 3.6972999572753906, 3.697200059890747, 3.697000026702881, 3.6967999935150146, 3.6965999603271484, 3.696500062942505, 3.696199893951416, 3.696000099182129, 3.695499897003174, 3.695499897003174, 3.6953999996185303, 3.695199966430664, 3.6949000358581543, 3.6947999000549316, 3.6166999340057373, 2.384999990463257, 3.1647000312805176, 2.9858999252319336, 3.128000020980835, 2.178100109100342, 2.216099977493286, 1.261299967765808, 1.9589999914169312, 1.1950000524520874, 3.8675999641418457, 3.8675999641418457, 3.8671998977661133, 3.8671000003814697, 3.867000102996826, 3.867000102996826, 3.86680006980896, 3.86680006980896, 3.8666000366210938, 3.8664000034332275, 3.8661999702453613, 3.865999937057495, 3.865999937057495, 3.865799903869629, 3.8650999069213867, 3.865000009536743, 3.865000009536743, 3.8640999794006348, 3.863800048828125, 3.8631999492645264, 3.862499952316284, 3.862499952316284, 3.862499952316284, 3.8622000217437744, 3.8619000911712646, 3.861599922180176, 3.8613998889923096, 3.861299991607666, 3.8610000610351562, 3.8608999252319336, 3.852299928665161, 3.835200071334839, 3.8164000511169434, 3.7836999893188477, 3.1847000122070312, 3.4321000576019287, 1.6875, 2.275399923324585, 2.22979998588562, 3.9351000785827637, 3.9349000453948975, 3.934799909591675, 3.934799909591675, 3.9340999126434326, 3.9335999488830566, 3.933300018310547, 3.9328999519348145, 3.932800054550171, 3.9326000213623047, 3.931999921798706, 3.931999921798706, 3.9319000244140625, 3.93149995803833, 3.930799961090088, 3.930299997329712, 3.930299997329712, 3.9296998977661133, 3.929500102996826, 3.9293999671936035, 3.928299903869629, 3.928100109100342, 3.928100109100342, 3.927999973297119, 3.927299976348877, 3.927000045776367, 3.9267001152038574, 3.9265999794006348, 3.925800085067749, 3.925600051879883, 3.911400079727173, 3.7418999671936035, 3.511699914932251, 3.482599973678589, 3.166800022125244, 2.7267000675201416, 3.4686999320983887, 2.4077999591827393, 2.8694000244140625, 2.9223999977111816, 2.835400104522705, 3.4983999729156494, 3.3540000915527344, 1.0214999914169312, 2.580899953842163, 4.0065999031066895, 4.006499767303467, 4.005499839782715, 4.004899978637695, 4.004799842834473, 4.004799842834473, 4.0046000480651855, 4.0040998458862305, 4.004000186920166, 4.003799915313721, 4.003499984741211, 4.003499984741211, 4.002900123596191, 4.002200126647949, 4.001299858093262, 4.001200199127197, 4.000999927520752, 4.000699996948242, 4.000699996948242, 4.000400066375732, 3.9999001026153564, 3.9999001026153564, 3.9995999336242676, 3.9990999698638916, 3.9988999366760254, 3.9976999759674072, 3.997299909591675, 3.997299909591675, 3.9972000122070312, 3.9969000816345215, 3.882499933242798, 3.8466999530792236, 3.6342999935150146, 3.2472000122070312, 3.404099941253662, 3.172800064086914, 3.333199977874756, 3.316499948501587, 2.5845000743865967, 2.4828999042510986, 2.226099967956543, 2.9607999324798584, 2.7613000869750977, 3.157599925994873, 1.0348000526428223, 2.411099910736084, 4.078000068664551, 4.0777997970581055, 4.077600002288818, 4.077499866485596, 4.077300071716309, 4.077099800109863, 4.077099800109863, 4.076900005340576, 4.076499938964844, 4.0756001472473145, 4.074999809265137, 4.074900150299072, 4.074900150299072, 4.074699878692627, 4.074699878692627, 4.0746002197265625, 4.073999881744385, 4.073999881744385, 4.073699951171875, 4.073400020599365, 4.073299884796143, 4.071499824523926, 4.071499824523926, 4.071300029754639, 4.070499897003174, 4.068999767303467, 4.06820011138916, 4.067299842834473, 4.066999912261963, 4.066999912261963, 3.903899908065796, 3.9279000759124756, 3.35509991645813, 3.575000047683716, 3.413100004196167, 3.190999984741211, 3.361299991607666, 3.0841000080108643, 2.5576999187469482, 2.5694000720977783, 4.613999843597412, 4.6132001876831055, 4.613100051879883, 4.61269998550415, 4.61269998550415, 4.612599849700928, 4.612299919128418, 4.612199783325195, 4.612199783325195, 4.611700057983398, 4.611700057983398, 4.611400127410889, 4.610799789428711, 4.610799789428711, 4.6097002029418945, 4.609600067138672, 4.609000205993652, 4.609000205993652, 4.60890007019043, 4.60860013961792, 4.60860013961792, 4.608399868011475, 4.60830020904541, 4.607999801635742, 4.607699871063232, 4.606299877166748, 4.606299877166748, 4.605999946594238, 4.605400085449219, 4.604599952697754, 4.414000034332275, 3.573199987411499, 4.635000228881836, 4.633600234985352, 4.633500099182129, 4.633299827575684, 4.632999897003174, 4.632299900054932, 4.632199764251709, 4.631999969482422, 4.631400108337402, 4.631400108337402, 4.63129997253418, 4.63100004196167, 4.63100004196167, 4.630799770355225, 4.630199909210205, 4.629199981689453, 4.629199981689453, 4.628900051116943, 4.627999782562256, 4.627999782562256, 4.627399921417236, 4.626500129699707, 4.626500129699707, 4.625, 4.624899864196777, 4.624300003051758, 4.624199867248535, 4.623799800872803, 4.623300075531006, 4.622700214385986, 4.095099925994873, 4.352499961853027, 4.834099769592285, 4.833700180053711, 4.833399772644043, 4.833000183105469, 4.832300186157227, 4.832300186157227, 4.832200050354004, 4.832099914550781, 4.831999778747559, 4.831999778747559, 4.8317999839782715, 4.831600189208984, 4.831200122833252, 4.830900192260742, 4.830399990081787, 4.829899787902832, 4.829899787902832, 4.829800128936768, 4.829699993133545, 4.829599857330322, 4.829599857330322, 4.829400062561035, 4.82889986038208, 4.828199863433838, 4.828100204467773, 4.827899932861328, 4.827400207519531, 4.827099800109863, 4.826700210571289, 4.825399875640869, 4.5584001541137695, 2.955199956893921, 4.876800060272217, 4.876299858093262, 4.8755998611450195, 4.875, 4.874899864196777, 4.874499797821045, 4.873700141906738, 4.873600006103516, 4.873600006103516, 4.872700214385986, 4.872300148010254, 4.872099876403809, 4.872099876403809, 4.871799945831299, 4.871099948883057, 4.870999813079834, 4.870999813079834, 4.870800018310547, 4.870800018310547, 4.87060022354126, 4.870500087738037, 4.869999885559082, 4.869900226593018, 4.869900226593018, 4.869800090789795, 4.86929988861084, 4.868899822235107, 4.866199970245361, 4.865600109100342, 4.86460018157959, 3.2130000591278076, 5.053999900817871, 5.052499771118164, 5.052000045776367, 5.048399925231934, 5.0482001304626465, 5.047699928283691, 5.047100067138672, 5.045400142669678, 5.0447001457214355, 5.04449987411499, 5.044300079345703, 5.041100025177002, 5.040900230407715, 5.037700176239014, 5.037099838256836, 5.029900074005127, 5.0278000831604, 5.027699947357178, 5.027699947357178, 5.026199817657471, 4.9934000968933105, 4.612400054931641, 4.565199851989746, 3.9684998989105225, 3.5016000270843506, 2.530100107192993, 2.3606998920440674, 2.0348000526428223, 2.0348000526428223, 2.0346999168395996, 1.7475999593734741, 0.29109999537467957, 0.7434999942779541, 5.587900161743164, 5.587399959564209, 5.58650016784668, 5.582799911499023, 5.582099914550781, 5.580900192260742, 5.579800128936768, 5.57889986038208, 5.577300071716309, 5.577300071716309, 5.575399875640869, 5.573400020599365, 5.568699836730957, 5.567299842834473, 5.546000003814697, 5.542600154876709, 5.39900016784668, 2.2922000885009766, 2.2922000885009766, 2.2922000885009766, 2.292099952697754, 2.292099952697754, 2.2920000553131104, 2.2920000553131104, 2.2920000553131104, 2.2920000553131104, 2.2920000553131104, 2.2920000553131104, 2.2920000553131104, 2.2920000553131104, 1.785599946975708, 2.2918999195098877, 5.792200088500977, 5.790500164031982, 5.788099765777588, 5.785999774932861, 5.785900115966797, 5.7845001220703125, 5.781300067901611, 5.7804999351501465, 5.78000020980835, 5.779799938201904, 5.7769999504089355, 5.7769999504089355, 5.774799823760986, 5.773900032043457, 5.772799968719482, 5.765399932861328, 5.7631001472473145, 5.733099937438965, 5.731900215148926, 5.72790002822876, 5.7153000831604, 5.709799766540527, 5.660200119018555, 5.655799865722656, 5.654900074005127, 5.5883002281188965, 5.572999954223633, 5.543499946594238, 5.3225998878479, 5.137700080871582, 6.281400203704834, 6.279200077056885, 6.2758002281188965, 6.273799896240234, 6.2718000411987305, 6.269199848175049, 6.259699821472168, 6.253600120544434, 6.247700214385986, 6.243899822235107, 6.241199970245361, 6.239999771118164, 6.2393999099731445, 6.207200050354004, 5.10129976272583, 2.6289000511169434, 2.6289000511169434, 2.6289000511169434, 2.6287999153137207, 2.6287999153137207, 2.6287999153137207, 2.6287999153137207, 2.6287999153137207, 2.6287999153137207, 2.6287999153137207, 2.6287999153137207, 2.6287999153137207, 2.6287999153137207, 2.6287999153137207, 2.6287999153137207, 2.6287999153137207, 2.6287999153137207, 2.6287999153137207, 6.725299835205078, 6.711599826812744, 6.701600074768066, 6.692999839782715, 6.672900199890137, 6.666900157928467, 6.657899856567383, 6.656300067901611, 6.650700092315674, 6.643400192260742, 6.577000141143799, 6.558499813079834, 6.509699821472168, 6.505300045013428, 6.41480016708374, 6.317500114440918, 6.021200180053711, 5.742000102996826, 2.9719998836517334, 2.6867001056671143, 2.6865999698638916, 2.686500072479248, 2.686500072479248, 2.686500072479248, 2.686500072479248, 2.686500072479248, 2.686500072479248, 2.686500072479248, 2.686500072479248, 2.686500072479248, 2.686500072479248, 7.417300224304199, 7.408199787139893, 7.34689998626709, 7.310699939727783, 7.298699855804443, 7.124899864196777, 2.818700075149536, 2.81850004196167, 2.81850004196167, 2.8183999061584473, 2.8183999061584473, 2.8183999061584473, 2.8183999061584473, 2.8183999061584473, 2.8183999061584473, 2.8183999061584473, 2.8183999061584473, 2.8183000087738037, 2.8183000087738037, 2.8183000087738037, 2.8183000087738037, 2.8183000087738037, 2.8183000087738037, 2.8183000087738037, 2.8183000087738037, 2.8183000087738037, 2.8183000087738037, 2.8183000087738037, 2.8183000087738037, 2.8183000087738037, 2.8183000087738037, 2.8183000087738037, 2.81820011138916, 2.8183000087738037, 2.81820011138916, 2.81820011138916], \"logprob\": [30.0, 29.0, 28.0, 27.0, 26.0, 25.0, 24.0, 23.0, 22.0, 21.0, 20.0, 19.0, 18.0, 17.0, 16.0, 15.0, 14.0, 13.0, 12.0, 11.0, 10.0, 9.0, 8.0, 7.0, 6.0, 5.0, 4.0, 3.0, 2.0, 1.0, -3.8754000663757324, -4.024700164794922, -4.118000030517578, -4.2006001472473145, -4.778800010681152, -4.818399906158447, -5.037199974060059, -5.126500129699707, -5.247900009155273, -5.252399921417236, -5.356599807739258, -5.407299995422363, -5.552999973297119, -5.654900074005127, -5.720200061798096, -3.734600067138672, -5.877200126647949, -5.9745001792907715, -5.74399995803833, -6.094600200653076, -6.124599933624268, -6.198299884796143, -6.364699840545654, -6.503499984741211, -6.517600059509277, -6.557499885559082, -6.580900192260742, -6.602700233459473, -6.607399940490723, -6.607800006866455, -3.7813000679016113, -5.183199882507324, -3.6442999839782715, -4.7530999183654785, -3.342099905014038, -4.9197998046875, -5.036799907684326, -4.173299789428711, -5.11359977722168, -4.658299922943115, -5.817500114440918, -4.011600017547607, -5.5903000831604, -4.450699806213379, -4.634500026702881, -4.584099769592285, -5.019599914550781, -5.368199825286865, -5.06820011138916, -4.929599761962891, -4.8302001953125, -4.702400207519531, -4.8958001136779785, -4.8668999671936035, -5.152500152587891, -5.604400157928467, -5.640399932861328, -5.69320011138916, -5.738500118255615, -5.825399875640869, -5.836400032043457, -5.851799964904785, -5.857699871063232, -5.889699935913086, -5.929900169372559, -5.936299800872803, -5.963099956512451, -6.0019001960754395, -6.023900032043457, -6.036900043487549, -6.041299819946289, -6.05109977722168, -6.062900066375732, -6.068399906158447, -6.093999862670898, -6.14139986038208, -6.174699783325195, -6.176300048828125, -6.21560001373291, -6.2210001945495605, -6.237500190734863, -6.246200084686279, -6.248799800872803, -6.269899845123291, -6.274499893188477, -5.873499870300293, -5.900300025939941, -5.603099822998047, -5.628499984741211, -5.6255998611450195, -5.618500232696533, -4.687600135803223, -5.395500183105469, -5.374300003051758, -4.458700180053711, -5.436500072479248, -5.208399772644043, -5.804800033569336, -5.781199932098389, -5.641900062561035, -5.357500076293945, -5.517499923706055, -4.498799800872803, -4.892499923706055, -5.577099800109863, -5.312099933624268, -5.456999778747559, -4.70419979095459, -4.960599899291992, -5.0883002281188965, -5.655900001525879, -5.21019983291626, -4.903600215911865, -5.1234002113342285, -5.566800117492676, -5.155399799346924, -5.400400161743164, -5.564700126647949, -5.325799942016602, -5.542200088500977, -5.587900161743164, -5.60890007019043, -3.688800096511841, -3.9030001163482666, -4.783999919891357, -4.839099884033203, -4.894800186157227, -5.035900115966797, -5.103799819946289, -5.154799938201904, -5.240300178527832, -5.398900032043457, -5.493199825286865, -5.559500217437744, -5.587299823760986, -5.62939977645874, -5.64769983291626, -5.704599857330322, -5.726799964904785, -5.759200096130371, -5.769800186157227, -5.786600112915039, -5.800099849700928, -5.809800148010254, -5.8180999755859375, -5.818600177764893, -5.863500118255615, -5.864500045776367, -5.892399787902832, -5.9141998291015625, -5.946499824523926, -5.950300216674805, -4.946000099182129, -5.0167999267578125, -5.85260009765625, -4.257699966430664, -4.764500141143799, -4.966700077056885, -4.150599956512451, -4.5152997970581055, -4.555699825286865, -4.748600006103516, -4.964799880981445, -4.584499835968018, -4.585000038146973, -4.625899791717529, -4.931399822235107, -3.830699920654297, -4.043499946594238, -4.653299808502197, -4.8572998046875, -4.610099792480469, -4.8445000648498535, -5.046800136566162, -4.836699962615967, -4.829800128936768, -5.0817999839782715, -3.637399911880493, -3.78629994392395, -3.9516000747680664, -4.046999931335449, -4.05079984664917, -4.250400066375732, -3.922300100326538, -4.520100116729736, -4.60699987411499, -4.634200096130371, -4.7170000076293945, -4.747499942779541, -4.777299880981445, -4.846399784088135, -4.906599998474121, -5.045300006866455, -5.2555999755859375, -5.27400016784668, -5.448599815368652, -5.559500217437744, -5.563700199127197, -5.600500106811523, -5.601900100708008, -5.617300033569336, -5.638599872589111, -5.656799793243408, -5.720799922943115, -5.814700126647949, -5.877600193023682, -5.935699939727783, -3.862499952316284, -4.813899993896484, -4.993000030517578, -4.469399929046631, -4.367199897766113, -3.684799909591675, -3.309799909591675, -4.343599796295166, -4.013400077819824, -4.34250020980835, -4.610899925231934, -4.548900127410889, -4.288000106811523, -4.55079984664917, -3.5215001106262207, -3.9965999126434326, -4.009799957275391, -4.455599784851074, -4.640900135040283, -4.1834001541137695, -4.311999797821045, -4.530700206756592, -0.19339999556541443, -2.844399929046631, -4.869800090789795, -5.294899940490723, -5.312399864196777, -5.346799850463867, -5.610300064086914, -5.732800006866455, -6.218100070953369, -6.428800106048584, -6.514999866485596, -6.524899959564209, -6.565999984741211, -6.60290002822876, -6.700900077819824, -6.728600025177002, -6.770999908447266, -6.7769999504089355, -6.791500091552734, -6.810999870300293, -6.84250020980835, -6.853400230407715, -6.8649001121521, -7.017000198364258, -7.0441999435424805, -7.058599948883057, -7.154200077056885, -7.168099880218506, -7.213200092315674, -7.231800079345703, -2.7060999870300293, -2.757999897003174, -3.1617000102996826, -3.3166000843048096, -3.704400062561035, -3.9028000831604004, -4.086100101470947, -4.120299816131592, -4.124499797821045, -4.264100074768066, -4.30620002746582, -4.487500190734863, -4.604499816894531, -4.627099990844727, -4.695799827575684, -4.764900207519531, -4.8668999671936035, -4.882800102233887, -4.942999839782715, -4.991700172424316, -5.029300212860107, -5.070199966430664, -5.122499942779541, -5.164999961853027, -5.267499923706055, -4.953700065612793, -5.277599811553955, -5.319699764251709, -5.378399848937988, -5.3983001708984375, -3.2360000610351562, -3.285799980163574, -4.576000213623047, -4.415599822998047, -4.659900188446045, -4.434999942779541, -4.781599998474121, -4.606100082397461, -4.793700218200684, -4.8267998695373535, -2.508500099182129, -2.5343000888824463, -3.2846999168395996, -3.393899917602539, -3.4275999069213867, -3.433000087738037, -3.6180999279022217, -3.6668999195098877, -3.7885000705718994, -3.9342000484466553, -4.03439998626709, -4.115699768066406, -4.148900032043457, -4.206699848175049, -4.492499828338623, -4.524799823760986, -4.543499946594238, -4.788300037384033, -4.872700214385986, -5.013899803161621, -5.142000198364258, -5.143700122833252, -5.14870023727417, -5.187699794769287, -5.246699810028076, -5.291299819946289, -5.316800117492676, -5.335999965667725, -5.38539981842041, -5.397200107574463, -4.273499965667725, -3.4900999069213867, -4.075699806213379, -4.053599834442139, -3.3622000217437744, -4.8755998611450195, -4.214300155639648, -4.915999889373779, -4.918300151824951, -2.612600088119507, -2.8940000534057617, -3.044100046157837, -3.0585999488830566, -3.7697999477386475, -4.051799774169922, -4.17549991607666, -4.341899871826172, -4.371600151062012, -4.44189977645874, -4.627500057220459, -4.649899959564209, -4.6641998291015625, -4.7555999755859375, -4.922500133514404, -5.022200107574463, -5.034599781036377, -5.140900135040283, -5.170100212097168, -5.177499771118164, -5.3429999351501465, -5.375, -5.382400035858154, -5.384900093078613, -5.47760009765625, -5.5167999267578125, -5.549300193786621, -5.556300163269043, -5.645599842071533, -5.662199974060059, -4.525400161743164, -4.755000114440918, -4.012199878692627, -4.154900074005127, -3.3606998920440674, -3.414299964904785, -4.791299819946289, -3.4730000495910645, -4.089300155639648, -4.193399906158447, -4.294899940490723, -5.006199836730957, -4.956600189208984, -4.326000213623047, -4.885000228881836, -2.3099000453948975, -2.6756999492645264, -3.6884000301361084, -4.031799793243408, -4.083099842071533, -4.101200103759766, -4.189499855041504, -4.371300220489502, -4.402299880981445, -4.474899768829346, -4.548600196838379, -4.563600063323975, -4.718299865722656, -4.86460018157959, -5.040599822998047, -5.056399822235107, -5.09119987487793, -5.132500171661377, -5.133500099182129, -5.186200141906738, -5.254499912261963, -5.260799884796143, -5.298999786376953, -5.363800048828125, -5.386499881744385, -5.526299953460693, -5.568600177764893, -5.56879997253418, -5.579400062561035, -5.6107001304626465, -4.5229997634887695, -4.609399795532227, -4.303299903869629, -3.690000057220459, -4.544300079345703, -4.346199989318848, -4.736599922180176, -4.8007001876831055, -4.342100143432617, -4.386300086975098, -4.384500026702881, -4.833499908447266, -4.787199974060059, -4.958799839019775, -4.662499904632568, -4.882199764251709, -2.300800085067749, -2.7130000591278076, -3.05430006980896, -3.099400043487549, -3.323699951171875, -3.5023999214172363, -3.522700071334839, -3.685699939727783, -3.9049999713897705, -4.268700122833252, -4.46999979019165, -4.480299949645996, -4.482100009918213, -4.539700031280518, -4.542300224304199, -4.576700210571289, -4.714000225067139, -4.7195000648498535, -4.794099807739258, -4.8404998779296875, -4.872900009155273, -5.166500091552734, -5.171500205993652, -5.197700023651123, -5.303299903869629, -5.475100040435791, -5.558599948883057, -5.646900177001953, -5.668099880218506, -5.668700218200684, -3.8389999866485596, -4.610400199890137, -3.474100112915039, -4.196199893951416, -4.083099842071533, -4.273900032043457, -4.855500221252441, -4.725399971008301, -4.560800075531006, -4.633399963378906, -2.6631999015808105, -3.2883999347686768, -3.3301000595092773, -3.5241000652313232, -3.525899887084961, -3.5694000720977783, -3.664900064468384, -3.692199945449829, -3.7160000801086426, -3.859999895095825, -3.8856000900268555, -3.9628000259399414, -4.102099895477295, -4.121600151062012, -4.353300094604492, -4.3703999519348145, -4.463500022888184, -4.463600158691406, -4.4822998046875, -4.533299922943115, -4.533599853515625, -4.562699794769287, -4.585400104522705, -4.626200199127197, -4.668300151824951, -4.841899871826172, -4.84630012512207, -4.877500057220459, -4.944799900054932, -5.021200180053711, -4.501299858093262, -4.8805999755859375, -1.9603999853134155, -3.3018999099731445, -3.335099935531616, -3.437700033187866, -3.564500093460083, -3.829699993133545, -3.8570001125335693, -3.9038000106811523, -4.073800086975098, -4.078800201416016, -4.0914998054504395, -4.165999889373779, -4.166900157928467, -4.206699848175049, -4.325500011444092, -4.496699810028076, -4.503699779510498, -4.552299976348877, -4.6753997802734375, -4.679999828338623, -4.759799957275391, -4.863900184631348, -4.866000175476074, -5.015699863433838, -5.030300140380859, -5.082699775695801, -5.0904998779296875, -5.124100208282471, -5.172500133514404, -5.216100215911865, -3.882200002670288, -5.031499862670898, -3.0785999298095703, -3.2578001022338867, -3.4138998985290527, -3.552299976348877, -3.7414000034332275, -3.746500015258789, -3.7776999473571777, -3.8178999423980713, -3.8329999446868896, -3.8452000617980957, -3.8703999519348145, -3.9235000610351562, -4.014100074768066, -4.075099945068359, -4.164000034332275, -4.253900051116943, -4.263400077819824, -4.273399829864502, -4.293900012969971, -4.304100036621094, -4.304900169372559, -4.34119987487793, -4.414599895477295, -4.507699966430664, -4.523900032043457, -4.547699928283691, -4.6057000160217285, -4.640699863433838, -4.685400009155273, -4.811299800872803, -4.17140007019043, -4.540999889373779, -2.4983999729156494, -2.875, -3.248199939727783, -3.4879000186920166, -3.4967000484466553, -3.6257998943328857, -3.8587000370025635, -3.865799903869629, -3.8773999214172363, -4.061100006103516, -4.140200138092041, -4.174699783325195, -4.177499771118164, -4.218900203704834, -4.324100017547607, -4.346499919891357, -4.34689998626709, -4.377299785614014, -4.377999782562256, -4.409200191497803, -4.412399768829346, -4.480199813842773, -4.492000102996826, -4.498199939727783, -4.510900020599365, -4.561699867248535, -4.61359977722168, -4.8790998458862305, -4.929599761962891, -5.005000114440918, -4.5868000984191895, -1.442199945449829, -2.899399995803833, -3.115299940109253, -4.032599925994873, -4.076200008392334, -4.145999908447266, -4.227099895477295, -4.438600063323975, -4.514500141143799, -4.53380012512207, -4.559100151062012, -4.831999778747559, -4.845099925994873, -5.0569000244140625, -5.0971999168396, -5.445199966430664, -5.527100086212158, -5.530600070953369, -5.530600070953369, -5.586699962615967, -6.3744001388549805, -4.047999858856201, -5.322000026702881, -3.1796998977661133, -3.7690999507904053, -4.322500228881836, -4.987599849700928, -12.109100341796875, -12.109100341796875, -12.109000205993652, -5.801000118255615, -5.7307000160217285, -7.382299900054932, -2.027100086212158, -2.341900110244751, -2.7334001064300537, -3.5618999004364014, -3.66729998588562, -3.821500062942505, -3.9400999546051025, -4.0355000495910645, -4.173900127410889, -4.1743998527526855, -4.3221001625061035, -4.457399845123291, -4.722300052642822, -4.787499904632568, -5.475100040435791, -5.5524001121521, -7.029699802398682, -11.85159969329834, -11.85159969329834, -11.851699829101562, -11.851699829101562, -11.851699829101562, -11.851699829101562, -11.851799964904785, -11.851799964904785, -11.851799964904785, -11.851799964904785, -11.851900100708008, -11.851900100708008, -11.851900100708008, -5.026199817657471, -11.851900100708008, -2.215100049972534, -2.7932000160217285, -3.2960000038146973, -3.59660005569458, -3.6029000282287598, -3.7588999271392822, -4.047299861907959, -4.107500076293945, -4.1381001472473145, -4.151800155639648, -4.329699993133545, -4.331600189208984, -4.452700138092041, -4.498000144958496, -4.552000045776367, -4.85230016708374, -4.929599761962891, -5.618599891662598, -5.638500213623047, -5.703100204467773, -5.882599830627441, -5.953199863433838, -6.440700054168701, -6.475100040435791, -6.4822998046875, -6.9070000648498535, -6.986400127410889, -7.126699924468994, -4.160799980163574, -8.30739974975586, -2.7204999923706055, -3.0445001125335693, -3.4005000591278076, -3.563699960708618, -3.7095000743865967, -3.8657000064849854, -4.297599792480469, -4.503300189971924, -4.668700218200684, -4.760900020599365, -4.82420015335083, -4.850599765777588, -4.863900184631348, -5.395199775695801, -8.704099655151367, -11.514900207519531, -11.514900207519531, -11.515000343322754, -11.515000343322754, -11.515000343322754, -11.515000343322754, -11.515000343322754, -11.515000343322754, -11.515000343322754, -11.515000343322754, -11.515000343322754, -11.515000343322754, -11.515000343322754, -11.515000343322754, -11.515000343322754, -11.515000343322754, -11.515000343322754, -11.515000343322754, -2.732800006866455, -3.657099962234497, -4.025899887084961, -4.2617998123168945, -4.668900012969971, -4.764999866485596, -4.894999980926514, -4.915900230407715, -4.988999843597412, -5.076099872589111, -5.657700061798096, -5.77839994430542, -6.0482001304626465, -6.069900035858154, -6.450399875640869, -6.7677001953125, -2.871999979019165, -4.926700115203857, -5.772600173950195, -11.457200050354004, -11.457200050354004, -11.457300186157227, -11.457300186157227, -11.457300186157227, -11.457300186157227, -11.457300186157227, -11.457300186157227, -11.457300186157227, -11.45740032196045, -11.45740032196045, -11.457300186157227, -2.7172000408172607, -3.1282999515533447, -4.338099956512451, -4.6996002197265625, -4.797399997711182, -5.708099842071533, -11.32509994506836, -11.325400352478027, -11.325400352478027, -11.325499534606934, -11.325499534606934, -11.325499534606934, -11.325499534606934, -11.325499534606934, -11.325499534606934, -11.325499534606934, -11.325499534606934, -11.325499534606934, -11.325499534606934, -11.325499534606934, -11.325499534606934, -11.325599670410156, -11.325599670410156, -11.325599670410156, -11.325599670410156, -11.325599670410156, -11.325599670410156, -11.325599670410156, -11.325599670410156, -11.325599670410156, -11.325599670410156, -11.325599670410156, -11.325599670410156, -11.325599670410156, -11.325599670410156, -11.325599670410156]}, \"token.table\": {\"Topic\": [14, 1, 1, 3, 13, 10, 2, 4, 1, 4, 2, 6, 6, 14, 11, 9, 19, 1, 2, 3, 4, 8, 2, 6, 8, 3, 10, 17, 9, 13, 1, 1, 4, 15, 16, 9, 1, 2, 1, 3, 13, 1, 16, 15, 3, 9, 3, 10, 8, 2, 12, 4, 9, 5, 19, 8, 11, 11, 1, 2, 3, 2, 3, 3, 1, 3, 5, 18, 18, 1, 3, 17, 1, 6, 8, 17, 1, 7, 16, 1, 2, 9, 2, 5, 6, 7, 1, 3, 4, 15, 11, 1, 4, 6, 13, 9, 5, 7, 17, 1, 2, 3, 4, 17, 6, 6, 11, 18, 11, 12, 12, 7, 6, 12, 1, 2, 3, 8, 6, 13, 1, 2, 3, 10, 4, 1, 2, 4, 9, 16, 2, 1, 14, 8, 2, 19, 19, 19, 8, 3, 3, 3, 3, 10, 8, 2, 1, 2, 3, 5, 9, 13, 7, 1, 2, 6, 12, 10, 7, 1, 7, 9, 1, 9, 9, 18, 7, 15, 14, 13, 4, 1, 4, 9, 3, 7, 8, 8, 4, 3, 2, 17, 5, 12, 5, 10, 6, 17, 1, 2, 3, 11, 2, 8, 2, 8, 8, 2, 11, 10, 10, 1, 2, 3, 15, 8, 8, 9, 14, 11, 1, 2, 10, 16, 5, 17, 14, 11, 13, 4, 9, 11, 13, 1, 2, 3, 5, 12, 1, 3, 14, 3, 6, 10, 13, 1, 2, 4, 9, 19, 2, 9, 2, 3, 13, 13, 10, 4, 10, 11, 1, 3, 14, 9, 11, 12, 15, 19, 6, 7, 7, 2, 17, 17, 17, 1, 3, 9, 1, 11, 9, 4, 1, 1, 10, 9, 12, 7, 8, 14, 16, 3, 3, 3, 8, 11, 4, 5, 1, 2, 3, 7, 3, 9, 1, 2, 1, 2, 3, 3, 3, 10, 14, 2, 6, 20, 3, 4, 4, 17, 8, 12, 14, 11, 10, 1, 2, 6, 9, 1, 2, 6, 10, 10, 10, 7, 15, 2, 18, 6, 18, 3, 8, 17, 16, 2, 9, 10, 10, 6, 15, 7, 11, 3, 5, 5, 18, 1, 1, 2, 6, 6, 3, 1, 3, 6, 6, 16, 8, 16, 7, 10, 12, 1, 2, 8, 11, 11, 1, 4, 7, 17, 1, 20, 6, 2, 1, 19, 1, 2, 15, 15, 10, 1, 6, 11, 3, 17, 12, 1, 4, 15, 2, 2, 2, 3, 5, 13, 1, 20, 4, 3, 2, 3, 4, 2, 9, 19, 4, 12, 2, 4, 5, 4, 15, 12, 17, 4, 2, 7, 1, 5, 2, 18, 7, 16, 16, 1, 2, 3, 8, 10, 12, 2, 9, 5, 9, 2, 2, 3, 14, 15, 1, 3, 9, 5, 1, 2, 6, 1, 2, 3, 8, 11, 1, 2, 15, 2, 8, 8, 1, 2, 8, 4, 1, 2, 3, 5, 1, 4, 1, 2, 4, 6, 2, 3, 5, 17, 11, 14, 1, 4, 12, 3, 1, 2, 6, 1, 1, 3, 14, 17, 4, 1, 15, 4, 14, 1, 2, 3, 2, 3, 4, 15, 1, 2, 3, 9, 14, 3, 9, 2, 5, 1, 2, 3, 9, 1, 5, 7, 12, 1, 2, 3, 8, 2, 1, 8, 7, 7, 10, 1, 9, 12, 4, 15, 13, 17, 2, 12, 8, 8, 7, 4, 12, 7, 5, 11, 11, 3, 14, 12, 7, 13, 19, 1, 2, 10, 1, 2, 3, 7, 10, 9, 2, 9, 3, 1, 4, 14, 15, 1, 10, 1, 2, 4, 8, 1, 1, 1, 2, 17, 1, 3, 2, 9, 1, 2, 4, 10, 19, 8, 7, 16, 2, 9, 1, 4, 5, 16, 4, 12, 5, 1, 2, 10, 14, 8, 13, 14, 4, 6, 10, 1, 2, 3, 8, 6, 7, 2, 6, 4, 9, 18, 10, 13, 6, 6, 1, 2, 9, 6, 6, 6, 17, 10, 2, 8, 16, 14, 19, 1, 14, 18, 1, 2, 18, 18, 3, 8, 1, 1, 2, 4, 5, 7, 5, 1, 1, 7, 13, 10, 1, 9, 15, 6, 4, 7, 8, 17, 19, 8, 9, 2, 8, 9, 16, 1, 2, 3, 8, 9, 10, 2, 8, 9, 2, 10, 7, 13, 2, 12, 13, 2, 19, 13, 12, 1, 1, 2, 3, 1, 2, 16, 7, 20, 1, 2, 3, 4, 13, 13, 8, 14, 3, 2, 12, 1, 5, 2, 6, 12, 4, 1, 2, 15, 5, 19, 16, 14, 17, 17, 14, 1, 2, 3, 8, 2, 2, 1, 4, 6, 7, 15, 14, 11, 1, 8, 4, 15, 9, 19, 1, 2, 3, 6, 12, 15, 3, 7, 14, 20, 6, 17, 1, 2, 6, 8, 8, 9, 10, 8, 9, 8, 9, 1, 2, 3, 5, 12, 1, 2, 4, 8, 9, 4, 13, 1, 7, 15, 3, 17, 4, 13, 1, 2, 3, 6, 2, 2, 9, 10, 17, 14, 6, 13, 4, 9, 1, 3, 1, 3, 1, 2, 4, 9, 9, 13, 7, 7, 11, 5, 6, 2, 10, 1, 2, 3, 8, 11, 6, 14, 12, 7, 19, 6, 12, 4, 11, 7, 19, 1, 2, 3, 4, 7, 8, 1, 6, 19, 1, 3, 4, 9, 1, 2, 3, 3, 6, 1, 9, 17, 13, 12, 13, 1, 4, 2, 1, 3, 1, 3, 6, 11, 1, 2, 17, 2, 3, 8, 11, 11, 12, 14, 15, 5, 15, 16, 18, 1, 3, 3, 1, 3, 17, 10, 8, 1, 4, 5, 18, 1, 10, 20, 10, 1, 2, 4, 7, 9, 4, 13, 1, 7, 15, 7, 5, 3, 9, 10, 2, 14, 1, 2, 7, 8, 12, 1, 2, 3, 6, 13, 4, 5, 6, 15, 15, 13, 11, 1, 3, 15, 1, 2, 4, 7, 1, 2, 3, 3, 1, 2, 3, 1, 10, 12, 2, 6], \"Freq\": [0.9852632284164429, 0.9994118213653564, 0.308152437210083, 0.6911070346832275, 0.9877434372901917, 0.9968608617782593, 0.08099454641342163, 0.918154239654541, 0.06293344497680664, 0.9359520673751831, 0.9851537942886353, 0.014594870619475842, 0.9954706430435181, 0.9984959363937378, 0.9925855994224548, 0.997531533241272, 0.9090467691421509, 0.3998337984085083, 0.2913472354412079, 0.05944069102406502, 0.24932880699634552, 0.9958465099334717, 0.5345218181610107, 0.12018440663814545, 0.34461715817451477, 0.13534575700759888, 0.8604122996330261, 0.8194179534912109, 0.993170976638794, 0.9960357546806335, 0.9996771812438965, 0.99838787317276, 0.7873770594596863, 0.21135812997817993, 0.997169554233551, 0.9965870380401611, 0.037794578820466995, 0.9614940881729126, 0.019242899492383003, 0.9802559614181519, 0.989773690700531, 0.9999019503593445, 0.9867086410522461, 0.9921624660491943, 0.9971636533737183, 0.9922349452972412, 0.39352232217788696, 0.6044982075691223, 0.9869334697723389, 0.2402108609676361, 0.7506589293479919, 0.9608057141304016, 0.03889073058962822, 0.9999843239784241, 0.7177307605743408, 0.9934588670730591, 0.9953867793083191, 0.9982143640518188, 0.9998806118965149, 0.820855438709259, 0.1786382645368576, 0.957491934299469, 0.04169723019003868, 0.9980821013450623, 0.4218014180660248, 0.5778679251670837, 0.9874117374420166, 0.9513980746269226, 0.9490925073623657, 0.9987977743148804, 0.9993197917938232, 0.9985041618347168, 0.7144966125488281, 0.02646283619105816, 0.25801265239715576, 0.4356890022754669, 0.49483469128608704, 0.5049512982368469, 0.9711376428604126, 0.1627117246389389, 0.40783587098121643, 0.42685413360595703, 0.9988266229629517, 0.9885294437408447, 0.031614795327186584, 0.9676043391227722, 0.007279123179614544, 0.5654969215393066, 0.42673859000205994, 0.9908739924430847, 0.9972432255744934, 0.18127968907356262, 0.8179693818092346, 0.9977093935012817, 0.9946244359016418, 0.992069661617279, 0.9869101047515869, 0.997337818145752, 0.986473560333252, 0.5447925925254822, 0.2939043343067169, 0.021624289453029633, 0.13927902281284332, 0.9816327095031738, 0.9983698725700378, 0.9967256188392639, 0.9888719320297241, 0.9822166562080383, 0.9951450824737549, 0.9927812218666077, 0.9996442198753357, 0.9995282888412476, 0.9958765506744385, 0.9941805005073547, 0.268189400434494, 0.7029123902320862, 0.020661741495132446, 0.007438226602971554, 0.9978760480880737, 0.9887811541557312, 0.1272614598274231, 0.799360990524292, 0.07291020452976227, 0.9918141961097717, 0.9957084655761719, 0.0011465763673186302, 0.8971959948539734, 0.04987607151269913, 0.02866440825164318, 0.022358238697052002, 0.9976651072502136, 0.8098638653755188, 0.18937881290912628, 0.9978442192077637, 0.5967472195625305, 0.37974822521209717, 0.7318962812423706, 0.9309127330780029, 0.9995508790016174, 0.9968777298927307, 0.9995571374893188, 0.9969789385795593, 0.9988639950752258, 0.9984261989593506, 0.9971728324890137, 0.9992790818214417, 0.20247040688991547, 0.1772826910018921, 0.6195206642150879, 0.9737710952758789, 0.9971743226051331, 0.997148871421814, 0.9969514608383179, 0.04508066922426224, 0.9224198460578918, 0.031209692358970642, 0.993765652179718, 0.9995493292808533, 0.998945415019989, 0.7960020899772644, 0.2036089450120926, 0.9935665726661682, 0.4969741702079773, 0.501203715801239, 0.9856986999511719, 0.9854586720466614, 0.9939936399459839, 0.9855592250823975, 0.996925413608551, 0.9943907260894775, 0.9962862730026245, 0.00045192643301561475, 0.9992093443870544, 0.9964975118637085, 0.9954132437705994, 0.9943830966949463, 0.9957550168037415, 0.9962611794471741, 0.999106764793396, 0.9977169036865234, 0.9985284209251404, 0.9667089581489563, 0.9815301895141602, 0.9959017634391785, 0.9894168972969055, 0.9993366003036499, 0.36484962701797485, 0.6219027638435364, 0.9101740121841431, 0.08743593096733093, 0.0022009045351296663, 0.9914349317550659, 0.6363309025764465, 0.3628407120704651, 0.17313361167907715, 0.8223846554756165, 0.9888110756874084, 0.9989890456199646, 0.997689425945282, 0.9958025217056274, 0.9963321089744568, 0.5323405861854553, 0.08823324739933014, 0.31077709794044495, 0.06764549016952515, 0.9972772002220154, 0.9987802505493164, 0.9930005073547363, 0.9914201498031616, 0.9976670145988464, 0.6280478239059448, 0.15001952648162842, 0.22121523320674896, 0.9854457378387451, 0.9900606870651245, 0.9302165508270264, 0.9966344237327576, 0.9923291206359863, 0.9948736429214478, 0.7581103444099426, 0.24112923443317413, 0.9961990714073181, 0.9858968257904053, 0.14911961555480957, 0.8414795994758606, 0.009270313195884228, 0.9740435481071472, 0.9969006776809692, 0.10527242720127106, 0.8942615389823914, 0.9953882694244385, 0.12956100702285767, 0.20229701697826385, 0.5136980414390564, 0.15229101479053497, 0.1215478703379631, 0.12711495161056519, 0.5483571887016296, 0.2022705078125, 0.863058865070343, 0.6477411985397339, 0.35066840052604675, 0.2839832603931427, 0.715472400188446, 0.9951662421226501, 0.9934546947479248, 0.9989467263221741, 0.9992319345474243, 0.9981176257133484, 0.9989897608757019, 0.9946788549423218, 0.005197455175220966, 0.993995189666748, 0.9940869212150574, 0.9905070066452026, 0.9970665574073792, 0.9954711198806763, 0.7302320599555969, 0.9953262209892273, 0.9997103214263916, 0.9987918734550476, 0.9984748959541321, 0.8245866894721985, 0.9881407618522644, 0.9725314974784851, 0.12790293991565704, 0.43719547986984253, 0.43370723724365234, 0.6455442309379578, 0.3523842394351959, 0.9917712807655334, 0.9985581636428833, 0.9995307922363281, 0.5145155191421509, 0.4853479862213135, 0.9986476302146912, 0.9981762766838074, 0.9963834881782532, 0.9945257902145386, 0.9960234761238098, 0.9889284372329712, 0.9980927109718323, 0.9988231658935547, 0.9974325895309448, 0.17852036654949188, 0.8174353241920471, 0.9976481199264526, 0.9925848841667175, 0.2303321361541748, 0.09321535378694534, 0.6344658136367798, 0.04149586707353592, 0.9972547888755798, 0.9965813755989075, 0.054328277707099915, 0.9447083473205566, 0.1467060148715973, 0.40247124433517456, 0.4502089321613312, 0.9978976845741272, 0.9868926405906677, 0.011278773657977581, 0.9944964647293091, 0.9990454316139221, 0.9986667037010193, 0.7087233066558838, 0.9979144930839539, 0.9991312026977539, 0.9978505969047546, 0.9808835983276367, 0.9973177313804626, 0.9926417469978333, 0.9965400695800781, 0.9976908564567566, 0.9994614124298096, 0.01741689443588257, 0.39623433351516724, 0.5849173665046692, 0.9948824048042297, 0.3355546295642853, 0.5770201683044434, 0.08717731386423111, 0.9909857511520386, 0.9925271272659302, 0.9867362380027771, 0.9926977157592773, 0.9984645843505859, 0.9980639815330505, 0.9680125713348389, 0.996686577796936, 0.9634788036346436, 0.020379986613988876, 0.9753279685974121, 0.977184534072876, 0.9939788579940796, 0.09454724937677383, 0.06400121748447418, 0.8392886519432068, 0.9857273101806641, 0.9996268153190613, 0.9927748441696167, 0.9943786859512329, 0.9950878620147705, 0.998191237449646, 0.9909007549285889, 0.9831329584121704, 0.9937788248062134, 0.9998682141304016, 0.8832042813301086, 0.10596252977848053, 0.010662204585969448, 0.9985173344612122, 0.9996603727340698, 0.9556095004081726, 0.005415461957454681, 0.03893278166651726, 0.9938850998878479, 0.955601155757904, 0.9993345737457275, 0.9862642288208008, 0.9987121224403381, 0.9921306371688843, 0.9940578937530518, 0.5380608439445496, 0.4615525007247925, 0.9996247887611389, 0.9929513335227966, 0.9978882670402527, 0.9996234774589539, 0.9698954820632935, 0.029429545626044273, 0.7187508344650269, 0.9997920393943787, 0.9338586330413818, 0.9981558322906494, 0.9987909197807312, 0.5054770112037659, 0.4916912615299225, 0.9995359778404236, 0.3725161850452423, 0.6084430813789368, 0.9872536063194275, 0.9944743514060974, 0.5096707940101624, 0.4889945089817047, 0.9988473653793335, 0.9965484738349915, 0.986138641834259, 0.994891881942749, 0.9840157628059387, 0.01574292592704296, 0.9748746752738953, 0.9992380142211914, 0.9991965293884277, 0.24460847675800323, 0.754283607006073, 0.996650218963623, 0.9943921566009521, 0.9995453953742981, 0.9858005046844482, 0.999646008014679, 0.9969815611839294, 0.2562027871608734, 0.006934263277798891, 0.7364917397499084, 0.4881323575973511, 0.5103201866149902, 0.9750539660453796, 0.9995059370994568, 0.997561514377594, 0.14248473942279816, 0.857048749923706, 0.9943321943283081, 0.9969622492790222, 0.9925159215927124, 0.9928723573684692, 0.9850441813468933, 0.9979866743087769, 0.3505684733390808, 0.6474001407623291, 0.9989596009254456, 0.9867665767669678, 0.998749852180481, 0.9894733428955078, 0.9917008876800537, 0.9984108209609985, 0.9972060918807983, 0.012230772525072098, 0.8066485524177551, 0.10600002855062485, 0.07396705448627472, 0.9981172680854797, 0.9917271733283997, 0.9988275170326233, 0.992498517036438, 0.987805962562561, 0.999565064907074, 0.9990115761756897, 0.8779762983322144, 0.12158393859863281, 0.998923659324646, 0.9716538786888123, 0.9612697958946228, 0.03870459273457527, 0.9923133850097656, 0.9900442957878113, 0.28760823607444763, 0.49391546845436096, 0.21805591881275177, 0.06554704159498215, 0.9329229593276978, 0.5358473658561707, 0.46379703283309937, 0.9986962080001831, 0.12997838854789734, 0.8696043491363525, 0.9929183721542358, 0.3708028495311737, 0.6269495487213135, 0.9881428480148315, 0.9769315719604492, 0.022798869758844376, 0.9903819561004639, 0.9982701539993286, 0.034137386828660965, 0.29676252603530884, 0.6683945059776306, 0.9976658225059509, 0.9739737510681152, 0.02597551979124546, 0.005388646852225065, 0.18914151191711426, 0.7824315428733826, 0.022093452513217926, 0.7256739735603333, 0.2740996778011322, 0.9951435327529907, 0.9302167296409607, 0.9958949685096741, 0.9911866188049316, 0.9796425700187683, 0.020267123356461525, 0.9903200268745422, 0.9989003539085388, 0.5481817126274109, 0.22507208585739136, 0.22645290195941925, 0.99955153465271, 0.41585829854011536, 0.5839288234710693, 0.9941051602363586, 0.8931081891059875, 0.9982985854148865, 0.9991490840911865, 0.9683692455291748, 0.9997922778129578, 0.9977068901062012, 0.7312192320823669, 0.1963805854320526, 0.07232610136270523, 0.49083268642425537, 0.508743166923523, 0.9969907999038696, 0.9716538786888123, 0.4028092324733734, 0.4602138102054596, 0.13679391145706177, 0.99432772397995, 0.9942682385444641, 0.9970901608467102, 0.9905062317848206, 0.9986923933029175, 0.999853789806366, 0.6009407639503479, 0.31463268399238586, 0.08420825749635696, 0.00015310592425521463, 0.9993879795074463, 0.07992709428071976, 0.9191616177558899, 0.9952740669250488, 0.6225435137748718, 0.013148302212357521, 0.34642916917800903, 0.017721625044941902, 0.9991657733917236, 0.43878650665283203, 0.5593886375427246, 0.9971725344657898, 0.9982544779777527, 0.9940568208694458, 0.7813870906829834, 0.21796268224716187, 0.9930174350738525, 0.9988376498222351, 0.9958824515342712, 0.9976873993873596, 0.9531434178352356, 0.415574848651886, 0.5829080939292908, 0.9922471046447754, 0.9900867938995361, 0.9990312457084656, 0.9620458483695984, 0.0361032672226429, 0.997933566570282, 0.9953667521476746, 0.9952225089073181, 0.995840847492218, 0.9980394840240479, 0.9983015060424805, 0.9935867786407471, 0.9979274868965149, 0.9966214299201965, 0.9943867921829224, 0.9734848141670227, 0.026329461485147476, 0.9979429841041565, 0.20603828132152557, 0.4861496686935425, 0.263211190700531, 0.020136376842856407, 0.02445131354033947, 0.9907180666923523, 0.864584743976593, 0.13431815803050995, 0.9982026219367981, 0.7531160116195679, 0.24666444957256317, 0.991455078125, 0.9277948141098022, 0.587151288986206, 0.41199731826782227, 0.23995926976203918, 0.44596797227859497, 0.3137284219264984, 0.9947367310523987, 0.9987022876739502, 0.9997780323028564, 0.9995771646499634, 0.9979403018951416, 0.8426225781440735, 0.9698629975318909, 0.030112795531749725, 0.9988547563552856, 0.9956973791122437, 0.31544461846351624, 0.46117115020751953, 0.2200707495212555, 0.0029619212727993727, 0.9194135069847107, 0.9940914511680603, 0.9979813694953918, 0.7884061932563782, 0.9984740018844604, 0.9980599284172058, 0.9995195269584656, 0.00018234971503261477, 0.00024313294852618128, 0.9910802245140076, 0.9973903894424438, 0.9971585273742676, 0.9986156821250916, 0.012464460916817188, 0.7681224346160889, 0.21890710294246674, 0.9958055019378662, 0.9969242811203003, 0.99660325050354, 0.9918870329856873, 0.9984601140022278, 0.9952502250671387, 0.994563639163971, 0.15403087437152863, 0.508620023727417, 0.28300854563713074, 0.0542156882584095, 0.04897092655301094, 0.9490227699279785, 0.43519285321235657, 0.5645333528518677, 0.9986786246299744, 0.995346188545227, 0.9706752300262451, 0.9994247555732727, 0.9981950521469116, 0.9960984587669373, 0.9988232254981995, 0.38618895411491394, 0.6131678223609924, 0.9921055436134338, 0.9992672204971313, 0.9991896748542786, 0.9982038736343384, 0.9088007211685181, 0.9932321906089783, 0.3626055121421814, 0.636195957660675, 0.9907200336456299, 0.9906540513038635, 0.957225501537323, 0.9998193979263306, 0.9942190647125244, 0.9730305075645447, 0.18581554293632507, 0.813535749912262, 0.9924061894416809, 0.9862430095672607, 0.9972903728485107, 0.9994091987609863, 0.9991437196731567, 0.17598870396614075, 0.002263520145788789, 0.8210919499397278, 0.998314380645752, 0.9961931109428406, 0.9957939982414246, 0.9995962381362915, 0.8868144154548645, 0.11307287961244583, 0.99208003282547, 0.9970872402191162, 0.674277126789093, 0.2874360680580139, 0.03712715953588486, 0.9936186671257019, 0.9995871782302856, 0.9949823021888733, 0.9941174387931824, 0.995546817779541, 0.9310749173164368, 0.6449507474899292, 0.3520745635032654, 0.3003149926662445, 0.6543828845024109, 0.04440455138683319, 0.9890365600585938, 0.04781929403543472, 0.7622957825660706, 0.007501065731048584, 0.013126865029335022, 0.1683051586151123, 0.9959253072738647, 0.5242325067520142, 0.33267083764076233, 0.14268584549427032, 0.9982295632362366, 0.9903441071510315, 0.9984923005104065, 0.994458794593811, 0.9990240931510925, 0.2380552440881729, 0.7570937275886536, 0.9742802977561951, 0.023762933909893036, 0.996963620185852, 0.9818716645240784, 0.9997574687004089, 0.4737384021282196, 0.09266829490661621, 0.43305474519729614, 0.007155972067266703, 0.9916132688522339, 0.9927949905395508, 0.9902851581573486, 0.8994669318199158, 0.022744644433259964, 0.008027521893382072, 0.1786123514175415, 0.7900419235229492, 0.9945214986801147, 0.9914371967315674, 0.9946842193603516, 0.9990193843841553, 0.9985528588294983, 0.9981008172035217, 0.9873028993606567, 0.99811190366745, 0.0018086417112499475, 0.9991620779037476, 0.9972637891769409, 0.9858208894729614, 0.9971078634262085, 0.04368704557418823, 0.3094499111175537, 0.6443839073181152, 0.9873060584068298, 0.931145191192627, 0.9646211862564087, 0.9950883388519287, 0.9948108196258545, 0.9760790467262268, 0.990212082862854, 0.6779203414916992, 0.07434526085853577, 0.03073238767683506, 0.21693450212478638, 0.9993032217025757, 0.9986060857772827, 0.37307417392730713, 0.527090847492218, 0.08169127255678177, 0.00962604209780693, 0.008585388772189617, 0.9912703037261963, 0.9985199570655823, 0.999849259853363, 0.9928158521652222, 0.9993014931678772, 0.977792501449585, 0.9981778860092163, 0.6080215573310852, 0.5046772956848145, 0.24376864731311798, 0.25148165225982666, 0.9981999397277832, 0.9850209355354309, 0.9985327124595642, 0.9974913001060486, 0.9971540570259094, 0.9940335154533386, 0.9045406579971313, 0.9992325305938721, 0.9895013570785522, 0.40852537751197815, 0.4160906672477722, 0.17508231103420258, 0.9926455020904541, 0.14544080197811127, 0.8518675565719604, 0.9983232021331787, 0.11286266893148422, 0.8831503987312317, 0.3092496395111084, 0.6891849040985107, 0.8027280569076538, 0.09723842889070511, 0.09986649453639984, 0.9867299795150757, 0.9943604469299316, 0.009645175188779831, 0.2852216064929962, 0.7045570611953735, 0.9876611232757568, 0.9924495816230774, 0.996469259262085, 0.9900792241096497, 0.9985172748565674, 0.983367919921875, 0.012798715382814407, 0.9981042742729187, 0.9835652709007263, 0.9970003366470337, 0.9948840141296387, 0.23159779608249664, 0.6285545229911804, 0.1205642819404602, 0.01858500763773918, 0.9985823631286621, 0.5302122235298157, 0.09951196610927582, 0.37006011605262756, 0.97957843542099, 0.9976798295974731, 0.996467649936676, 0.993472158908844, 0.9996433258056641, 0.9957963228225708, 0.990651547908783, 0.00918613001704216, 0.9372298121452332, 0.06248198822140694, 0.9994097352027893, 0.3244534432888031, 0.6752139329910278, 0.999485194683075, 0.9968560338020325, 0.9943451881408691, 0.9984928369522095, 0.9985324144363403, 0.9976511001586914, 0.9846325516700745, 0.9951871037483215, 0.9981403350830078, 0.9992704391479492, 0.44873395562171936, 0.2089793086051941, 0.043378595262765884, 0.2986674904823303, 0.9952625036239624, 0.9978107213973999, 0.9881688952445984, 0.9964140057563782, 0.9928068518638611, 0.9374381899833679, 0.9960238933563232, 0.9971226453781128, 0.9992139935493469, 0.9952043294906616, 0.9929310083389282, 0.9781230688095093, 0.14940637350082397, 0.2708236873149872, 0.014191634021699429, 0.5112930536270142, 0.025229571387171745, 0.028777480125427246, 0.9997324347496033, 0.9932413697242737, 0.9846460223197937, 0.18093590438365936, 0.0005642491742037237, 0.7671908140182495, 0.051158592104911804, 0.5372422933578491, 0.45357954502105713, 0.009004060178995132, 0.9982945322990417, 0.9996824860572815, 0.5315817594528198, 0.4678959250450134, 0.9897142052650452, 0.9952426552772522, 0.9949026703834534, 0.9980297684669495, 0.4500998854637146, 0.5497055649757385, 0.9993676543235779, 0.8731604218482971, 0.12672309577465057, 0.8791497349739075, 0.12077057361602783, 0.9953521490097046, 0.9927610158920288, 0.6222990155220032, 0.37756112217903137, 0.9860582947731018, 0.9531703591346741, 0.009201966226100922, 0.036807864904403687, 0.9950469732284546, 0.9973629713058472, 0.9975559115409851, 0.9900686740875244, 0.9936974048614502, 0.9846254587173462, 0.9916680455207825, 0.9924705028533936, 0.9776901602745056, 0.506921112537384, 0.49234843254089355, 0.9984297156333923, 0.9799483418464661, 0.019940808415412903, 0.8029828667640686, 0.9979555606842041, 0.9931598901748657, 0.8882665038108826, 0.11080081760883331, 0.0007971281302161515, 0.8971032500267029, 0.5093421339988708, 0.48831427097320557, 0.974470853805542, 0.9924122095108032, 0.5068342089653015, 0.0059163523837924, 0.4649971127510071, 0.0012677897466346622, 0.020988963544368744, 0.9992597103118896, 0.9959182143211365, 0.46705013513565063, 0.1942029744386673, 0.3378489911556244, 0.9961027503013611, 0.9920400977134705, 0.17328274250030518, 0.5466445684432983, 0.27689510583877563, 0.9986239671707153, 0.9965422749519348, 0.9998013973236084, 0.9985532760620117, 0.9947429895401001, 0.9982824325561523, 0.9897817373275757, 0.8400520086288452, 0.126058429479599, 0.010968939401209354, 0.02278164215385914, 0.9966607093811035, 0.9968081712722778, 0.9858981966972351, 0.919074296951294, 0.08002336323261261, 0.9996880292892456, 0.9936285018920898, 0.9943018555641174, 0.37147802114486694, 0.6279298663139343, 0.9835019111633301, 0.7264928817749023, 0.13150925934314728, 0.14081157743930817, 0.0009119920432567596, 0.23663336038589478, 0.447063684463501, 0.3156455159187317, 0.9960359930992126, 0.8910874128341675, 0.039386264979839325, 0.06955142319202423, 0.9999216198921204, 0.9956855177879333, 0.9975360631942749, 0.7315779328346252, 0.26815974712371826], \"Term\": [\"abc\", \"able\", \"accept\", \"accept\", \"accuracy\", \"adapter\", \"address\", \"address\", \"advance\", \"advance\", \"age\", \"age\", \"ahead\", \"air\", \"alaska\", \"algorithm\", \"allergic\", \"also\", \"also\", \"also\", \"also\", \"amendment\", \"american\", \"american\", \"american\", \"analysis\", \"analysis\", \"andrew_infante\", \"animation\", \"announcement\", \"anyone\", \"anyway\", \"application\", \"application\", \"arab\", \"archive\", \"area\", \"area\", \"argument\", \"argument\", \"arise\", \"article\", \"aside\", \"assembly\", \"atheist\", \"atmosphere\", \"author\", \"author\", \"authorize\", \"automatic\", \"automatic\", \"available\", \"available\", \"ax\", \"bacterial\", \"ban\", \"band\", \"baseball\", \"be\", \"become\", \"become\", \"begin\", \"begin\", \"belief\", \"believe\", \"believe\", \"believer\", \"benedikt\", \"benedikt_rosenau\", \"better\", \"bible\", \"bike\", \"bill\", \"bill\", \"bill\", \"bissell\", \"bit\", \"bit\", \"bitnet\", \"block\", \"block\", \"block\", \"blue\", \"bmw\", \"board\", \"board\", \"book\", \"book\", \"book\", \"borland\", \"boston\", \"box\", \"box\", \"brother\", \"brown\", \"bruce\", \"bureau\", \"bus\", \"california_institute\", \"call\", \"call\", \"call\", \"call\", \"caltech\", \"canada\", \"canadian\", \"canuck\", \"capability\", \"capital\", \"capture\", \"car\", \"card\", \"career\", \"carnegie_mellon\", \"case\", \"case\", \"case\", \"case\", \"case_western\", \"category\", \"cause\", \"cause\", \"cause\", \"cc\", \"cd\", \"center\", \"center\", \"center\", \"center\", \"center\", \"charge\", \"chicago\", \"chicago\", \"chief\", \"chinese\", \"chinese\", \"chinese_food\", \"chinese_restaurant\", \"chip\", \"christ\", \"christian\", \"christianity\", \"church\", \"circuit\", \"citizen\", \"city\", \"claim\", \"claim\", \"claim\", \"clinton_administration\", \"clipper\", \"clipper_chip\", \"clock\", \"close\", \"close\", \"close\", \"cmu\", \"code\", \"color\", \"com\", \"com\", \"comet\", \"commercial\", \"commercial\", \"communicate\", \"comparison\", \"compatible\", \"compiler\", \"complain\", \"component\", \"compute\", \"computer\", \"computer\", \"computing\", \"conclusion\", \"configuration\", \"congress\", \"constitution\", \"contact\", \"context\", \"continue\", \"convertible\", \"cookamunga_tourist\", \"cool\", \"cooperation\", \"copy\", \"corner\", \"corner\", \"could\", \"could\", \"could\", \"counter\", \"country\", \"country\", \"court\", \"court\", \"court_order\", \"cover\", \"coverage\", \"cpu\", \"crash\", \"create\", \"create\", \"create\", \"create\", \"crime\", \"criminal\", \"cryptography\", \"cult\", \"cup\", \"current\", \"current\", \"current\", \"cycle\", \"dalla\", \"dammit\", \"dan\", \"dare\", \"data\", \"datum\", \"datum\", \"davi\", \"david_sternlight\", \"day\", \"day\", \"day\", \"dayton\", \"dealer\", \"death\", \"death\", \"default\", \"department\", \"department\", \"department\", \"department\", \"design\", \"design\", \"design\", \"design\", \"deter\", \"develop\", \"develop\", \"die\", \"die\", \"diet\", \"difficulty\", \"directory\", \"disk\", \"display\", \"division\", \"do\", \"do\", \"docs\", \"documentation\", \"dodger\", \"dollar\", \"dos\", \"doug_bank\", \"draft\", \"drive\", \"driver\", \"drug\", \"drum\", \"duke\", \"durham\", \"earth\", \"earth\", \"earth\", \"east\", \"east\", \"edward\", \"electronic\", \"else\", \"email\", \"email\", \"encryption\", \"engine\", \"entry\", \"environmental\", \"espn\", \"eternal\", \"event\", \"evidence\", \"evil\", \"exact\", \"exact\", \"excellent\", \"exe\", \"exist\", \"exist\", \"exist\", \"exist\", \"existence\", \"export\", \"face\", \"face\", \"fact\", \"fact\", \"fact\", \"faith\", \"false\", \"false\", \"familiar\", \"family\", \"fan\", \"fascinating\", \"father\", \"fax\", \"feature\", \"feb\", \"federal\", \"fee\", \"feed\", \"field\", \"file\", \"final\", \"final\", \"final\", \"finger\", \"first\", \"first\", \"first\", \"flash\", \"floppy\", \"floppy_disk\", \"fm\", \"font\", \"food\", \"football\", \"frank\", \"fred_rice\", \"freedom\", \"freedom\", \"fulfil\", \"fully\", \"function\", \"function\", \"function\", \"functionality\", \"game\", \"gate\", \"gateway\", \"gather\", \"gay\", \"gerald\", \"gerald_olchowy\", \"germany\", \"get\", \"go\", \"go\", \"go\", \"goal\", \"god\", \"good\", \"good\", \"good\", \"gordon_bank\", \"govern\", \"government\", \"grace\", \"graphic\", \"greatly_appreciat\", \"gross\", \"group\", \"group\", \"gun\", \"hab\", \"hall\", \"hard\", \"hardware\", \"hardware\", \"hatch\", \"have\", \"havent_seen\", \"hawk\", \"head\", \"health\", \"health\", \"hear\", \"henry\", \"henry\", \"henry_spencer\", \"hewlett_packard\", \"hit\", \"hit\", \"hockey\", \"homosexual\", \"honda\", \"hopefully\", \"host\", \"host\", \"host_magnusug\", \"hour\", \"house\", \"human\", \"human\", \"ibm\", \"ignore\", \"ill\", \"illinoi\", \"image\", \"imply\", \"include\", \"include\", \"include\", \"industry\", \"industry\", \"infection\", \"info\", \"inform\", \"information\", \"information\", \"initiative\", \"input\", \"installation\", \"instrument\", \"intelligent\", \"interface\", \"internal\", \"internal\", \"internet\", \"invasion\", \"involve\", \"islam\", \"island\", \"israel\", \"israeli\", \"issue\", \"issue\", \"issue\", \"issue\", \"jeff\", \"jet\", \"job\", \"jupiter\", \"kent_sandvik\", \"key\", \"kid\", \"kill\", \"kill\", \"king\", \"kipling_utzoo\", \"know\", \"know\", \"lane\", \"laser\", \"last\", \"last\", \"last\", \"later\", \"later\", \"law\", \"law\", \"league\", \"leave\", \"leave\", \"lee\", \"legal\", \"legal\", \"legislation\", \"let\", \"let\", \"liberty\", \"library\", \"life\", \"life\", \"life\", \"limit\", \"line\", \"line\", \"list\", \"list\", \"list\", \"list\", \"live\", \"live\", \"load\", \"loan\", \"logo\", \"london\", \"look\", \"look\", \"loop\", \"lord\", \"lose\", \"lose\", \"lose\", \"lot\", \"love\", \"love\", \"ltd\", \"lunatic\", \"mac\", \"machine\", \"macro\", \"mail\", \"mailing_list\", \"make\", \"make\", \"make\", \"man\", \"man\", \"manager\", \"mans_work\", \"many\", \"many\", \"many\", \"mar\", \"marc\", \"marriage\", \"mathematic\", \"matthew\", \"max\", \"may\", \"may\", \"may\", \"may\", \"maybe\", \"mb\", \"mb\", \"md\", \"mean\", \"mean\", \"mean\", \"mean\", \"meet\", \"meeting\", \"meeting\", \"meg\", \"memory\", \"menu\", \"message\", \"message\", \"meter\", \"mhz\", \"microsoft\", \"mike\", \"mike_sturdevant\", \"mile\", \"mile\", \"militia\", \"minister\", \"mode\", \"model\", \"model\", \"monitor\", \"monthly\", \"montreal\", \"moon\", \"moral\", \"motif\", \"motion\", \"motor\", \"motorcycle\", \"msg\", \"much\", \"much\", \"multiple\", \"must\", \"must\", \"must\", \"must\", \"must\", \"mustang\", \"national\", \"national\", \"nature\", \"need\", \"need\", \"needless\", \"negotiable\", \"network\", \"network\", \"new\", \"new\", \"new\", \"newspaper\", \"nice\", \"nntp_post\", \"nntp_posting\", \"normal\", \"north_acpub\", \"not\", \"not\", \"notice\", \"nsa\", \"number\", \"number\", \"number\", \"number\", \"nuts\", \"oblige\", \"oil\", \"opt\", \"option\", \"orbit\", \"organization\", \"organization\", \"organization\", \"ought\", \"output\", \"owner\", \"package\", \"page\", \"page\", \"page\", \"pain\", \"palestinian\", \"panel\", \"patch\", \"pc\", \"penalty\", \"pennsylvania\", \"people\", \"people\", \"people\", \"people\", \"performance\", \"performance\", \"period\", \"period\", \"peter\", \"pgp\", \"phenomenon\", \"phone\", \"pin\", \"pitch\", \"pittsburgh\", \"place\", \"place\", \"planetary\", \"play\", \"player\", \"playoff\", \"pluto\", \"pointer\", \"police\", \"police\", \"policy_research\", \"pop\", \"pose\", \"post\", \"postscript\", \"pov\", \"power\", \"power\", \"predict\", \"prediction\", \"prepare\", \"president\", \"pretty\", \"price\", \"price\", \"price\", \"print\", \"printer\", \"privacy\", \"probably\", \"problem\", \"problem\", \"procedure\", \"proceed\", \"product\", \"product\", \"product\", \"professional\", \"program\", \"programmer\", \"prohibit\", \"prophecy\", \"proportion\", \"proposal\", \"proposal\", \"protect\", \"protect\", \"protect\", \"protest\", \"provide\", \"provide\", \"provide\", \"provide\", \"provide\", \"pub\", \"public\", \"public\", \"public\", \"publish\", \"purdue_university\", \"ram\", \"rarely\", \"rate\", \"rd\", \"rd\", \"reaction\", \"reaction\", \"reader\", \"reading\", \"really\", \"reason\", \"reason\", \"reason\", \"receive\", \"receive\", \"recognize\", \"recommendation\", \"reed\", \"reference\", \"reference\", \"reference\", \"reference\", \"register\", \"registration\", \"regulation\", \"religion\", \"religious\", \"remain\", \"replacement\", \"reply\", \"reply\", \"report\", \"reserve_university\", \"reset\", \"resolution\", \"resource\", \"resource\", \"resource\", \"respectively\", \"restaurant\", \"resurrection\", \"revelation\", \"ride\", \"rider\", \"ridiculous\", \"right\", \"right\", \"right\", \"right\", \"rise\", \"road\", \"run\", \"run\", \"run\", \"run\", \"run\", \"rush\", \"russian\", \"s\", \"salary\", \"sale\", \"sam\", \"satellite\", \"sauce\", \"say\", \"say\", \"say\", \"score\", \"scratch\", \"screen\", \"scripture\", \"scsi\", \"seal\", \"sean\", \"season\", \"seat\", \"second\", \"second\", \"second\", \"second_amendment\", \"secret\", \"secret\", \"section\", \"secure\", \"secure\", \"security\", \"security\", \"see\", \"see\", \"see\", \"selection\", \"semi\", \"send\", \"send\", \"send\", \"senior\", \"sequence\", \"serial\", \"serial_number\", \"server\", \"setup\", \"setup\", \"sex\", \"shadow\", \"shipping\", \"shop\", \"show\", \"show\", \"show\", \"show\", \"sign\", \"site\", \"site\", \"site\", \"slide\", \"slow\", \"snow\", \"socket\", \"software\", \"solar\", \"someone\", \"someone\", \"something\", \"something\", \"sound\", \"source\", \"source\", \"space\", \"spacecraft\", \"speaker\", \"specifically\", \"speed\", \"sport\", \"stable\", \"staff\", \"stand\", \"standard\", \"state\", \"state\", \"state\", \"state\", \"status\", \"steal\", \"steer\", \"steven\", \"stock\", \"stomach\", \"success\", \"summer\", \"sun\", \"sunday\", \"super\", \"superstition\", \"support\", \"support\", \"support\", \"support\", \"support\", \"support\", \"sure\", \"surrender\", \"syndrome\", \"system\", \"system\", \"system\", \"system\", \"take\", \"take\", \"take\", \"teach\", \"team\", \"technology\", \"technology\", \"technology_pasadena\", \"tel\", \"terminal\", \"text\", \"thank\", \"thank\", \"there\", \"thing\", \"thing\", \"think\", \"think\", \"tie\", \"tiger\", \"time\", \"time\", \"tire\", \"today\", \"today\", \"today\", \"todd\", \"together\", \"tom\", \"tonight\", \"toolkit\", \"toronto_chemistry\", \"toronto_zoology\", \"torture\", \"trace\", \"true\", \"true\", \"truth\", \"try\", \"try\", \"tuff\", \"uk\", \"united_state\", \"university\", \"university\", \"university\", \"university_braunschweig\", \"upgrade\", \"upgrade\", \"urbana\", \"usage\", \"use\", \"use\", \"use\", \"use\", \"use\", \"user\", \"van\", \"version\", \"version\", \"version\", \"video_card\", \"virus\", \"voice\", \"voice\", \"voice\", \"vote\", \"waco\", \"want\", \"war\", \"warning\", \"weapon\", \"weeks_ago\", \"well\", \"well\", \"well\", \"well\", \"white_house\", \"wide\", \"wilson\", \"win\", \"win\", \"window\", \"window_manager\", \"winnipeg_jet\", \"word\", \"word\", \"wordperfect\", \"work\", \"work\", \"work\", \"work\", \"world\", \"world\", \"world\", \"worship\", \"would\", \"would\", \"would\", \"write\", \"xlib\", \"xterm\", \"year\", \"year\"]}, \"R\": 30, \"lambda.step\": 0.01, \"plot.opts\": {\"xlab\": \"PC1\", \"ylab\": \"PC2\"}, \"topic.order\": [7, 3, 17, 2, 15, 20, 4, 9, 8, 19, 10, 16, 13, 12, 1, 14, 11, 6, 18, 5]};\n",
       "\n",
       "function LDAvis_load_lib(url, callback){\n",
       "  var s = document.createElement('script');\n",
       "  s.src = url;\n",
       "  s.async = true;\n",
       "  s.onreadystatechange = s.onload = callback;\n",
       "  s.onerror = function(){console.warn(\"failed to load library \" + url);};\n",
       "  document.getElementsByTagName(\"head\")[0].appendChild(s);\n",
       "}\n",
       "\n",
       "if(typeof(LDAvis) !== \"undefined\"){\n",
       "   // already loaded: just create the visualization\n",
       "   !function(LDAvis){\n",
       "       new LDAvis(\"#\" + \"ldavis_el10097225632984173045571073504\", ldavis_el10097225632984173045571073504_data);\n",
       "   }(LDAvis);\n",
       "}else if(typeof define === \"function\" && define.amd){\n",
       "   // require.js is available: use it to load d3/LDAvis\n",
       "   require.config({paths: {d3: \"https://cdnjs.cloudflare.com/ajax/libs/d3/3.5.5/d3.min\"}});\n",
       "   require([\"d3\"], function(d3){\n",
       "      window.d3 = d3;\n",
       "      LDAvis_load_lib(\"https://cdn.rawgit.com/bmabey/pyLDAvis/files/ldavis.v1.0.0.js\", function(){\n",
       "        new LDAvis(\"#\" + \"ldavis_el10097225632984173045571073504\", ldavis_el10097225632984173045571073504_data);\n",
       "      });\n",
       "    });\n",
       "}else{\n",
       "    // require.js not available: dynamically load d3 & LDAvis\n",
       "    LDAvis_load_lib(\"https://cdnjs.cloudflare.com/ajax/libs/d3/3.5.5/d3.min.js\", function(){\n",
       "         LDAvis_load_lib(\"https://cdn.rawgit.com/bmabey/pyLDAvis/files/ldavis.v1.0.0.js\", function(){\n",
       "                 new LDAvis(\"#\" + \"ldavis_el10097225632984173045571073504\", ldavis_el10097225632984173045571073504_data);\n",
       "            })\n",
       "         });\n",
       "}\n",
       "</script>"
      ],
      "text/plain": [
       "PreparedData(topic_coordinates=              x         y  topics  cluster       Freq\n",
       "topic                                                \n",
       "6     -0.394891 -0.081634       1        1  43.448093\n",
       "2     -0.368373 -0.091373       2        1  21.767868\n",
       "16    -0.324016 -0.118205       3        1   7.682765\n",
       "1     -0.202471  0.063899       4        1   7.047361\n",
       "14    -0.097278  0.449184       5        1   4.832155\n",
       "19    -0.082684  0.026646       6        1   2.470278\n",
       "3      0.000043  0.059430       7        1   2.089981\n",
       "8     -0.035489 -0.030181       8        1   1.953451\n",
       "7     -0.007531  0.001796       9        1   1.818782\n",
       "18     0.053217  0.008157      10        1   1.693409\n",
       "9      0.094740  0.004511      11        1   0.990209\n",
       "15     0.118963 -0.012868      12        1   0.970165\n",
       "12     0.120636 -0.018527      13        1   0.793902\n",
       "11     0.129028 -0.021017      14        1   0.761307\n",
       "0      0.130755 -0.022177      15        1   0.638080\n",
       "13     0.157644 -0.037874      16        1   0.373758\n",
       "10     0.163049 -0.038727      17        1   0.304492\n",
       "5      0.178327 -0.045484      18        1   0.186020\n",
       "17     0.180300 -0.046886      19        1   0.118931\n",
       "4      0.186031 -0.048671      20        1   0.058998, topic_info=      Category          Freq                    Term         Total  loglift  \\\n",
       "4102   Default  63111.000000                      ax  63111.000000  30.0000   \n",
       "80     Default  25105.000000                     not  25105.000000  29.0000   \n",
       "48     Default   5459.000000                    year   5459.000000  28.0000   \n",
       "3679   Default   4455.000000                     max   4455.000000  27.0000   \n",
       "30     Default  16451.000000            organization  16451.000000  26.0000   \n",
       "672    Default   4425.000000                   right   4425.000000  25.0000   \n",
       "316    Default   7098.000000                     use   7098.000000  24.0000   \n",
       "21     Default  18478.000000                    line  18478.000000  23.0000   \n",
       "210    Default   2391.000000                  window   2391.000000  22.0000   \n",
       "201    Default   5316.000000                  system   5316.000000  21.0000   \n",
       "322    Default  14286.000000                   write  14286.000000  20.0000   \n",
       "63     Default  15776.000000                      do  15776.000000  19.0000   \n",
       "1880   Default   2862.000000                   space   2862.000000  18.0000   \n",
       "729    Default   2689.000000                    file   2689.000000  17.0000   \n",
       "410    Default   7543.000000                  people   7543.000000  16.0000   \n",
       "301    Default  10501.000000                     say  10501.000000  15.0000   \n",
       "668    Default   4333.000000                 problem   4333.000000  14.0000   \n",
       "260    Default   2696.000000                   drive   2696.000000  13.0000   \n",
       "336    Default   3411.000000                   state   3411.000000  12.0000   \n",
       "58     Default   2628.000000                    card   2628.000000  11.0000   \n",
       "6      Default   2165.000000                     car   2165.000000  10.0000   \n",
       "241    Default  12304.000000                      be  12304.000000   9.0000   \n",
       "2697   Default   2615.000000                    game   2615.000000   8.0000   \n",
       "561    Default   2483.000000                    team   2483.000000   7.0000   \n",
       "53     Default  11208.000000                 article  11208.000000   6.0000   \n",
       "1344   Default   2271.000000              government   2271.000000   5.0000   \n",
       "549    Default   6832.000000                    good   6832.000000   4.0000   \n",
       "116    Default  10320.000000                     get  10320.000000   3.0000   \n",
       "106    Default   2273.000000                     bit   2273.000000   2.0000   \n",
       "747    Default   1985.000000                     key   1985.000000   1.0000   \n",
       "...        ...           ...                     ...           ...      ...   \n",
       "16244  Topic20      0.011281                  laptop      1.141261   2.8187   \n",
       "31486  Topic20      0.011279                   darin      1.141226   2.8185   \n",
       "14544  Topic20      0.011279                     fox      1.141228   2.8185   \n",
       "69820  Topic20      0.011277               cubs_suck      1.141225   2.8184   \n",
       "71011  Topic20      0.011277                     sxl      1.141212   2.8184   \n",
       "32535  Topic20      0.011277               compudyne      1.141212   2.8184   \n",
       "37838  Topic20      0.011277                seinfeld      1.141213   2.8184   \n",
       "11406  Topic20      0.011277         graduate_school      1.141213   2.8184   \n",
       "37886  Topic20      0.011277              grey_scale      1.141214   2.8184   \n",
       "12561  Topic20      0.011277        math_coprocessor      1.141214   2.8184   \n",
       "18773  Topic20      0.011277                  johnny      1.141214   2.8184   \n",
       "9151   Topic20      0.011277              monochrome      1.141224   2.8183   \n",
       "10070  Topic20      0.011277              best_offer      1.141229   2.8183   \n",
       "11214  Topic20      0.011277                     vga      1.141257   2.8183   \n",
       "25016  Topic20      0.011276                    macx      1.141210   2.8183   \n",
       "50439  Topic20      0.011276               stan_kerr      1.141206   2.8183   \n",
       "5117   Topic20      0.011276                 repaint      1.141205   2.8183   \n",
       "32333  Topic20      0.011276                 rollout      1.141201   2.8183   \n",
       "2860   Topic20      0.011276             closed_door      1.141202   2.8183   \n",
       "38566  Topic20      0.011276             autodoubler      1.141201   2.8183   \n",
       "32659  Topic20      0.011276                    stac      1.141201   2.8183   \n",
       "6471   Topic20      0.011276  communications_service      1.141205   2.8183   \n",
       "35833  Topic20      0.011276                  shrill      1.141200   2.8183   \n",
       "24784  Topic20      0.011276                peculiar      1.141202   2.8183   \n",
       "19102  Topic20      0.011276            misc_forsale      1.141203   2.8183   \n",
       "33441  Topic20      0.011276                  korash      1.141200   2.8183   \n",
       "4247   Topic20      0.011276                  client      1.141264   2.8182   \n",
       "4372   Topic20      0.011276                 patrick      1.141221   2.8183   \n",
       "4032   Topic20      0.011276                   apple      1.141256   2.8182   \n",
       "5092   Topic20      0.011276                    tape      1.141249   2.8182   \n",
       "\n",
       "       logprob  \n",
       "4102   30.0000  \n",
       "80     29.0000  \n",
       "48     28.0000  \n",
       "3679   27.0000  \n",
       "30     26.0000  \n",
       "672    25.0000  \n",
       "316    24.0000  \n",
       "21     23.0000  \n",
       "210    22.0000  \n",
       "201    21.0000  \n",
       "322    20.0000  \n",
       "63     19.0000  \n",
       "1880   18.0000  \n",
       "729    17.0000  \n",
       "410    16.0000  \n",
       "301    15.0000  \n",
       "668    14.0000  \n",
       "260    13.0000  \n",
       "336    12.0000  \n",
       "58     11.0000  \n",
       "6      10.0000  \n",
       "241     9.0000  \n",
       "2697    8.0000  \n",
       "561     7.0000  \n",
       "53      6.0000  \n",
       "1344    5.0000  \n",
       "549     4.0000  \n",
       "116     3.0000  \n",
       "106     2.0000  \n",
       "747     1.0000  \n",
       "...        ...  \n",
       "16244 -11.3251  \n",
       "31486 -11.3254  \n",
       "14544 -11.3254  \n",
       "69820 -11.3255  \n",
       "71011 -11.3255  \n",
       "32535 -11.3255  \n",
       "37838 -11.3255  \n",
       "11406 -11.3255  \n",
       "37886 -11.3255  \n",
       "12561 -11.3255  \n",
       "18773 -11.3255  \n",
       "9151  -11.3255  \n",
       "10070 -11.3255  \n",
       "11214 -11.3255  \n",
       "25016 -11.3255  \n",
       "50439 -11.3256  \n",
       "5117  -11.3256  \n",
       "32333 -11.3256  \n",
       "2860  -11.3256  \n",
       "38566 -11.3256  \n",
       "32659 -11.3256  \n",
       "6471  -11.3256  \n",
       "35833 -11.3256  \n",
       "24784 -11.3256  \n",
       "19102 -11.3256  \n",
       "33441 -11.3256  \n",
       "4247  -11.3256  \n",
       "4372  -11.3256  \n",
       "4032  -11.3256  \n",
       "5092  -11.3256  \n",
       "\n",
       "[821 rows x 6 columns], token_table=      Topic      Freq            Term\n",
       "term                                 \n",
       "627      14  0.985263             abc\n",
       "939       1  0.999412            able\n",
       "2620      1  0.308152          accept\n",
       "2620      3  0.691107          accept\n",
       "3378     13  0.987743        accuracy\n",
       "50       10  0.996861         adapter\n",
       "689       2  0.080995         address\n",
       "689       4  0.918154         address\n",
       "339       1  0.062933         advance\n",
       "339       4  0.935952         advance\n",
       "1531      2  0.985154             age\n",
       "1531      6  0.014595             age\n",
       "3244      6  0.995471           ahead\n",
       "629      14  0.998496             air\n",
       "905      11  0.992586          alaska\n",
       "498       9  0.997532       algorithm\n",
       "1532     19  0.909047        allergic\n",
       "384       1  0.399834            also\n",
       "384       2  0.291347            also\n",
       "384       3  0.059441            also\n",
       "384       4  0.249329            also\n",
       "2105      8  0.995847       amendment\n",
       "1233      2  0.534522        american\n",
       "1233      6  0.120184        american\n",
       "1233      8  0.344617        american\n",
       "3053      3  0.135346        analysis\n",
       "3053     10  0.860412        analysis\n",
       "1617     17  0.819418  andrew_infante\n",
       "1778      9  0.993171       animation\n",
       "3379     13  0.996036    announcement\n",
       "...     ...       ...             ...\n",
       "147       2  0.126058            well\n",
       "147       3  0.010969            well\n",
       "147       6  0.022782            well\n",
       "3387     13  0.996661     white_house\n",
       "1075      4  0.996808            wide\n",
       "382       5  0.985898          wilson\n",
       "233       6  0.919074             win\n",
       "233      15  0.080023             win\n",
       "210      15  0.999688          window\n",
       "3458     13  0.993629  window_manager\n",
       "686      11  0.994302    winnipeg_jet\n",
       "424       1  0.371478            word\n",
       "424       3  0.627930            word\n",
       "211      15  0.983502     wordperfect\n",
       "425       1  0.726493            work\n",
       "425       2  0.131509            work\n",
       "425       4  0.140812            work\n",
       "425       7  0.000912            work\n",
       "495       1  0.236633           world\n",
       "495       2  0.447064           world\n",
       "495       3  0.315646           world\n",
       "497       3  0.996036         worship\n",
       "149       1  0.891087           would\n",
       "149       2  0.039386           would\n",
       "149       3  0.069551           would\n",
       "322       1  0.999922           write\n",
       "3377     10  0.995686            xlib\n",
       "2071     12  0.997536           xterm\n",
       "48        2  0.731578            year\n",
       "48        6  0.268160            year\n",
       "\n",
       "[958 rows x 3 columns], R=30, lambda_step=0.01, plot_opts={'xlab': 'PC1', 'ylab': 'PC2'}, topic_order=[7, 3, 17, 2, 15, 20, 4, 9, 8, 19, 10, 16, 13, 12, 1, 14, 11, 6, 18, 5])"
      ]
     },
     "execution_count": 19,
     "metadata": {},
     "output_type": "execute_result"
    }
   ],
   "source": [
    "# Visualize the topics\n",
    "pyLDAvis.enable_notebook()\n",
    "vis = pyLDAvis.gensim.prepare(lda_model, corpus, id2word)\n",
    "vis"
   ]
  },
  {
   "cell_type": "markdown",
   "metadata": {
    "hidden": true
   },
   "source": [
    "So how to infer pyLDAvis’s output?\n",
    "\n",
    "Each bubble on the left-hand side plot represents a topic. The larger the bubble, the more prevalent is that topic.\n",
    "\n",
    "A good topic model will have fairly big, non-overlapping bubbles scattered throughout the chart instead of being clustered in one quadrant.\n",
    "\n",
    "A model with too many topics, will typically have many overlaps, small sized bubbles clustered in one region of the chart.\n",
    "\n",
    "Alright, if you move the cursor over one of the bubbles, the words and bars on the right-hand side will update. These words are the salient keywords that form the selected topic.\n",
    "\n",
    "We have successfully built a good looking topic model.\n",
    "\n",
    "Given our prior knowledge of the number of natural topics in the document, finding the best model was fairly straightforward.\n",
    "\n",
    "Upnext, we will improve upon this model by using Mallet’s version of LDA algorithm and then we will focus on how to arrive at the optimal number of topics given any large corpus of text."
   ]
  },
  {
   "cell_type": "markdown",
   "metadata": {
    "heading_collapsed": true
   },
   "source": [
    "# Building LDA Mallet Model"
   ]
  },
  {
   "cell_type": "markdown",
   "metadata": {
    "hidden": true
   },
   "source": [
    "So far you have seen Gensim’s inbuilt version of the LDA algorithm. Mallet’s version, however, often gives a better quality of topics.\n",
    "\n",
    "Gensim provides a wrapper to implement Mallet’s LDA from within Gensim itself. You only need to download the zipfile, unzip it and provide the path to mallet in the unzipped directory to gensim.models.wrappers.LdaMallet. See how I have done this below."
   ]
  },
  {
   "cell_type": "code",
   "execution_count": 44,
   "metadata": {
    "ExecuteTime": {
     "end_time": "2020-04-17T16:49:55.010229Z",
     "start_time": "2020-04-17T16:47:12.984431Z"
    },
    "hidden": true
   },
   "outputs": [],
   "source": [
    "# Download File: http://mallet.cs.umass.edu/dist/mallet-2.0.8.zip\n",
    "\n",
    "import os \n",
    "os.environ.update({r'MALLET_HOME':'C:/Users/saurabhkumar9/Desktop/NLP-l1/mallet-2.0.8/'})\n",
    "\n",
    "mallet_path = r\"C:\\Users\\saurabhkumar9\\Desktop\\NLP-l1\\mallet-2.0.8\\bin\\mallet\" # update this path will work only on desktop\n",
    "ldamallet = gensim.models.wrappers.LdaMallet(mallet_path, corpus=corpus, num_topics=20, id2word=id2word)"
   ]
  },
  {
   "cell_type": "code",
   "execution_count": 45,
   "metadata": {
    "ExecuteTime": {
     "end_time": "2020-04-17T16:50:49.732946Z",
     "start_time": "2020-04-17T16:49:55.016146Z"
    },
    "hidden": true
   },
   "outputs": [
    {
     "name": "stdout",
     "output_type": "stream",
     "text": [
      "[(17,\n",
      "  [('mail', 0.026059457927475053),\n",
      "   ('post', 0.022837452825966973),\n",
      "   ('send', 0.01752711108459255),\n",
      "   ('information', 0.017407777562314472),\n",
      "   ('list', 0.014409522815077791),\n",
      "   ('group', 0.014155939080236877),\n",
      "   ('book', 0.0132609376631513),\n",
      "   ('address', 0.012723936812899954),\n",
      "   ('internet', 0.012306269484926684),\n",
      "   ('email', 0.01169468518325154)]),\n",
      " (2,\n",
      "  [('organization', 0.059436168369998266),\n",
      "   ('line', 0.05887320284081067),\n",
      "   ('write', 0.0550623592586177),\n",
      "   ('article', 0.04146457647670189),\n",
      "   ('bike', 0.01520006928806513),\n",
      "   ('ca', 0.01121600554304521),\n",
      "   ('host', 0.01073965009527109),\n",
      "   ('reply', 0.010025116923609908),\n",
      "   ('ride', 0.009570413996189157),\n",
      "   ('dod', 0.008271262774987008)]),\n",
      " (19,\n",
      "  [('make', 0.028461549337593848),\n",
      "   ('work', 0.018734005401049105),\n",
      "   ('people', 0.01832397811302614),\n",
      "   ('thing', 0.0178856730810016),\n",
      "   ('time', 0.01351676163275694),\n",
      "   ('money', 0.011381791960637381),\n",
      "   ('president', 0.010081015736564537),\n",
      "   ('question', 0.009458905368529698),\n",
      "   ('give', 0.009416488752527324),\n",
      "   ('job', 0.00930337777652099)]),\n",
      " (8,\n",
      "  [('car', 0.028031142093947487),\n",
      "   ('good', 0.018567984885008795),\n",
      "   ('buy', 0.01465893543553326),\n",
      "   ('sell', 0.012199491823571568),\n",
      "   ('sale', 0.011189654049123721),\n",
      "   ('price', 0.01117336634308424),\n",
      "   ('drive', 0.008404456316372402),\n",
      "   ('article', 0.00732946771776663),\n",
      "   ('make', 0.006905987360740114),\n",
      "   ('engine', 0.00640106847351619)]),\n",
      " (1,\n",
      "  [('god', 0.024071866732563885),\n",
      "   ('christian', 0.014603986781792986),\n",
      "   ('people', 0.009526024556405112),\n",
      "   ('bible', 0.007355292612727854),\n",
      "   ('word', 0.0072971480070936415),\n",
      "   ('religion', 0.00643466969018616),\n",
      "   ('exist', 0.006405597387369053),\n",
      "   ('question', 0.00625054510567782),\n",
      "   ('church', 0.006143946662015098),\n",
      "   ('make', 0.006114874359197992)]),\n",
      " (5,\n",
      "  [('drive', 0.02277820327348027),\n",
      "   ('card', 0.018693444529543586),\n",
      "   ('problem', 0.016253935835248062),\n",
      "   ('system', 0.015374578050095027),\n",
      "   ('window', 0.014154823702947267),\n",
      "   ('scsi', 0.012537940033472328),\n",
      "   ('driver', 0.012325192182225626),\n",
      "   ('mac', 0.010935239554080503),\n",
      "   ('work', 0.009942416248262559),\n",
      "   ('disk', 0.009687118826766516)]),\n",
      " (13,\n",
      "  [('ax', 0.857823507059133),\n",
      "   ('max', 0.05876764783256847),\n",
      "   ('qax', 0.0020461255151851742),\n",
      "   ('qq', 0.0016807459589021074),\n",
      "   ('mb', 0.001125369033351846),\n",
      "   ('giz', 0.0009061412995820058),\n",
      "   ('mf', 0.0007307591125661337),\n",
      "   ('bs', 0.0006869135658121657),\n",
      "   ('sl', 0.000672298383560843),\n",
      "   ('mq', 0.0006138376545555523)]),\n",
      " (3,\n",
      "  [('line', 0.10790561013681021),\n",
      "   ('organization', 0.10471031126618309),\n",
      "   ('university', 0.07793591038472134),\n",
      "   ('host', 0.06603617665962722),\n",
      "   ('write', 0.05993939950417776),\n",
      "   ('article', 0.05158387659535396),\n",
      "   ('nntp_post', 0.036892847305114315),\n",
      "   ('nntp_posting', 0.03461573776512717),\n",
      "   ('reply', 0.026535671655495363),\n",
      "   ('distribution_world', 0.012542466256542099)]),\n",
      " (0,\n",
      "  [('file', 0.03167376511479904),\n",
      "   ('line', 0.021719619457907017),\n",
      "   ('read', 0.016644637000048954),\n",
      "   ('program', 0.012858797996116252),\n",
      "   ('number', 0.012010247874545129),\n",
      "   ('set', 0.011585972813759567),\n",
      "   ('point', 0.011210652567680031),\n",
      "   ('write', 0.010590558248070365),\n",
      "   ('change', 0.010492648618658312),\n",
      "   ('problem', 0.010149964915716127)]),\n",
      " (9,\n",
      "  [('good', 0.023374959974383606),\n",
      "   ('year', 0.021186892944818018),\n",
      "   ('game', 0.013057245526025545),\n",
      "   ('line', 0.012630305617817625),\n",
      "   ('run', 0.012061052406873732),\n",
      "   ('organization', 0.010033087842886115),\n",
      "   ('win', 0.009695093748888177),\n",
      "   ('hit', 0.009570569608994202),\n",
      "   ('player', 0.009196997189312271),\n",
      "   ('write', 0.009143629700786282)])]\n",
      "\n",
      "Coherence Score:  0.6257125192869721\n"
     ]
    }
   ],
   "source": [
    "# Show Topics\n",
    "pprint(ldamallet.show_topics(formatted=False))\n",
    "\n",
    "# Compute Coherence Score\n",
    "coherence_model_ldamallet = CoherenceModel(model=ldamallet, texts=data_lemmatized, dictionary=id2word, coherence='c_v')\n",
    "coherence_ldamallet = coherence_model_ldamallet.get_coherence()\n",
    "print('\\nCoherence Score: ', coherence_ldamallet)"
   ]
  },
  {
   "cell_type": "markdown",
   "metadata": {
    "hidden": true
   },
   "source": [
    "Just by changing the LDA algorithm, we increased the coherence score from .53 to .63. Not bad!"
   ]
  },
  {
   "cell_type": "markdown",
   "metadata": {
    "heading_collapsed": true
   },
   "source": [
    "# How to find the optimal number of topics for LDA?\n",
    "\n",
    "My approach to finding the optimal number of topics is to build many LDA models with different values of number of topics (k) and pick the one that gives the highest coherence value.\n",
    "\n",
    "Choosing a ‘k’ that marks the end of a rapid growth of topic coherence usually offers meaningful and interpretable topics. Picking an even higher value can sometimes provide more granular sub-topics.\n",
    "\n",
    "If you see the same keywords being repeated in multiple topics, it’s probably a sign that the ‘k’ is too large.\n",
    "\n",
    "The compute_coherence_values() (see below) trains multiple LDA models and provides the models and their corresponding coherence scores."
   ]
  },
  {
   "cell_type": "code",
   "execution_count": null,
   "metadata": {
    "hidden": true
   },
   "outputs": [],
   "source": [
    "def compute_coherence_values(dictionary, corpus, texts, limit, start=2, step=3):\n",
    "    \"\"\"\n",
    "    Compute c_v coherence for various number of topics\n",
    "\n",
    "    Parameters:\n",
    "    ----------\n",
    "    dictionary : Gensim dictionary\n",
    "    corpus : Gensim corpus\n",
    "    texts : List of input texts\n",
    "    limit : Max num of topics\n",
    "\n",
    "    Returns:\n",
    "    -------\n",
    "    model_list : List of LDA topic models\n",
    "    coherence_values : Coherence values corresponding to the LDA model with respective number of topics\n",
    "    \"\"\"\n",
    "    coherence_values = []\n",
    "    model_list = []\n",
    "    for num_topics in range(start, limit, step):\n",
    "        model = gensim.models.wrappers.LdaMallet(mallet_path, corpus=corpus, num_topics=num_topics, id2word=id2word)\n",
    "        model_list.append(model)\n",
    "        coherencemodel = CoherenceModel(model=model, texts=texts, dictionary=dictionary, coherence='c_v')\n",
    "        coherence_values.append(coherencemodel.get_coherence())\n",
    "\n",
    "    return model_list, coherence_values"
   ]
  },
  {
   "cell_type": "code",
   "execution_count": null,
   "metadata": {
    "hidden": true
   },
   "outputs": [],
   "source": [
    "# Can take a long time to run.\n",
    "model_list, coherence_values = compute_coherence_values(dictionary=id2word, corpus=corpus, texts=data_lemmatized, start=2, limit=40, step=6)"
   ]
  },
  {
   "cell_type": "code",
   "execution_count": null,
   "metadata": {
    "hidden": true
   },
   "outputs": [],
   "source": [
    "# Show graph\n",
    "limit=40; start=2; step=6;\n",
    "x = range(start, limit, step)\n",
    "plt.plot(x, coherence_values)\n",
    "plt.xlabel(\"Num Topics\")\n",
    "plt.ylabel(\"Coherence score\")\n",
    "plt.legend((\"coherence_values\"), loc='best')\n",
    "plt.show()"
   ]
  },
  {
   "cell_type": "code",
   "execution_count": null,
   "metadata": {
    "hidden": true
   },
   "outputs": [],
   "source": [
    "# Print the coherence scores\n",
    "for m, cv in zip(x, coherence_values):\n",
    "    print(\"Num Topics =\", m, \" has Coherence Value of\", round(cv, 4))"
   ]
  },
  {
   "cell_type": "markdown",
   "metadata": {
    "hidden": true
   },
   "source": [
    "If the coherence score seems to keep increasing, it may make better sense to pick the model that gave the highest CV before flattening out. This is exactly the case here.\n",
    "\n",
    "So for continuing with 20 topics for now."
   ]
  },
  {
   "cell_type": "code",
   "execution_count": null,
   "metadata": {
    "hidden": true
   },
   "outputs": [],
   "source": [
    "# Select the model and print the topics\n",
    "optimal_model = model_list[3]\n",
    "model_topics = optimal_model.show_topics(formatted=False)\n",
    "pprint(optimal_model.print_topics(num_words=10))"
   ]
  },
  {
   "cell_type": "markdown",
   "metadata": {
    "heading_collapsed": true
   },
   "source": [
    "# Finding the dominant topic in each sentence\n",
    "\n",
    "One of the practical application of topic modeling is to determine what topic a given document is about.\n",
    "\n",
    "To find that, we find the topic number that has the highest percentage contribution in that document.\n",
    "\n",
    "The **format_topics_sentences()** function below nicely aggregates this information in a presentable table."
   ]
  },
  {
   "cell_type": "code",
   "execution_count": null,
   "metadata": {
    "hidden": true
   },
   "outputs": [],
   "source": [
    "def format_topics_sentences(ldamodel=lda_model, corpus=corpus, texts=data):\n",
    "    # Init output\n",
    "    sent_topics_df = pd.DataFrame()\n",
    "\n",
    "    # Get main topic in each document\n",
    "    for i, row in enumerate(ldamodel[corpus]):\n",
    "        row = sorted(row, key=lambda x: (x[1]), reverse=True)\n",
    "        # Get the Dominant topic, Perc Contribution and Keywords for each document\n",
    "        for j, (topic_num, prop_topic) in enumerate(row):\n",
    "            if j == 0:  # => dominant topic\n",
    "                wp = ldamodel.show_topic(topic_num)\n",
    "                topic_keywords = \", \".join([word for word, prop in wp])\n",
    "                sent_topics_df = sent_topics_df.append(pd.Series([int(topic_num), round(prop_topic,4), topic_keywords]), ignore_index=True)\n",
    "            else:\n",
    "                break\n",
    "    sent_topics_df.columns = ['Dominant_Topic', 'Perc_Contribution', 'Topic_Keywords']\n",
    "\n",
    "    # Add original text to the end of the output\n",
    "    contents = pd.Series(texts)\n",
    "    sent_topics_df = pd.concat([sent_topics_df, contents], axis=1)\n",
    "    return(sent_topics_df)\n",
    "\n",
    "\n",
    "df_topic_sents_keywords = format_topics_sentences(ldamodel=optimal_model, corpus=corpus, texts=data)\n",
    "\n",
    "# Format\n",
    "df_dominant_topic = df_topic_sents_keywords.reset_index()\n",
    "df_dominant_topic.columns = ['Document_No', 'Dominant_Topic', 'Topic_Perc_Contrib', 'Keywords', 'Text']\n",
    "\n",
    "# Show\n",
    "df_dominant_topic.head(10)"
   ]
  },
  {
   "cell_type": "markdown",
   "metadata": {
    "heading_collapsed": true
   },
   "source": [
    "# Find the most representative document for each topic\n",
    "\n",
    "Sometimes just the topic keywords may not be enough to make sense of what a topic is about. So, to help with understanding the topic, you can find the documents a given topic has contributed to the most and infer the topic by reading that document. Whew!!"
   ]
  },
  {
   "cell_type": "code",
   "execution_count": null,
   "metadata": {
    "hidden": true
   },
   "outputs": [],
   "source": [
    "# Group top 5 sentences under each topic\n",
    "sent_topics_sorteddf_mallet = pd.DataFrame()\n",
    "\n",
    "sent_topics_outdf_grpd = df_topic_sents_keywords.groupby('Dominant_Topic')\n",
    "\n",
    "for i, grp in sent_topics_outdf_grpd:\n",
    "    sent_topics_sorteddf_mallet = pd.concat([sent_topics_sorteddf_mallet, \n",
    "                                             grp.sort_values(['Perc_Contribution'], ascending=[0]).head(1)], \n",
    "                                            axis=0)\n",
    "\n",
    "# Reset Index    \n",
    "sent_topics_sorteddf_mallet.reset_index(drop=True, inplace=True)\n",
    "\n",
    "# Format\n",
    "sent_topics_sorteddf_mallet.columns = ['Topic_Num', \"Topic_Perc_Contrib\", \"Keywords\", \"Text\"]\n",
    "\n",
    "# Show\n",
    "sent_topics_sorteddf_mallet.head()"
   ]
  },
  {
   "cell_type": "markdown",
   "metadata": {
    "hidden": true
   },
   "source": [
    "The tabular output above actually has 20 rows, one each for a topic. It has the topic number, the keywords, and the most representative document. The Perc_Contribution column is nothing but the percentage contribution of the topic in the given document."
   ]
  },
  {
   "cell_type": "markdown",
   "metadata": {
    "heading_collapsed": true
   },
   "source": [
    "# Topic distribution across documents\n",
    "\n",
    "Finally, we want to understand the volume and distribution of topics in order to judge how widely it was discussed. The below table exposes that information."
   ]
  },
  {
   "cell_type": "code",
   "execution_count": null,
   "metadata": {
    "hidden": true
   },
   "outputs": [],
   "source": [
    "# Number of Documents for Each Topic\n",
    "topic_counts = df_topic_sents_keywords['Dominant_Topic'].value_counts()\n",
    "\n",
    "# Percentage of Documents for Each Topic\n",
    "topic_contribution = round(topic_counts/topic_counts.sum(), 4)\n",
    "\n",
    "# Topic Number and Keywords\n",
    "topic_num_keywords = df_topic_sents_keywords[['Dominant_Topic', 'Topic_Keywords']]\n",
    "\n",
    "# Concatenate Column wise\n",
    "df_dominant_topics = pd.concat([topic_num_keywords, topic_counts, topic_contribution], axis=1)\n",
    "\n",
    "# Change Column names\n",
    "df_dominant_topics.columns = ['Dominant_Topic', 'Topic_Keywords', 'Num_Documents', 'Perc_Documents']\n",
    "\n",
    "# Show\n",
    "df_dominant_topics"
   ]
  },
  {
   "cell_type": "markdown",
   "metadata": {
    "heading_collapsed": true
   },
   "source": [
    "# Conclusion"
   ]
  },
  {
   "cell_type": "markdown",
   "metadata": {
    "hidden": true
   },
   "source": [
    "We started with understanding what topic modeling can do. We built a basic topic model using Gensim’s LDA and visualize the topics using pyLDAvis. Then we built mallet’s LDA implementation. You saw how to find the optimal number of topics using coherence scores and how you can come to a logical understanding of how to choose the optimal model.\n",
    "\n",
    "Finally we saw how to aggregate and present the results to generate insights that may be in a more actionable.\n",
    "\n",
    "Hope you enjoyed reading this. I would appreciate if you leave your thoughts in the comments section below."
   ]
  }
 ],
 "metadata": {
  "hide_input": false,
  "kernelspec": {
   "display_name": "spyder",
   "language": "python",
   "name": "spyder"
  },
  "language_info": {
   "codemirror_mode": {
    "name": "ipython",
    "version": 3
   },
   "file_extension": ".py",
   "mimetype": "text/x-python",
   "name": "python",
   "nbconvert_exporter": "python",
   "pygments_lexer": "ipython3",
   "version": "3.7.3"
  },
  "toc": {
   "base_numbering": 1,
   "nav_menu": {},
   "number_sections": true,
   "sideBar": true,
   "skip_h1_title": false,
   "title_cell": "Table of Contents",
   "title_sidebar": "Contents",
   "toc_cell": false,
   "toc_position": {
    "height": "calc(100% - 180px)",
    "left": "10px",
    "top": "150px",
    "width": "307.2px"
   },
   "toc_section_display": true,
   "toc_window_display": true
  }
 },
 "nbformat": 4,
 "nbformat_minor": 2
}
